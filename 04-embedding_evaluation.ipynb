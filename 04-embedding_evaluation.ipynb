{
 "cells": [
  {
   "cell_type": "code",
   "execution_count": 1,
   "metadata": {},
   "outputs": [],
   "source": [
    "import numpy as np\n",
    "import random\n",
    "from sklearn.model_selection import train_test_split\n",
    "from sklearn.metrics import silhouette_score\n",
    "\n",
    "from IPython.display import Audio, display\n",
    "def allDone():\n",
    "    urL = 'https://www.wavsource.com/snds_2020-10-01_3728627494378403/animals/cat_meow2.wav'\n",
    "    display(Audio(url=urL, autoplay=True))\n",
    "# allDone()\n",
    "\n",
    "random.seed(666)"
   ]
  },
  {
   "cell_type": "code",
   "execution_count": 2,
   "metadata": {},
   "outputs": [],
   "source": [
    "# train_motifs = np.genfromtxt('data_dev/train_motifs.csv',dtype='U')\n",
    "# train_motifxFamMatrix = np.genfromtxt('data_dev/train_motifxFamMatrix.csv',delimiter=',',dtype=int)\n",
    "# test_motifs = np.genfromtxt('data_dev/new_test_motifs.csv',dtype='U')\n",
    "# test_motifxFamMatrix = np.genfromtxt('data_dev/new_test_motifxFamMatrix.csv',delimiter=',',dtype=int)\n",
    "\n",
    "train_motifs = np.genfromtxt('data_dev/LEGACY/train_motifs.csv',dtype='U')\n",
    "train_motifxFamMatrix = np.genfromtxt('data_dev/LEGACY/train_motifxFamMatrix.csv',delimiter=',',dtype=int)\n",
    "test_motifs = np.genfromtxt('data_dev/LEGACY/new_test_motifs.csv',dtype='U')\n",
    "test_motifxFamMatrix = np.genfromtxt('data_dev/LEGACY/new_test_motifxFamMatrix.csv',delimiter=',',dtype=int)\n",
    "\n",
    "fams = np.genfromtxt('data_dev/fams.csv',dtype='U')"
   ]
  },
  {
   "cell_type": "code",
   "execution_count": 3,
   "metadata": {},
   "outputs": [
    {
     "name": "stdout",
     "output_type": "stream",
     "text": [
      "(6449, 8)\n",
      "(853, 8)\n"
     ]
    }
   ],
   "source": [
    "from sklearn.model_selection import train_test_split\n",
    "\n",
    "all_motifs = np.hstack([train_motifs,test_motifs])\n",
    "all_motifxFamMatrix = np.vstack([train_motifxFamMatrix,test_motifxFamMatrix])\n",
    "\n",
    "print(train_motifxFamMatrix.shape)\n",
    "print(test_motifxFamMatrix.shape)      "
   ]
  },
  {
   "cell_type": "code",
   "execution_count": 13,
   "metadata": {},
   "outputs": [
    {
     "name": "stdout",
     "output_type": "stream",
     "text": [
      "(6449, 1300)\n",
      "(853, 1300)\n"
     ]
    }
   ],
   "source": [
    "run = '02'\n",
    "embedding = np.genfromtxt('data_dev/LEGACY/protvec_embedding.csv',delimiter=',',dtype=float)\n",
    "# embedding = np.genfromtxt('MODELS_siam/LEGACY/emb_%s_embedding.csv' % run,delimiter=',',dtype=float)\n",
    "\n",
    "train_embedding = embedding[ :len(train_motifs) ]\n",
    "test_embedding = embedding[ len(train_motifs): ]\n",
    "\n",
    "print(train_embedding.shape)\n",
    "print(test_embedding.shape)"
   ]
  },
  {
   "cell_type": "code",
   "execution_count": 14,
   "metadata": {},
   "outputs": [
    {
     "name": "stdout",
     "output_type": "stream",
     "text": [
      "mean silhouette: 0.005\n",
      "median silhouette 0.005\n"
     ]
    }
   ],
   "source": [
    "#### SILHOUETTE SCORES #####\n",
    "\n",
    "allSilhouettes = []\n",
    "for i,fam in enumerate(fams):\n",
    "    silhouette = silhouette_score(test_embedding, test_motifxFamMatrix.T[i], \n",
    "                                  metric='euclidean', sample_size=None, random_state=None)\n",
    "    allSilhouettes.append(silhouette)\n",
    "allSilhouettes_array = np.array((allSilhouettes))\n",
    "\n",
    "# print( np.mean(allSilouettes_array), np.median(allSilouettes_array),\n",
    "#        fams,[round(x,6) for x in allSilouettes] )\n",
    "\n",
    "print(\"mean silhouette:\", np.mean(allSilhouettes_array).round(3))\n",
    "print(\"median silhouette\", np.median(allSilhouettes_array).round(3))"
   ]
  },
  {
   "cell_type": "code",
   "execution_count": 15,
   "metadata": {},
   "outputs": [],
   "source": [
    "def getKnnResults(fIdx, myAverage):\n",
    "    \n",
    "    ## best k is num of instances ^ 1/2\n",
    "    ## https://stackoverflow.com/questions/18110951/how-to-determine-k-value-for-the-k-nearest-neighbours-algorithm-for-a-matrix-in\n",
    "    k = int(len(embedding)**(1/2))\n",
    "    \n",
    "    X_tr = train_embedding \n",
    "    X_te = test_embedding\n",
    "    y_tr = train_motifxFamMatrix.T[fIdx]\n",
    "    y_te = test_motifxFamMatrix.T[fIdx]\n",
    "    \n",
    "    kNN = KNeighborsClassifier(n_neighbors=k)\n",
    "    kNN.fit(X_tr, y_tr)\n",
    "\n",
    "    y_pred = kNN.predict(X_te)\n",
    "    y_score = kNN.predict_proba(X_te)\n",
    "\n",
    "    precision, recall, fscore, support = score(y_te,y_pred,average=myAverage)\n",
    "    return (precision, recall, fscore, support, y_score)"
   ]
  },
  {
   "cell_type": "code",
   "execution_count": 16,
   "metadata": {},
   "outputs": [
    {
     "name": "stderr",
     "output_type": "stream",
     "text": [
      "/home/k4thryn/anaconda3/lib/python3.8/site-packages/sklearn/metrics/_classification.py:1221: UndefinedMetricWarning: Precision and F-score are ill-defined and being set to 0.0 in labels with no predicted samples. Use `zero_division` parameter to control this behavior.\n",
      "  _warn_prf(average, modifier, msg_start, len(result))\n",
      "/home/k4thryn/anaconda3/lib/python3.8/site-packages/sklearn/metrics/_classification.py:1221: UndefinedMetricWarning: Precision and F-score are ill-defined and being set to 0.0 in labels with no predicted samples. Use `zero_division` parameter to control this behavior.\n",
      "  _warn_prf(average, modifier, msg_start, len(result))\n",
      "/home/k4thryn/anaconda3/lib/python3.8/site-packages/sklearn/metrics/_classification.py:1221: UndefinedMetricWarning: Precision and F-score are ill-defined and being set to 0.0 in labels with no predicted samples. Use `zero_division` parameter to control this behavior.\n",
      "  _warn_prf(average, modifier, msg_start, len(result))\n",
      "/home/k4thryn/anaconda3/lib/python3.8/site-packages/sklearn/metrics/_classification.py:1221: UndefinedMetricWarning: Precision and F-score are ill-defined and being set to 0.0 in labels with no predicted samples. Use `zero_division` parameter to control this behavior.\n",
      "  _warn_prf(average, modifier, msg_start, len(result))\n"
     ]
    }
   ],
   "source": [
    "from sklearn.neighbors import KNeighborsClassifier\n",
    "from sklearn.metrics import precision_recall_fscore_support as score\n",
    "\n",
    "thisY_score = [] \n",
    "for fIdx,fam in enumerate(fams):\n",
    "    precision, recall, fscore, support, myY_score = (getKnnResults(fIdx, \"macro\"))\n",
    "    thisY_score.append(myY_score)"
   ]
  },
  {
   "cell_type": "code",
   "execution_count": 17,
   "metadata": {},
   "outputs": [],
   "source": [
    "thisY_score = np.array((thisY_score))\n",
    "thisY_score.shape\n",
    "\n",
    "y_score = thisY_score[:,:,1].T\n",
    "y_test = test_motifxFamMatrix"
   ]
  },
  {
   "cell_type": "code",
   "execution_count": 18,
   "metadata": {},
   "outputs": [
    {
     "name": "stdout",
     "output_type": "stream",
     "text": [
      "AUROC results:\n",
      "PKA 0.816\n",
      "AKT 0.832\n",
      "CDK 0.857\n",
      "MAPK 0.888\n",
      "SRC 0.979\n",
      "CK2 0.872\n",
      "PKC 0.83\n",
      "PIKK 0.81\n",
      "macro auroc: 0.861 \n",
      "micro auroc: 0.851\n"
     ]
    },
    {
     "name": "stderr",
     "output_type": "stream",
     "text": [
      "<ipython-input-18-d7d4b22900b0>:21: DeprecationWarning: scipy.interp is deprecated and will be removed in SciPy 2.0.0, use numpy.interp instead\n",
      "  mean_tpr += interp(all_fpr, fpr[i], tpr[i])\n"
     ]
    }
   ],
   "source": [
    "from sklearn.metrics import roc_curve, auc\n",
    "from scipy import interp\n",
    "import numpy as np\n",
    "\n",
    "print(\"AUROC results:\")\n",
    "fpr = dict()\n",
    "tpr = dict()\n",
    "roc_auc = dict()\n",
    "for i in range(len(fams)):\n",
    "    fpr[i], tpr[i], _ = roc_curve(y_test[:, i], y_score[:, i])\n",
    "    roc_auc[i] = auc(fpr[i], tpr[i])\n",
    "    print(fams[i],roc_auc[i].round(3))\n",
    "\n",
    "\n",
    "fpr[\"micro\"], tpr[\"micro\"], _ = roc_curve(y_test.ravel(), y_score.ravel())\n",
    "roc_auc[\"micro\"] = auc(fpr[\"micro\"], tpr[\"micro\"])\n",
    "all_fpr = np.unique(np.concatenate([fpr[i] for i in range(len(fams))]))\n",
    "\n",
    "mean_tpr = np.zeros_like(all_fpr)\n",
    "for i in range(len(fams)):\n",
    "    mean_tpr += interp(all_fpr, fpr[i], tpr[i])\n",
    "mean_tpr /= len(fams)\n",
    "\n",
    "fpr[\"macro\"] = all_fpr\n",
    "tpr[\"macro\"] = mean_tpr\n",
    "roc_auc[\"macro\"] = auc(fpr[\"macro\"], tpr[\"macro\"])\n",
    "\n",
    "print(\"macro auroc:\",roc_auc[\"macro\"].round(3),\n",
    "      \"\\nmicro auroc:\",roc_auc[\"micro\"].round(3))"
   ]
  },
  {
   "cell_type": "raw",
   "metadata": {},
   "source": [
    "* * * * BEST SIAM RESULTS * * * *\n",
    "\n",
    "* * * * * * * * * * * * * * * * * * * * * * * * * * * * * * * * * * * * * * * * * * * *\n",
    "* * * * * * * * * * * * * * * * * * * * * * * * * * * * * * * * * * * * * * * * * * * *\n",
    "* * * * * * * * * * * * * * * * * * * * * * * * * * * * * * * * * * * * * * * * * * * *\n",
    "* * * * * * * * * * * * * * * * * * * * * * * * * * * * * * * * * * * * * * * * * * * *\n",
    " \n",
    "* * * * Avg'd ProtVec RESULTS * * * *\n",
    "AUROC results:\n",
    "PKA 0.818\n",
    "AKT 0.87\n",
    "CDK 0.884\n",
    "MAPK 0.889\n",
    "SRC 1.0\n",
    "CK2 0.934\n",
    "PKC 0.863\n",
    "PIKK 0.872\n",
    "macro auroc: 0.891 \n",
    "micro auroc: 0.898\n",
    "\n",
    "* * * * ProtVec RESULTS * * * *\n",
    "AUROC results:\n",
    "PKA 0.79\n",
    "AKT 0.781\n",
    "CDK 0.841\n",
    "MAPK 0.877\n",
    "SRC 0.983\n",
    "CK2 0.922\n",
    "PKC 0.796\n",
    "PIKK 0.793\n",
    "macro auroc: 0.848 \n",
    "micro auroc: 0.832\n",
    "\n",
    "------------------------------ LEGACY ------------------------------\n",
    "\n",
    "* * * * BEST SIAM RESULTS * * * *\n",
    "AUROC results:\n",
    "PKA 0.852\n",
    "AKT 0.897\n",
    "CDK 0.892\n",
    "MAPK 0.907\n",
    "SRC 0.995\n",
    "CK2 0.893\n",
    "PKC 0.885\n",
    "PIKK 0.9\n",
    "macro auroc: 0.903 \n",
    "micro auroc: 0.924\n",
    "\n",
    "* * * * Avg'd ProtVec RESULTS * * * *\n",
    "AUROC results:\n",
    "PKA 0.867\n",
    "AKT 0.907\n",
    "CDK 0.887\n",
    "MAPK 0.907\n",
    "SRC 0.998\n",
    "CK2 0.907\n",
    "PKC 0.866\n",
    "PIKK 0.843\n",
    "macro auroc: 0.898 \n",
    "micro auroc: 0.905\n",
    "\n",
    "* * * * ProtVec RESULTS * * * *\n"
   ]
  },
  {
   "cell_type": "code",
   "execution_count": 19,
   "metadata": {},
   "outputs": [
    {
     "name": "stdout",
     "output_type": "stream",
     "text": [
      "AVERAGE Precision (AP) results\n",
      "PKA 0.625\n",
      "AKT 0.421\n",
      "CDK 0.41\n",
      "MAPK 0.688\n",
      "SRC 0.906\n",
      "CK2 0.59\n",
      "PKC 0.638\n",
      "PIKK 0.396\n",
      "avg AP (macro): 0.584 \n",
      "avg AP (micro): 0.551\n"
     ]
    }
   ],
   "source": [
    "from itertools import chain\n",
    "from sklearn.metrics import precision_recall_curve\n",
    "from sklearn.metrics import average_precision_score\n",
    "\n",
    "precision = dict()\n",
    "recall = dict()\n",
    "average_precision = dict()\n",
    "\n",
    "print(\"AVERAGE Precision (AP) results\")\n",
    "for i in range(len(fams)):\n",
    "    precision[i], recall[i], _ = precision_recall_curve(y_test[:, i],y_score[:, i])\n",
    "    average_precision[i] = average_precision_score(y_test[:, i], y_score[:, i])\n",
    "    print(fams[i],average_precision[i].round(3))\n",
    "\n",
    "\n",
    "average_precision[\"micro\"] = average_precision_score(y_test, y_score,average=\"micro\")\n",
    "average_precision[\"macro\"] = average_precision_score(y_test, y_score, average=\"macro\")\n",
    "print(\"avg AP (macro):\",average_precision[\"macro\"].round(3),\n",
    "      \"\\navg AP (micro):\",average_precision[\"micro\"].round(3))"
   ]
  },
  {
   "cell_type": "raw",
   "metadata": {},
   "source": [
    "* * * * BEST SIAM RESULTS * * * *\n",
    "\n",
    "\n",
    "* * * * * * * * * * * * * * * * * * * * * * * * * * * * * * * * * * * * * * * * * * * *\n",
    "* * * * * * * * * * * * * * * * * * * * * * * * * * * * * * * * * * * * * * * * * * * *\n",
    "* * * * * * * * * * * * * * * * * * * * * * * * * * * * * * * * * * * * * * * * * * * *\n",
    "* * * * * * * * * * * * * * * * * * * * * * * * * * * * * * * * * * * * * * * * * * * *\n",
    "\n",
    "* * * * Avg'd ProtVec RESULTS * * * *\n",
    "AVERAGE Precision (AP) results\n",
    "PKA 0.56\n",
    "AKT 0.349\n",
    "CDK 0.591\n",
    "MAPK 0.598\n",
    "SRC 0.999\n",
    "CK2 0.751\n",
    "PKC 0.638\n",
    "PIKK 0.615\n",
    "avg AP (macro): 0.638 \n",
    "avg AP (micro): 0.606\n",
    "\n",
    "* * * * ProtVec RESULTS * * * *\n",
    "AVERAGE Precision (AP) results\n",
    "PKA 0.504\n",
    "AKT 0.231\n",
    "CDK 0.436\n",
    "MAPK 0.568\n",
    "SRC 0.894\n",
    "CK2 0.741\n",
    "PKC 0.536\n",
    "PIKK 0.414\n",
    "avg AP (macro): 0.54 \n",
    "avg AP (micro): 0.487\n",
    "\n",
    "\n",
    "------------------------------ LEGACY ------------------------------\n",
    "\n",
    "* * * * BEST SIAM RESULTS * * * *\n",
    "AVERAGE Precision (AP) results\n",
    "PKA 0.659\n",
    "AKT 0.513\n",
    "CDK 0.538\n",
    "MAPK 0.72\n",
    "SRC 0.991\n",
    "CK2 0.714\n",
    "PKC 0.741\n",
    "PIKK 0.663\n",
    "avg AP (macro): 0.692 \n",
    "avg AP (micro): 0.747\n",
    "\n",
    "* * * * Avg'd ProtVec RESULTS * * * *\n",
    "AVERAGE Precision (AP) results\n",
    "PKA 0.717\n",
    "AKT 0.47\n",
    "CDK 0.52\n",
    "MAPK 0.739\n",
    "SRC 0.993\n",
    "CK2 0.668\n",
    "PKC 0.7\n",
    "PIKK 0.576\n",
    "avg AP (macro): 0.673 \n",
    "avg AP (micro): 0.651\n",
    "\n",
    "* * * * ProtVec RESULTS * * * *\n"
   ]
  },
  {
   "cell_type": "code",
   "execution_count": 20,
   "metadata": {},
   "outputs": [],
   "source": [
    "# allDone()"
   ]
  },
  {
   "cell_type": "code",
   "execution_count": 21,
   "metadata": {},
   "outputs": [
    {
     "name": "stdout",
     "output_type": "stream",
     "text": [
      "mean silhouette: 0.005\n",
      "median silhouette 0.005\n",
      "----------------\n",
      "\n",
      "AUROC results:\n",
      "PKA 0.816\n",
      "AKT 0.832\n",
      "CDK 0.857\n",
      "MAPK 0.888\n",
      "SRC 0.979\n",
      "CK2 0.872\n",
      "PKC 0.83\n",
      "PIKK 0.81\n",
      "macro auroc: 0.861 \n",
      "micro auroc: 0.851\n",
      "\n",
      "----------------\n",
      "\n",
      "AVERAGE Precision (AP) results\n",
      "PKA 0.625\n",
      "AKT 0.421\n",
      "CDK 0.41\n",
      "MAPK 0.688\n",
      "SRC 0.906\n",
      "CK2 0.59\n",
      "PKC 0.638\n",
      "PIKK 0.396\n",
      "avg AP (macro): 0.584 \n",
      "avg AP (micro): 0.551\n"
     ]
    }
   ],
   "source": [
    "print(\"mean silhouette:\", np.mean(allSilhouettes_array).round(3))\n",
    "print(\"median silhouette\", np.median(allSilhouettes_array).round(3))\n",
    "\n",
    "print(\"----------------\\n\")\n",
    "\n",
    "print(\"AUROC results:\")\n",
    "for i in range(len(fams)):\n",
    "    fpr[i], tpr[i], _ = roc_curve(y_test[:, i], y_score[:, i])\n",
    "    roc_auc[i] = auc(fpr[i], tpr[i])\n",
    "    print(fams[i],roc_auc[i].round(3))\n",
    "print(\"macro auroc:\",roc_auc[\"macro\"].round(3),\n",
    "      \"\\nmicro auroc:\",roc_auc[\"micro\"].round(3))\n",
    "\n",
    "print(\"\\n----------------\\n\")\n",
    "\n",
    "print(\"AVERAGE Precision (AP) results\")\n",
    "for i in range(len(fams)):\n",
    "    precision[i], recall[i], _ = precision_recall_curve(y_test[:, i],y_score[:, i])\n",
    "    average_precision[i] = average_precision_score(y_test[:, i], y_score[:, i])\n",
    "    print(fams[i],average_precision[i].round(3))\n",
    "average_precision[\"micro\"] = average_precision_score(y_test, y_score,average=\"micro\")\n",
    "average_precision[\"macro\"] = average_precision_score(y_test, y_score, average=\"macro\")\n",
    "print(\"avg AP (macro):\",average_precision[\"macro\"].round(3),\n",
    "      \"\\navg AP (micro):\",average_precision[\"micro\"].round(3))"
   ]
  },
  {
   "cell_type": "code",
   "execution_count": null,
   "metadata": {},
   "outputs": [],
   "source": []
  },
  {
   "cell_type": "code",
   "execution_count": null,
   "metadata": {},
   "outputs": [],
   "source": []
  }
 ],
 "metadata": {
  "kernelspec": {
   "display_name": "Python 3",
   "language": "python",
   "name": "python3"
  },
  "language_info": {
   "codemirror_mode": {
    "name": "ipython",
    "version": 3
   },
   "file_extension": ".py",
   "mimetype": "text/x-python",
   "name": "python",
   "nbconvert_exporter": "python",
   "pygments_lexer": "ipython3",
   "version": "3.8.3"
  }
 },
 "nbformat": 4,
 "nbformat_minor": 2
}
