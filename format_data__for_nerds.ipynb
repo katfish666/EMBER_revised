{
 "cells": [
  {
   "cell_type": "code",
   "execution_count": 22,
   "metadata": {},
   "outputs": [],
   "source": [
    "from numpy import genfromtxt\n",
    "import csv\n",
    "import numpy\n",
    "import random\n",
    "import pandas\n",
    "import re\n",
    "\n",
    "random.seed(666)"
   ]
  },
  {
   "cell_type": "code",
   "execution_count": 23,
   "metadata": {},
   "outputs": [],
   "source": [
    "amino_acids = ['C', 'D', 'S', 'Q', 'K', 'I', 'P', 'T', 'F', \n",
    "               'N', 'G', 'H', 'L', 'R', 'W', 'A', 'V', 'E', \n",
    "               'Y', 'M', 'X', '_']\n",
    "\n",
    "my_fams = ['PKA', 'AKT', 'CDK', 'MAPK', 'SRC', 'CK2', 'PKC', 'PIKK']"
   ]
  },
  {
   "cell_type": "code",
   "execution_count": 24,
   "metadata": {},
   "outputs": [
    {
     "name": "stdout",
     "output_type": "stream",
     "text": [
      "number of kinases: 534\n",
      "['TEC', ['TEC', 'P42680', 'PSCTK4']]\n"
     ]
    }
   ],
   "source": [
    "test = genfromtxt('data_raw/uniprot_gene_synsdict_19.01.07.csv', delimiter=',',dtype='U')\n",
    "uniprot_dict = {}  # { ..., uniprot id: [gene, [synonyms]] ,... }\n",
    "for line in test:\n",
    "    uniprot = line[0]\n",
    "    gene = line[1]\n",
    "    synonyms = list(set([x for x in line[2:] if x]))\n",
    "    uniprot_dict[uniprot] = [gene,synonyms]\n",
    "    \n",
    "for k,v in uniprot_dict.items():\n",
    "    v[1] = [x.upper() for x in v[1]]\n",
    "    \n",
    "print (\"number of kinases:\",len(uniprot_dict))\n",
    "print (uniprot_dict['P42680'])"
   ]
  },
  {
   "cell_type": "code",
   "execution_count": 25,
   "metadata": {},
   "outputs": [],
   "source": [
    "content_fams = genfromtxt('data_raw/kinase_fams.csv', delimiter=',',dtype='U')\n",
    "\n",
    "fams = list(set([x[2].upper() for x in content_fams[1:]]))\n",
    "gene_symbols = list(set([x[3] for x in content_fams[1:]]))\n",
    "fams_and_symbs = [ [x[2],x[3]] for x in content_fams[1:]]\n",
    "\n",
    "kin_to_fam = { x[3].upper():x[2].upper() for x in content_fams[1:] }\n",
    "\n",
    "### had to manually google these names. i hope they're right\n",
    "kin_to_fam['PKN1'] = 'PKN'\n",
    "kin_to_fam['PKN2'] = 'PKN'\n",
    "kin_to_fam['PDPK1'] = 'PDK1'\n",
    "kin_to_fam['MAPKAPK3'] = 'MAPKAPK'\n",
    "kin_to_fam['PRKCA'] = 'PKC'\n",
    "kin_to_fam['ALPK3'] = 'ALPHA'\n",
    "kin_to_fam['SGK494'] = 'RSKR'\n",
    "kin_to_fam['NIM1K'] = 'ALPHA'\n",
    "kin_to_fam['FYN'] = 'SRC'\n",
    "kin_to_fam['MTOR'] = 'PIKK'\n",
    "kin_to_fam['PKG/CGK'] = 'PKG'\n",
    "kin_to_fam['PRKCB'] = 'PKC'\n",
    "kin_to_fam['GRK2'] = 'GRK'\n",
    "kin_to_fam['SGK1'] = 'SGK'\n",
    "kin_to_fam['CAM-KII'] = 'CAMK2'\n",
    "kin_to_fam['CAMKII'] = 'CAMK2'\n",
    "kin_to_fam['PKG2/CGK-II'] ='PKG'\n",
    "kin_to_fam['PKG2/CGK-I'] ='PKG'\n",
    "kin_to_fam['MAP2K'] ='STE7'\n",
    "kin_to_fam['RSK-5'] = 'RSK'\n",
    "kin_to_fam['RSK-4'] = 'RSK'\n",
    "kin_to_fam['RSK-3'] = 'RSK'\n",
    "kin_to_fam['RSK-2'] = 'RSK'\n",
    "kin_to_fam['RSK-1'] = 'RSK'\n",
    "kin_to_fam['CAM-KI'] = 'CAMK1'\n",
    "kin_to_fam['CDK1'] = 'CDK'"
   ]
  },
  {
   "cell_type": "code",
   "execution_count": 26,
   "metadata": {},
   "outputs": [
    {
     "name": "stdout",
     "output_type": "stream",
     "text": [
      "133\n"
     ]
    }
   ],
   "source": [
    "k_to_ms = {k.upper():[] for k in fams} # kinase to motifs dictionary\n",
    "print(len(k_to_ms))\n",
    "\n",
    "motifs = []\n",
    "kinases = []\n",
    "motifs_without_kinase = 0\n",
    "motifs_with_kinase = 0"
   ]
  },
  {
   "cell_type": "code",
   "execution_count": 27,
   "metadata": {},
   "outputs": [],
   "source": [
    "#####################################\n",
    "############ PHOSPHO_ELM ############\n",
    "#####################################\n",
    "\n",
    "with open ('data_raw/phosphoELM_vertebrate_2015-04',encoding=\"ISO-8859-1\") as file:\n",
    "    reader = csv.reader(file, delimiter='\\t')\n",
    "    content = [x for x in reader]\n",
    "    \n",
    "for i,line in enumerate(content[1:]):\n",
    "    \n",
    "    front_buff = False\n",
    "    back_buff = False\n",
    "    \n",
    "    seq = line[1]\n",
    "    center_idx = int(line[2])-1\n",
    "    \n",
    "    ### need to check if motif is shorter than 15 aa ... \n",
    "    start = center_idx - 7\n",
    "    if start<0:\n",
    "        front_buff = abs(start) * \"_\"\n",
    "    end = center_idx + 8\n",
    "    if end>=len(seq):\n",
    "        back_buff = (end - len(seq)) * \"_\"\n",
    "    \n",
    "    if front_buff:\n",
    "        motif = front_buff + seq[:end]\n",
    "    elif back_buff:\n",
    "        motif = seq[start:] + back_buff\n",
    "    else:\n",
    "        motif = seq[start:end]\n",
    "        \n",
    "    ### do not want to include histodine motifs ...\n",
    "    if motif[7] not in ['S','Y','T']: \n",
    "        continue \n",
    "    else:\n",
    "        motifs.append(motif)\n",
    "    \n",
    "    kinase = line[5].upper()\n",
    "    \n",
    "    if not kinase:\n",
    "        continue\n",
    "    if '_' in kinase:\n",
    "        kinase = kinase[:kinase.find('_')]\n",
    "        \n",
    "    key = 0\n",
    "    for uniprot,v in uniprot_dict.items():\n",
    "        synonyms = v[1]\n",
    "        gene = v[0]\n",
    "        if kinase in synonyms:\n",
    "            if gene not in kin_to_fam.keys():\n",
    "                if gene in fams:\n",
    "                    key = gene\n",
    "                end = re.search(\"\\d\", gene)\n",
    "                if not end:\n",
    "                    continue\n",
    "                key = gene[:end.start()]\n",
    "            else:\n",
    "                key = kin_to_fam[gene]\n",
    "            break \n",
    "            \n",
    "    if kinase in fams:\n",
    "        key = kinase\n",
    "    if kinase in kin_to_fam.keys():\n",
    "        key = kin_to_fam[kinase]\n",
    "    if key != 0:\n",
    "        motifs.append(motif)\n",
    "        if key in k_to_ms.keys():\n",
    "            k_to_ms[key].append(motif)\n",
    "        else:\n",
    "            k_to_ms[key] = [motif]\n",
    "    else:\n",
    "#         print(kinase) ### the \"bad\" kinases (not included in kin_to_fam)\n",
    "        continue "
   ]
  },
  {
   "cell_type": "code",
   "execution_count": 28,
   "metadata": {},
   "outputs": [
    {
     "name": "stdout",
     "output_type": "stream",
     "text": [
      "number of motifs: 31568\n",
      "3558\n"
     ]
    }
   ],
   "source": [
    "print (\"number of motifs:\", len(set(motifs)))  \n",
    "\n",
    "k_to_ms = {k:list(set(v)) for k,v in k_to_ms.items()}\n",
    "\n",
    "total_interx = 0\n",
    "for k,v in k_to_ms.items():\n",
    "    total_interx+=len(v)\n",
    "print(total_interx)"
   ]
  },
  {
   "cell_type": "code",
   "execution_count": 29,
   "metadata": {},
   "outputs": [],
   "source": [
    "motifs = list(set(motifs))\n",
    "\n",
    "### checks\n",
    "for motif in motifs:\n",
    "    if len(motif)!=15:\n",
    "        print(motif)\n",
    "    if motif[7] not in ['S','Y','T']:\n",
    "        print(motif,motif[7])"
   ]
  },
  {
   "cell_type": "code",
   "execution_count": 30,
   "metadata": {},
   "outputs": [
    {
     "name": "stdout",
     "output_type": "stream",
     "text": [
      "number of motifs: 37693\n"
     ]
    }
   ],
   "source": [
    "##########################################\n",
    "############ PHOSPHOSITE_PLUS ############\n",
    "##########################################\n",
    "\n",
    "with open ('data_raw/PhosphositePlus',encoding=\"ISO-8859-1\") as myFile:\n",
    "    reader = csv.reader(myFile, delimiter='\\t')\n",
    "    content = [[x for x in line] for line in \n",
    "               reader if len(line)>=8 and line[3] in \n",
    "               ['human','mouse','rat','rabbit','cow']]  ### vertebrates only\n",
    "for line in content:\n",
    "#     print(line)\n",
    "    uniprot = line[2][:6].upper()\n",
    "    gene = line[1].upper()\n",
    "    motif = line[11].upper()\n",
    "    if motif[7] not in ['S','Y','T']:\n",
    "        continue\n",
    "#     print(uniprot,gene,motif)\n",
    "    if gene in k_to_ms.keys():\n",
    "        k_to_ms[gene].append(motif)\n",
    "        motifs.append(motif)\n",
    "        continue\n",
    "    elif uniprot in uniprot_dict.keys():\n",
    "        gene = uniprot_dict[uniprot][0]\n",
    "        if gene not in kin_to_fam.keys():\n",
    "            continue\n",
    "        fam = kin_to_fam[gene]\n",
    "        k_to_ms[fam].append(motif)\n",
    "        motifs.append(motif)\n",
    "        continue\n",
    "    elif gene in kin_to_fam.keys():\n",
    "        fam = kin_to_fam[gene]\n",
    "        k_to_ms[fam].append(motif)\n",
    "        motifs.append(motif)\n",
    "        continue\n",
    "    else:\n",
    "        for k,v in uniprot_dict.items():\n",
    "            if gene in v[1]:\n",
    "                gene = v[0]\n",
    "                if gene not in kin_to_fam.keys():\n",
    "#                     print (\"not included:\",gene,uniprot)\n",
    "                    continue\n",
    "                fam = kin_to_fam[gene]\n",
    "                k_to_ms[fam].append(motif)\n",
    "                motifs.append(motif)\n",
    "        continue\n",
    "print (\"number of motifs:\", len(set(motifs)))"
   ]
  },
  {
   "cell_type": "code",
   "execution_count": 31,
   "metadata": {},
   "outputs": [
    {
     "name": "stdout",
     "output_type": "stream",
     "text": [
      "14097\n"
     ]
    }
   ],
   "source": [
    "k_to_ms = {k:list(set(v)) for k,v in k_to_ms.items()}\n",
    "\n",
    "total_interx = 0\n",
    "for k,v in k_to_ms.items():\n",
    "    total_interx+=len(v)\n",
    "print(total_interx)"
   ]
  },
  {
   "cell_type": "code",
   "execution_count": 32,
   "metadata": {},
   "outputs": [],
   "source": [
    "motifs = list(set(motifs))\n",
    "\n",
    "### checks\n",
    "for motif in motifs:\n",
    "    if len(motif)!=15:\n",
    "        print(motif)\n",
    "    if motif[7] not in ['S','Y','T']:\n",
    "        print(motif,motif[7])"
   ]
  },
  {
   "cell_type": "markdown",
   "metadata": {},
   "source": [
    "## <font color=red> TO-DO: CHECK THIS"
   ]
  },
  {
   "cell_type": "code",
   "execution_count": 33,
   "metadata": {},
   "outputs": [
    {
     "name": "stdout",
     "output_type": "stream",
     "text": [
      "BAD: PIK3C3\n",
      "number of motifs: 39489\n"
     ]
    }
   ],
   "source": [
    "##########################################\n",
    "############ PHOSPHO_NETWORKS ############\n",
    "##########################################\n",
    "\n",
    "### ... these are all human kinases and motifs\n",
    "\n",
    "with open ('data_raw/PhosphoNetworks',encoding=\"ISO-8859-1\") as myFile:\n",
    "    reader = csv.reader(myFile, delimiter='\\t')\n",
    "    content2 = [x for x in reader]\n",
    "    \n",
    "content_np2 = numpy.array(content2,dtype=object)\n",
    "key = 0\n",
    "for i,each in enumerate(content_np2):\n",
    "    if each[0][0]=='>':\n",
    "        key = 0\n",
    "        kinase = each[0][1:]\n",
    "        if 'CDK' in kinase:\n",
    "            key = 'Q14004'\n",
    "        else:\n",
    "            for uniprot,v in uniprot_dict.items():\n",
    "                syns = v[1]\n",
    "                if kinase in syns:\n",
    "                    key = uniprot\n",
    "                    break  ##################################\n",
    "            else:\n",
    "                print(\"BAD:\",kinase)\n",
    "                key = 0\n",
    "        continue\n",
    "    if key != 0:\n",
    "        gene = uniprot_dict[uniprot][0]\n",
    "        if gene not in kin_to_fam.keys():\n",
    "            key = 0\n",
    "            continue\n",
    "        fam = kin_to_fam[gene]\n",
    "        motif = each[0].upper()\n",
    "        motif = motif.replace(\"-\", \"_\")\n",
    "\n",
    "        length = 15\n",
    "        \n",
    "        if motif and len(motif)==length and all(char in amino_acids for char in motif) and motif[len(motif)//2] in ['S','T','Y']:  \n",
    "            motifs.append(motif)\n",
    "            k_to_ms[fam].append(motif)\n",
    "        else:\n",
    "            print(i,key,'-',motif,content2[i])\n",
    "        \n",
    "k_to_ms = {k:list(set(v)) for k,v in k_to_ms.items()} # list-set the dict ! \n",
    "print (\"number of motifs:\", len(set(motifs)))"
   ]
  },
  {
   "cell_type": "code",
   "execution_count": 34,
   "metadata": {},
   "outputs": [
    {
     "name": "stdout",
     "output_type": "stream",
     "text": [
      "23021\n"
     ]
    }
   ],
   "source": [
    "k_to_ms = {k:list(set(v)) for k,v in k_to_ms.items()}\n",
    "\n",
    "total_interx = 0\n",
    "for k,v in k_to_ms.items():\n",
    "    total_interx+=len(v)\n",
    "print(total_interx)"
   ]
  },
  {
   "cell_type": "code",
   "execution_count": 35,
   "metadata": {},
   "outputs": [],
   "source": [
    "pop_motifs = []\n",
    "for k,v in k_to_ms.items():\n",
    "    if k in my_fams:\n",
    "        for motif in v:\n",
    "            pop_motifs.append(motif)\n",
    "            \n",
    "motifs = list(set(pop_motifs))\n",
    "motifs = numpy.array((motifs))\n",
    "fams = numpy.array((my_fams))\n",
    "\n",
    "motifxFamMatrix = numpy.zeros((len(motifs),len(fams)))\n",
    "        \n",
    "for motif in motifs:\n",
    "    mIdx = numpy.where(motifs==motif)[0][0]\n",
    "    for fam in fams:\n",
    "        fIdx = numpy.where(fams==fam)[0][0]\n",
    "        if motif in k_to_ms[fam]:\n",
    "            motifxFamMatrix[mIdx][fIdx] = 1"
   ]
  },
  {
   "cell_type": "code",
   "execution_count": 36,
   "metadata": {},
   "outputs": [
    {
     "name": "stdout",
     "output_type": "stream",
     "text": [
      "PKC 1810\n",
      "PKA 1541\n",
      "MAPK 1514\n",
      "CDK 1216\n",
      "SRC 994\n",
      "CK2 904\n",
      "CAMK-UNIQUE 861\n",
      "CAMKL 727\n",
      "STE20 714\n",
      "CK1 578\n",
      "PIKK 575\n",
      "DYRK 554\n",
      "RSK 545\n",
      "NEK 474\n",
      "AKT 464\n",
      "GSK 458\n",
      "CAMK2 449\n",
      "MAPKAPK 393\n",
      "MLK 388\n",
      "PLK 363\n",
      "AUR 328\n",
      "IKK 320\n",
      "STKR 306\n",
      "GRK 304\n",
      "ABL 209\n",
      "CLK 193\n",
      "ALPHA 188\n",
      "NAK 186\n",
      "RAF 185\n",
      "SCY1 178\n",
      "PKG 168\n",
      "PIM 158\n",
      "STE7 144\n",
      "EGFR 134\n",
      "JAK 134\n",
      "NDR 131\n",
      "DAPK 130\n",
      "TTK 130\n",
      "SYK 127\n",
      "CAMK1 116\n",
      "WEE 115\n",
      "TEC 114\n",
      "DMPK 113\n",
      "RAD53 113\n",
      "CAMKK 102\n",
      "IRAK 101\n",
      "FGFR 97\n",
      "BUB 96\n",
      "PDK1 95\n",
      "PKD 95\n",
      "INSR 94\n",
      "ULK 94\n",
      "PKN 93\n",
      "SGK 91\n",
      "TSSK 87\n",
      "VRK 87\n",
      "FAK 84\n",
      "PDGFR 80\n",
      "FAST 78\n",
      "RIPK 77\n",
      "EPH 76\n",
      "MLCK 73\n",
      "PDHK 71\n",
      "RIO 71\n",
      "LRRK 70\n",
      "YANK 65\n",
      "STE-UNIQUE 59\n",
      "LISK 56\n",
      "MOS 55\n",
      "PEK 55\n",
      "NRBP 53\n",
      "TTBK 48\n",
      "ABC1 48\n",
      "TRK 47\n",
      "MAST 46\n",
      "STE11 45\n",
      "SRPK 45\n",
      "RET 45\n",
      "AXL 42\n",
      "MET 41\n",
      "CDC7 39\n",
      "KIS 39\n",
      "WNK 38\n",
      "SGK495 37\n",
      "PHK 36\n",
      "NKF4 35\n",
      "TRBL 34\n",
      "RGC 33\n",
      "TOPK 31\n",
      "RSKR 30\n",
      "CSK 29\n",
      "FER 29\n",
      "NKF2 28\n",
      "VEGFR 27\n",
      "TK-UNIQUE 26\n",
      "DDR 25\n",
      "VPS15 24\n",
      "ACK 20\n",
      "SLOB 16\n",
      "TKL-UNIQUE 16\n",
      "RCK 16\n",
      "RSKL 14\n",
      "ALK 13\n",
      "OTHER-UNIQUE 13\n",
      "SIK 12\n",
      "TLK 9\n",
      "TIE 6\n",
      "CASK 5\n",
      "MUSK 5\n",
      "PIK 5\n",
      "TAF1 4\n",
      "DCAMKL 4\n",
      "CDKL 4\n",
      "BCR 3\n",
      "LMR 3\n",
      "HASPIN 1\n",
      "IRE 1\n",
      "BUD32 1\n",
      "BRD 1\n",
      "PAK 1\n",
      "SGK496 0\n",
      "TBCK 0\n",
      "SGK493 0\n",
      "NKF3 0\n",
      "ROR 0\n",
      "G11 0\n",
      "PSK 0\n",
      "TIF1 0\n",
      "TRIO 0\n",
      "RYK 0\n",
      "SEV 0\n",
      "H11 0\n",
      "SGK071 0\n",
      "NKF5 0\n",
      "NKF1 0\n",
      "CCK4 0\n"
     ]
    }
   ],
   "source": [
    "for key, value in sorted(k_to_ms.items(), key=lambda x: len(x[1]), reverse=True):\n",
    "    print(key, len(value))"
   ]
  },
  {
   "cell_type": "code",
   "execution_count": 37,
   "metadata": {},
   "outputs": [
    {
     "name": "stdout",
     "output_type": "stream",
     "text": [
      "AKT 3\n",
      "CDK 21\n",
      "CK2 2\n",
      "MAPK 14\n",
      "PIKK 7\n",
      "PKA 5\n",
      "PKC 10\n",
      "SRC 11\n"
     ]
    }
   ],
   "source": [
    "famssss = ['AKT','CDK','CK2',\"MAPK\",\"PIKK\", \"PKA\",\"PKC\",\"SRC\"]\n",
    "\n",
    "numKinsPerFam = {f:[] for f in my_fams}\n",
    "for k,v in kin_to_fam.items():\n",
    "    if v in my_fams:\n",
    "        numKinsPerFam[v].append(k)\n",
    "\n",
    "for f in famssss:\n",
    "    print(f,len(numKinsPerFam[f]))"
   ]
  },
  {
   "cell_type": "code",
   "execution_count": 38,
   "metadata": {},
   "outputs": [
    {
     "name": "stdout",
     "output_type": "stream",
     "text": [
      "PKA 1541.0\n",
      "AKT 464.0\n",
      "CDK 1216.0\n",
      "MAPK 1514.0\n",
      "SRC 994.0\n",
      "CK2 904.0\n",
      "PKC 1810.0\n",
      "PIKK 575.0\n"
     ]
    },
    {
     "data": {
      "text/plain": [
       "9018.0"
      ]
     },
     "execution_count": 38,
     "metadata": {},
     "output_type": "execute_result"
    }
   ],
   "source": [
    "poop = 0\n",
    "for fIdx,fam in enumerate(motifxFamMatrix.T):\n",
    "    print (fams[fIdx],numpy.sum(motifxFamMatrix.T[fIdx]))\n",
    "    poop += numpy.sum(motifxFamMatrix.T[fIdx])\n",
    "poop"
   ]
  },
  {
   "cell_type": "code",
   "execution_count": 18,
   "metadata": {},
   "outputs": [],
   "source": [
    "# import os\n",
    "# data_dir = \"data__for_nerds/\"\n",
    "# os.mkdir(data_dir)"
   ]
  },
  {
   "cell_type": "code",
   "execution_count": 39,
   "metadata": {},
   "outputs": [],
   "source": [
    "########################\n",
    "# 15 fams !!!!\n",
    "########################\n",
    "\n",
    "data_dir = \"data__for_nerds/\"\n",
    "\n",
    "df = pandas.DataFrame(motifs,dtype='U')\n",
    "df.to_csv(data_dir + 'motifs.csv',header=None,index=None)\n",
    "df = pandas.DataFrame(fams,dtype='U')\n",
    "df.to_csv(data_dir + 'fams.csv',header=None,index=None)\n",
    "df = pandas.DataFrame(motifxFamMatrix,dtype=int)\n",
    "df.to_csv(data_dir + 'motifxFamMatrix.csv',header=None,index=None)"
   ]
  },
  {
   "cell_type": "code",
   "execution_count": 40,
   "metadata": {},
   "outputs": [
    {
     "data": {
      "text/plain": [
       "array(['TTTGQVTSPVKGASF', 'LIENRPQSPAAGRTP', 'NLSDEQCTQVTSLLQ',\n",
       "       'EFTMDLRTKSTGGAP', 'GADDESRSGRSSSDG', 'PTEEEEESESEDSED',\n",
       "       'PQHVRAHSSPASLQL', 'HTDSRKDSPPAGSPA', 'SLKEEDESDDDNM__',\n",
       "       'VPRSLASTPTAPSNP'], dtype='<U15')"
      ]
     },
     "execution_count": 40,
     "metadata": {},
     "output_type": "execute_result"
    }
   ],
   "source": [
    "motifs[:10]"
   ]
  },
  {
   "cell_type": "markdown",
   "metadata": {},
   "source": [
    "Total motifs: 9018.0"
   ]
  }
 ],
 "metadata": {
  "kernelspec": {
   "display_name": "Python 3",
   "language": "python",
   "name": "python3"
  },
  "language_info": {
   "codemirror_mode": {
    "name": "ipython",
    "version": 3
   },
   "file_extension": ".py",
   "mimetype": "text/x-python",
   "name": "python",
   "nbconvert_exporter": "python",
   "pygments_lexer": "ipython3",
   "version": "3.7.4"
  }
 },
 "nbformat": 4,
 "nbformat_minor": 2
}
