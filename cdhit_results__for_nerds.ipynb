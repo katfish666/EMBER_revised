{
 "cells": [
  {
   "cell_type": "code",
   "execution_count": 2,
   "metadata": {},
   "outputs": [
    {
     "name": "stdout",
     "output_type": "stream",
     "text": [
      "7866\n"
     ]
    }
   ],
   "source": [
    "import numpy as np\n",
    "import random\n",
    "import pandas as pd\n",
    "\n",
    "from sklearn.model_selection import train_test_split\n",
    "\n",
    "from IPython.display import Audio, display\n",
    "def allDone():\n",
    "    urL = 'http://www.wavsource.com/snds_2020-03-30_7102365145747638/animals/cat_meow2.wav'\n",
    "    display(Audio(url=urL, autoplay=True))\n",
    "# allDone()\n",
    "\n",
    "random.seed(666)\n",
    "\n",
    "motifs = np.genfromtxt('data__for_nerds/motifs.csv',dtype='U')\n",
    "motifxFamMatrix = np.genfromtxt('data__for_nerds/motifxFamMatrix.csv',delimiter=',',dtype=int)\n",
    "fams = np.genfromtxt('data__for_nerds/fams.csv',dtype='U')\n",
    "\n",
    "print(len(motifs))"
   ]
  },
  {
   "cell_type": "code",
   "execution_count": 3,
   "metadata": {},
   "outputs": [],
   "source": [
    "X_train, X_test = train_test_split(range(len(motifs)), test_size=0.15, random_state=666)\n",
    "\n",
    "train_motifs = motifs[X_train]\n",
    "test_motifs = motifs[X_test]"
   ]
  },
  {
   "cell_type": "markdown",
   "metadata": {},
   "source": [
    "## Look at CD-HIT results."
   ]
  },
  {
   "cell_type": "code",
   "execution_count": null,
   "metadata": {
    "scrolled": true
   },
   "outputs": [],
   "source": [
    "from Bio import SeqIO\n",
    "\n",
    "results = '1588970924.result/1588970924.fas.db2novel.clstr.sorted'\n",
    "\n",
    "fasta_sequences = SeqIO.parse(open(results),'fasta')\n",
    "for i,fasta in enumerate(fasta_sequences):\n",
    "    name, sequence = fasta.id, str(fasta.seq)\n",
    "    print(i,sequence.split())\n",
    "    if i==1000:\n",
    "        break"
   ]
  },
  {
   "cell_type": "code",
   "execution_count": null,
   "metadata": {},
   "outputs": [],
   "source": [
    "m1 = train_motifs[2268]\n",
    "m2 = test_motifs[128]\n",
    "\n",
    "print(m1, m2, m1[7], m2[7])\n",
    "\n",
    "i1 = np.where(motifs==m1)[0][0]\n",
    "i2 = np.where(motifs==m2)[0][0]\n",
    "\n",
    "print(i1,i2)\n",
    "\n",
    "fi1 = np.where(motifxFamMatrix[i1]==1)[0]\n",
    "fi2 = np.where(motifxFamMatrix[i2]==1)[0]\n",
    "print(fi1)\n",
    "print(fi2)\n",
    "\n",
    "print(motifxFamMatrix[i1])\n",
    "print(motifxFamMatrix[i2])\n",
    "\n",
    "print(fams[fi1])\n",
    "print(fams[fi2])"
   ]
  },
  {
   "cell_type": "markdown",
   "metadata": {},
   "source": [
    "## Find Hamming-near motifs between test and train sets."
   ]
  },
  {
   "cell_type": "code",
   "execution_count": 4,
   "metadata": {},
   "outputs": [],
   "source": [
    "### https://biology.stackexchange.com/questions/23523/hamming-distance-between-two-dna-strings\n",
    "def inv_hamming_distance_COPYPASTA(s1, s2):\n",
    "    #Return the Hamming distance between equal-length sequences\n",
    "    if len(s1) != len(s2):\n",
    "        raise ValueError(\"Undefined for sequences of unequal length\")\n",
    "    return sum(ch1 == ch2 for ch1, ch2 in zip(s1, s2)) / len(s1)"
   ]
  },
  {
   "cell_type": "code",
   "execution_count": 5,
   "metadata": {},
   "outputs": [],
   "source": [
    "def inv_hamming_distance(s1, s2):\n",
    "    #Return the Hamming distance between equal-length sequences\n",
    "    if len(s1) != len(s2):\n",
    "        raise ValueError(\"Undefined for sequences of unequal length\")\n",
    "    zipped = zip(s1,s2)\n",
    "    ### don't want to count \"empty\" characters ...\n",
    "    max_buff_length = max( sum([1 for c in s1 if c=='_']), sum([1 for c in s2 if c=='_'])  )\n",
    "    return (sum((ch1 == ch2 and ch1 != '_' and ch2 != '_') for ch1, ch2 in zip(s1, s2)) / \n",
    "            (len(s2)-max_buff_length) )"
   ]
  },
  {
   "cell_type": "code",
   "execution_count": 6,
   "metadata": {},
   "outputs": [
    {
     "name": "stdout",
     "output_type": "stream",
     "text": [
      "0.4444444444444444\n",
      "0.6666666666666666\n",
      "0.4444444444444444\n",
      "0.4444444444444444\n"
     ]
    }
   ],
   "source": [
    "t1 = 'GEDEESESD______'\n",
    "t2 = 'AEEKEAKSD______'\n",
    "\n",
    "print(inv_hamming_distance(t1,t2))\n",
    "print(inv_hamming_distance_COPYPASTA(t1,t2))\n",
    "\n",
    "print(inv_hamming_distance_COPYPASTA('GEDEESESD','AEEKEAKSD'))\n",
    "print(inv_hamming_distance('GEDEESESD','AEEKEAKSD'))"
   ]
  },
  {
   "cell_type": "code",
   "execution_count": 13,
   "metadata": {
    "scrolled": true
   },
   "outputs": [
    {
     "name": "stdout",
     "output_type": "stream",
     "text": [
      "0.559 mins\n"
     ]
    },
    {
     "data": {
      "text/html": [
       "\n",
       "                <audio  controls=\"controls\" autoplay=\"autoplay\">\n",
       "                    <source src=\"http://www.wavsource.com/snds_2020-03-30_7102365145747638/animals/cat_meow2.wav\" type=\"audio/x-wav\" />\n",
       "                    Your browser does not support the audio element.\n",
       "                </audio>\n",
       "              "
      ],
      "text/plain": [
       "<IPython.lib.display.Audio object>"
      ]
     },
     "metadata": {},
     "output_type": "display_data"
    }
   ],
   "source": [
    "import time\n",
    "import itertools\n",
    "\n",
    "start = time.time()\n",
    "similar_motifs = []\n",
    "for i,combo in enumerate(itertools.product(train_motifs, test_motifs)):\n",
    "    score = inv_hamming_distance(combo[0],combo[1])\n",
    "    if score >= 0.6:\n",
    "        print(score, combo)\n",
    "        similar_motifs.append( [combo[0], combo[1], score] )\n",
    "print(\"%5.3f mins\" % ((time.time()-start)/60))\n",
    "allDone()\n"
   ]
  },
  {
   "cell_type": "code",
   "execution_count": 8,
   "metadata": {},
   "outputs": [
    {
     "name": "stdout",
     "output_type": "stream",
     "text": [
      "279\n",
      "229\n"
     ]
    }
   ],
   "source": [
    "sim_train = list(set([x[0] for x in similar_motifs]))\n",
    "sim_test = list(set([x[1] for x in similar_motifs]))\n",
    "\n",
    "print(len(sim_train))\n",
    "print(len(sim_test))"
   ]
  },
  {
   "cell_type": "code",
   "execution_count": 9,
   "metadata": {},
   "outputs": [
    {
     "data": {
      "text/plain": [
       "['KEFGAPKSPGTARKD',\n",
       " 'LGRDKYKTLRQIRQG',\n",
       " 'PEQSKRSTMVGTPYW',\n",
       " 'PRPLRRESEI_____',\n",
       " 'NNFFRRHSWICFDVD',\n",
       " 'VEEDPLNSGDDVSEQ',\n",
       " 'VSLERRSSSSSSISS',\n",
       " 'GDDEESESD______',\n",
       " 'ISQQRRKSAMF____',\n",
       " 'VRTDSVKTPESEGNP',\n",
       " 'KKKEKVES_______',\n",
       " 'SVPDFPLSPPKKKDL',\n",
       " 'GLINKKCYEMASHLR',\n",
       " 'LNEKPQLSFSDKNLI',\n",
       " 'NRFTRRASVCAEAYN',\n",
       " 'GAQKRKKSTKEKAGP',\n",
       " 'CKGFFRRSVRKNHMY',\n",
       " 'SFRTPRDSKLEAPAE',\n",
       " 'CKKAGNLYDISEDNS',\n",
       " 'VTRTRSLSACNKRVG',\n",
       " 'KEVEDKESEGEEEDE',\n",
       " 'PPGSGRSTPRRIPHS',\n",
       " 'THLAWINTPRKEGGL',\n",
       " 'YAHQQPPSPLPVYSS',\n",
       " 'YAHQQPPSPSPIYSS',\n",
       " 'FTATEGQYQPQP___',\n",
       " 'IHSNLDFSPVNNGSS',\n",
       " 'SFKLSGFSFKKNKKE',\n",
       " 'CKGFFRRSMKRKALF',\n",
       " 'RLIVDDEYNPQQGTK',\n",
       " 'LGYRDSGYYWEVPPS',\n",
       " 'RGKFKRPTLRRVRIS',\n",
       " 'ERGKLPESPKRAEEI',\n",
       " 'DSLEEAGSPAPGPCP',\n",
       " 'EEVTQGHSLKDGLGH',\n",
       " 'RHRSRSSSRSRSRSH',\n",
       " 'ARPPASPSPQRQAGP',\n",
       " 'VSQSRKPSASERLPD',\n",
       " 'SVTGAAPYGSFMQAP',\n",
       " 'ITSAARRSYVSSGEM',\n",
       " 'RRRRRSRTFSRSSSQ',\n",
       " 'KKKFRTPSFLKKSKK',\n",
       " 'EEEDELESGDQDDED',\n",
       " 'SVDSSEESFSDSDDD',\n",
       " 'DTRQIQPSPPWSYDQ',\n",
       " 'GPLAPPASPGPFATR',\n",
       " 'SRRSRSRSRSRSPGR',\n",
       " 'VTSATRRSYVSSSEM',\n",
       " 'RRRRRSRSRSRSRSR',\n",
       " 'DDDDDDNSDEEDNDD',\n",
       " 'GGMQRKLSVALAFVG',\n",
       " 'FKKPFKLSGLSFKRN',\n",
       " 'EAPQRRSSEGSTPRR',\n",
       " 'SSLSSSSSDEDTEVF',\n",
       " 'KHSGGSSTPGGAGGS',\n",
       " 'GRFDRRVSVCAETYN',\n",
       " 'PAGSARGSPTRPNPP',\n",
       " 'RNSPVTKTPPRDLPT',\n",
       " 'SQGSSGSSQSKNSSQ',\n",
       " 'KAARVLGSEGEEEDE',\n",
       " 'AVILTVESEEEEEES',\n",
       " 'SSEPVGIYQGFEKKT',\n",
       " 'DTEDEVDSDFDIDEG',\n",
       " 'DRRERGRSPDRRRQD',\n",
       " 'ELMNANPSPPPSPSQ',\n",
       " 'RGKFKVASFRKKYEL',\n",
       " 'EDPAKFKSVKTGRGP',\n",
       " 'DDIDLFGSDNEEEDK',\n",
       " 'NSLRKRNSMRRNNSM',\n",
       " 'LKKSLRQSFRRIRKS',\n",
       " 'DGPGLGRSPGEPSAA',\n",
       " 'NAALRRESQGSLNSS',\n",
       " 'EGRQPSPSPSPTERA',\n",
       " 'TIKQEPVSPKKKENA',\n",
       " 'PGKETNESPWRSDLL',\n",
       " 'IWKGVKTSGKVVWVT',\n",
       " 'VGGFAPMSPRISSPM',\n",
       " 'LPRPRSCTWPLPRPE',\n",
       " 'GEDEESESD______',\n",
       " 'NSMRRSNSIRRNNSS',\n",
       " 'RTISGDLTAEEELER',\n",
       " 'GMIRVRKSKGKYAYL',\n",
       " 'REAEEESSDDD____',\n",
       " 'LLKHMTQSSRKLIRA',\n",
       " 'IYKSAVTTVVNPKYE',\n",
       " 'APRRRSPSPTPTPGP',\n",
       " 'IIGLQMGTNKFASQQ',\n",
       " 'DQPEDAGSEDELEEG',\n",
       " 'PGLRRRQT_______',\n",
       " 'KEEEEGISQESSEEE',\n",
       " 'NRRKVMDSDEDDDY_',\n",
       " 'QSVYIPMSPGAHHFD',\n",
       " 'AEGSHSNSPTNMAPS',\n",
       " 'VHSQRRESFLYRSDS',\n",
       " 'TRATETVYSEIRKVD',\n",
       " 'QASSTPLSPTRITRL',\n",
       " 'GSPNRAYTHQVVTRW',\n",
       " 'LALHIRSSMSGLHLV',\n",
       " 'SKESEHDSDESSDDD',\n",
       " 'RYVLDDQYVSSVGTK',\n",
       " 'EMVPSSPSPPPPPRV',\n",
       " 'FKKSFKLSGFSFKKS',\n",
       " 'SPSYSPTSPKYTPTS',\n",
       " 'KHTRRKESHAARRHQ',\n",
       " 'AGRDKYKTLRQIRQG',\n",
       " 'ANRKIKFSCAPIKVF',\n",
       " 'MGTNRGASQAGMTGY',\n",
       " 'DLTIDSSSDEEEEEP',\n",
       " 'AKNPGLETHRKRKRS',\n",
       " 'EDEGGEVYEDLMKAE',\n",
       " 'RFVLDDQYTSSTGTK',\n",
       " 'SARIRQNTREHPSTA',\n",
       " 'INKKQATSPASKKPA',\n",
       " 'MVGGKPGSFRVRASS',\n",
       " 'SMVGGERSPPRILPP',\n",
       " 'RRQAERMSQIKRLLS',\n",
       " 'AAPAPPPTPQAPAAE',\n",
       " 'SLKPNPASPLPASPY',\n",
       " 'PFKLSGLSFKRNRKE',\n",
       " 'RSNSRSRSYSPRRSR',\n",
       " 'NRVKRRPSPYEMEIS',\n",
       " 'TSTMPNSSQSSHSSS',\n",
       " 'QSRPRSCTWPLPRPE',\n",
       " 'GCMFVKISQPKKRAE',\n",
       " 'SYQVAPLSPRSANAF',\n",
       " 'GFHPRRSSQGVLHMP',\n",
       " '_MPKRKVSSAEGAAK',\n",
       " 'GIPIRVYTHEVVTLW',\n",
       " 'LSRERGESPTAPPPA',\n",
       " 'TTSQRRESFLYRSDS',\n",
       " 'SYKIRFNSVSCSDPL',\n",
       " 'RKLQGRPSPGPPAPE',\n",
       " 'LGCQRRHTLPASEFR',\n",
       " 'CKSFFKRSIRRNLSY',\n",
       " 'EKGNVFSSPGGTGTP',\n",
       " 'QSRPRSCTWPLPRPD',\n",
       " 'SSSQRVSSYRRTFGG',\n",
       " '______MSSKKAKTK',\n",
       " 'EEEEEEESILDTVLK',\n",
       " 'KVSKDDRSDIESSSD',\n",
       " 'GRELRRMSDEFVDSF',\n",
       " 'KPPPEDYYEEALPLG',\n",
       " 'EILSRRPSYRKILNE',\n",
       " 'IEKRYRSSINDKIIE',\n",
       " 'GGPTTPLSPTRLSRL',\n",
       " 'NISYRRESAI_____',\n",
       " 'ESQEELHYATLNFPG',\n",
       " 'MDARPAVYTQVQKPP',\n",
       " 'SNKIRRLSACKQQ__',\n",
       " 'SQVRRRSSLLGSQLE',\n",
       " 'SPRYTPQSPTYTPSS',\n",
       " 'QTEPQDRSPAPMSCD',\n",
       " 'RMRSRSRSFSRHRSC',\n",
       " 'YAGGLSSSYGGLTSP',\n",
       " 'KEAEEESSEDD____',\n",
       " 'SSLSVRRSYSSSSGS',\n",
       " 'EFAVRKSTAALEEDA',\n",
       " 'KSMLRKRSFGNPFEP',\n",
       " 'HAALRRNSDR_____',\n",
       " 'GGRRRHSSETFSSTT',\n",
       " 'VGLLKLASPELERLI',\n",
       " 'YVVKRRDSATSCSLD',\n",
       " 'GHSQRRESFLYRSDS',\n",
       " 'RPRHSIYSSDEDDED',\n",
       " 'MEAGRRRSEYADMYP',\n",
       " 'EEEEESDSSETEKED',\n",
       " '_____MSSPASTPSR',\n",
       " 'GQRDRSSSAPNVHIN',\n",
       " 'RSEDARSSPSQRRRG',\n",
       " 'VLGLSQGSVSEILAR',\n",
       " 'STETRSSSSESSHSS',\n",
       " 'RGRGRGGSIRGRGRG',\n",
       " 'SSPGSPGTPGSRSRT',\n",
       " 'SAAAAIVSPEEELDG',\n",
       " 'MPKRKVSSAEGAAKE',\n",
       " 'TTESVGIYQGFEKKP',\n",
       " 'YKLMKSDSYPRFIRS',\n",
       " 'GFPTIYFSPANKKLN',\n",
       " 'FESCKKHTGVQSKPI',\n",
       " 'QQATTGVSQETSENP',\n",
       " 'GWKRRRRSSSVVAGE',\n",
       " 'AAPAAPASEDEDEED',\n",
       " 'DEESNDDSDDDDE__',\n",
       " 'RSNDKPYSAKYSAAR',\n",
       " 'KVIYSQPSTRSEGEF',\n",
       " 'SSGVRAPSPAPSSVP',\n",
       " 'AAEERRKSHEAEVLK',\n",
       " 'EKLQYYYSTSEDEDS',\n",
       " 'CKGFFRRTIRLKLAY',\n",
       " 'QSRPRSCTWPLQRPE',\n",
       " 'KDCGSQKYAYFNGCS',\n",
       " 'WNPFPDFTPQKFKEK',\n",
       " 'RLIEDNEYTAREGAK',\n",
       " 'TSTLPRNSGAGASSG',\n",
       " 'SFVGTLQYLAPELLE',\n",
       " 'GTEEKCGSPRVRTLS',\n",
       " 'FVQLRRKSDLETSEP',\n",
       " 'MGTVLSLSPASSAKG',\n",
       " 'KSPTRKKSGPFGSRR',\n",
       " 'RSSSRERSRSRGSKS',\n",
       " 'PPPVRRRSSANYRAY',\n",
       " 'DPSQRRRSLEPPDST',\n",
       " 'PGRQRRHTLPANEFR',\n",
       " 'IPTLNRMSFSSNLNH',\n",
       " 'SRLRRRASQLKITIP',\n",
       " 'ATRGRGNSGSGGGRR',\n",
       " 'ESSPLPTSPKFLRPN',\n",
       " 'VIGLQMGTNRGASQA',\n",
       " 'LSSTPLSTPCSSVPS',\n",
       " 'EIVPSPPSPPPLPRI',\n",
       " 'DVYSTDYYRVGGHTM',\n",
       " 'RSRSRSRSPRPRGDS',\n",
       " 'LKKIRLDTETEGVPS',\n",
       " 'SPTYSPTSPKYSPTS',\n",
       " 'EVDDEEETIEEEEAN',\n",
       " 'RDLELPLSPSLLGGQ',\n",
       " 'RGRGRAGSQGGRGGG',\n",
       " 'SLLKKRDSFRRDSKL',\n",
       " 'PHSQRRESFLYRSDS',\n",
       " 'YLQARKPSDCDSKEL',\n",
       " 'AVIPINGSPRTPRRG',\n",
       " 'GVPVRTYTHEVVTLW',\n",
       " 'VVKQEQLSPKKKENN',\n",
       " 'MERRRVTSATRRSYV',\n",
       " 'GTEEKCGSPRIRTLS',\n",
       " 'SSSGGDRSPTRMLAS',\n",
       " 'NQVFLGFTYVAPSVL',\n",
       " 'MYGSGSRTPMYGSQT',\n",
       " 'YCTTPGGTLFSTTPG',\n",
       " 'HFNKGPSYGLSAEVK',\n",
       " 'SERGVRLSLPRASSL',\n",
       " '______MSGRGKQGG',\n",
       " 'GQRDSSYYWEIEASE',\n",
       " 'MKKKDEGSYSLEEPK',\n",
       " 'QDHYETDYTTGGESC',\n",
       " 'QTEEEPTYEVPPEQD',\n",
       " 'QGRKRRQTSMTDFYH',\n",
       " 'SPKYSPTSPTYSPTT',\n",
       " 'VKKVGPDSD______',\n",
       " 'KLQYYYSTSEDEDSD',\n",
       " 'EDPAKFKSIKTGRGP',\n",
       " 'VPPARPGSRGPAPGP',\n",
       " 'PSTSPRASVTEESWL',\n",
       " 'GFSKNCGSPGSSQLS',\n",
       " 'GVLSRKLSDFGQETS',\n",
       " 'AFAPPRSSPCASSTP',\n",
       " 'DDSGTEES_______',\n",
       " 'RIIEDNEYTAREGAK',\n",
       " 'PASSAKTSPAKQQAP',\n",
       " 'FTSTEPQYQPGDQT_',\n",
       " 'ASASSSSSPASSGPA',\n",
       " 'QPFGFIDSDTDAEEE',\n",
       " 'RLIKDDEYNPCQGSK',\n",
       " 'SSGGRRVSFADNFGF',\n",
       " 'EDKYRRASEELDGLF',\n",
       " 'PGSPPVLTPGSLPPS',\n",
       " 'AALIQDQSEEEEEEE',\n",
       " 'KAPKMKESDEEEEEE',\n",
       " 'EDAVHEDSGDEDGED',\n",
       " 'EEPLEDESEIEEFYN',\n",
       " 'RKSRRRSSEVEIFVD',\n",
       " 'KRKARSGSSSYSYGP',\n",
       " 'ALDFQPSSPSPHRKP',\n",
       " 'VEVDPMLTPEERHLN',\n",
       " 'DDASATASKTETSQV',\n",
       " 'SVPEFPLSPPKKKDL',\n",
       " '_____MSSPPPARSG',\n",
       " 'PIGEDEESESD____',\n",
       " 'PVVFTVGSPPSGSTP',\n",
       " 'IACEEEFSDSEEEGE',\n",
       " 'LRRLRPRTRKIKGVS',\n",
       " 'PASSPVSSPSKHGDR',\n",
       " 'AKLGRRHSMENLELM',\n",
       " 'MERRRVTSAARRSYV',\n",
       " 'EEEEESESEDSEDSG',\n",
       " 'PPPPPPVYEPVSYHV',\n",
       " 'VKKSVRDTPAKNAQK',\n",
       " 'EGEEEDVSGEEEEDE',\n",
       " 'RRRSYSRSRSHSRSR']"
      ]
     },
     "execution_count": 9,
     "metadata": {},
     "output_type": "execute_result"
    }
   ],
   "source": [
    "sim_train"
   ]
  },
  {
   "cell_type": "raw",
   "metadata": {},
   "source": [
    "* * * RESULTS * * *\n",
    "\n",
    "at 0.6 thresh:\n",
    "sim_train: 271\n",
    "sim_test: 218\n",
    "\n",
    "at 0.7 thresh:\n",
    "sim_train: 145\n",
    "sim_test: 129"
   ]
  },
  {
   "cell_type": "code",
   "execution_count": 10,
   "metadata": {},
   "outputs": [
    {
     "name": "stdout",
     "output_type": "stream",
     "text": [
      "2040 2301\n",
      "[5]\n",
      "[5]\n",
      "[0 0 0 0 0 1 0 0]\n",
      "[0 0 0 0 0 1 0 0]\n",
      "['CK2']\n",
      "['CK2']\n"
     ]
    }
   ],
   "source": [
    "MY_IDX = 16\n",
    "\n",
    "t1 = similar_motifs[MY_IDX][0]\n",
    "t2 = similar_motifs[MY_IDX][1]\n",
    "\n",
    "i1 = np.where(motifs==t1)[0][0]\n",
    "i2 = np.where(motifs==t2)[0][0]\n",
    "\n",
    "print(i1,i2)\n",
    "\n",
    "fi1 = np.where(motifxFamMatrix[i1]==1)[0]\n",
    "fi2 = np.where(motifxFamMatrix[i2]==1)[0]\n",
    "print(fi1)\n",
    "print(fi2)\n",
    "\n",
    "print(motifxFamMatrix[i1])\n",
    "print(motifxFamMatrix[i2])\n",
    "\n",
    "print(fams[fi1])\n",
    "\n",
    "print(fams[fi2])"
   ]
  },
  {
   "cell_type": "markdown",
   "metadata": {},
   "source": [
    "## Define and save training set indices to remove ... "
   ]
  },
  {
   "cell_type": "code",
   "execution_count": 12,
   "metadata": {},
   "outputs": [],
   "source": [
    "idc_to_remove = []\n",
    "for motif in sim_train:\n",
    "    idx = np.where(motifs==motif)[0][0]\n",
    "    idc_to_remove.append(idx)\n",
    "idc_to_remove = np.array((idc_to_remove))"
   ]
  },
  {
   "cell_type": "code",
   "execution_count": 13,
   "metadata": {},
   "outputs": [],
   "source": [
    "idc_to_keep = [x for x in X_train if x not in idc_to_remove]\n",
    "X_train = idc_to_keep\n",
    "\n",
    "train_motifs = motifs[X_train]\n",
    "test_motifs = motifs[X_test]\n",
    "\n",
    "train_motifxFamMatrix = motifxFamMatrix[X_train]\n",
    "test_motifxFamMatrix = motifxFamMatrix[X_test]\n",
    "\n",
    "data_dir = \"data__for_nerds/\"\n",
    "\n",
    "df = pd.DataFrame(train_motifs,dtype='U')\n",
    "df.to_csv(data_dir + 'train_motifs.csv',header=None,index=None)\n",
    "df = pd.DataFrame(test_motifs,dtype='U')\n",
    "df.to_csv(data_dir + 'test_motifs.csv',header=None,index=None)\n",
    "\n",
    "df = pd.DataFrame(train_motifxFamMatrix,dtype=int)\n",
    "df.to_csv(data_dir + 'train_motifxFamMatrix.csv',header=None,index=None)\n",
    "df = pd.DataFrame(test_motifxFamMatrix,dtype=int)\n",
    "df.to_csv(data_dir + 'test_motifxFamMatrix.csv',header=None,index=None)"
   ]
  },
  {
   "cell_type": "code",
   "execution_count": null,
   "metadata": {},
   "outputs": [],
   "source": []
  },
  {
   "cell_type": "code",
   "execution_count": null,
   "metadata": {},
   "outputs": [],
   "source": []
  },
  {
   "cell_type": "code",
   "execution_count": null,
   "metadata": {},
   "outputs": [],
   "source": []
  },
  {
   "cell_type": "markdown",
   "metadata": {},
   "source": [
    "### Getting rid of that bad motif."
   ]
  },
  {
   "cell_type": "code",
   "execution_count": 11,
   "metadata": {},
   "outputs": [],
   "source": [
    "train_motifs = np.genfromtxt('data__for_nerds/train_motifs.csv',dtype='U')\n",
    "train_motifxFamMatrix = np.genfromtxt('data__for_nerds/train_motifxFamMatrix.csv',delimiter=',',dtype=int)\n",
    "test_motifs = np.genfromtxt('data__for_nerds/test_motifs.csv',dtype='U')\n",
    "test_motifxFamMatrix = np.genfromtxt('data__for_nerds/test_motifxFamMatrix.csv',delimiter=',',dtype=int)\n",
    "\n",
    "fams = np.genfromtxt('data__for_nerds/fams.csv',dtype='U')"
   ]
  },
  {
   "cell_type": "code",
   "execution_count": 12,
   "metadata": {},
   "outputs": [],
   "source": [
    "all_motifs = np.hstack([train_motifs,test_motifs])\n",
    "all_motifxFamMatrix = np.vstack([train_motifxFamMatrix,test_motifxFamMatrix])"
   ]
  },
  {
   "cell_type": "code",
   "execution_count": 15,
   "metadata": {},
   "outputs": [
    {
     "data": {
      "text/plain": [
       "(array([533]),)"
      ]
     },
     "execution_count": 15,
     "metadata": {},
     "output_type": "execute_result"
    }
   ],
   "source": [
    "np.where(test_motifs=='__PKRKVSSAEGAAK')"
   ]
  },
  {
   "cell_type": "code",
   "execution_count": 29,
   "metadata": {},
   "outputs": [],
   "source": [
    "poo = [x for x in range(len(test_motifs)) if x!=533]\n",
    "new_test_motifs = test_motifs[poo]\n",
    "new_test_motifxFamMatrix = test_motifxFamMatrix[poo]"
   ]
  },
  {
   "cell_type": "code",
   "execution_count": 27,
   "metadata": {},
   "outputs": [
    {
     "data": {
      "text/plain": [
       "1180"
      ]
     },
     "execution_count": 27,
     "metadata": {},
     "output_type": "execute_result"
    }
   ],
   "source": [
    "len(test_motifs)"
   ]
  },
  {
   "cell_type": "code",
   "execution_count": 28,
   "metadata": {},
   "outputs": [
    {
     "data": {
      "text/plain": [
       "1179"
      ]
     },
     "execution_count": 28,
     "metadata": {},
     "output_type": "execute_result"
    }
   ],
   "source": [
    "len(new_test_motifs)"
   ]
  },
  {
   "cell_type": "code",
   "execution_count": 30,
   "metadata": {},
   "outputs": [
    {
     "data": {
      "text/plain": [
       "(1179, 8)"
      ]
     },
     "execution_count": 30,
     "metadata": {},
     "output_type": "execute_result"
    }
   ],
   "source": [
    "new_test_motifxFamMatrix.shape"
   ]
  },
  {
   "cell_type": "code",
   "execution_count": 33,
   "metadata": {},
   "outputs": [],
   "source": [
    "data_dir = \"data__for_nerds/\"\n",
    "\n",
    "df = pd.DataFrame(new_test_motifs,dtype='U')\n",
    "df.to_csv(data_dir + 'new_test_motifs.csv',header=None,index=None)\n",
    "df = pd.DataFrame(new_test_motifxFamMatrix,dtype='U')\n",
    "df.to_csv(data_dir + 'new_test_motifxFamMatrix.csv',header=None,index=None)"
   ]
  },
  {
   "cell_type": "code",
   "execution_count": null,
   "metadata": {},
   "outputs": [],
   "source": []
  }
 ],
 "metadata": {
  "kernelspec": {
   "display_name": "Python 3",
   "language": "python",
   "name": "python3"
  },
  "language_info": {
   "codemirror_mode": {
    "name": "ipython",
    "version": 3
   },
   "file_extension": ".py",
   "mimetype": "text/x-python",
   "name": "python",
   "nbconvert_exporter": "python",
   "pygments_lexer": "ipython3",
   "version": "3.7.3"
  }
 },
 "nbformat": 4,
 "nbformat_minor": 2
}
