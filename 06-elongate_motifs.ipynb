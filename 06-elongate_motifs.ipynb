{
 "cells": [
  {
   "cell_type": "code",
   "execution_count": 9,
   "metadata": {},
   "outputs": [
    {
     "name": "stdout",
     "output_type": "stream",
     "text": [
      "Help on package Bio:\n",
      "\n",
      "NAME\n",
      "    Bio\n",
      "\n",
      "PACKAGE CONTENTS\n",
      "    profiler\n",
      "\n",
      "FILE\n",
      "    (built-in)\n",
      "\n",
      "\n"
     ]
    },
    {
     "ename": "ImportError",
     "evalue": "cannot import name 'SeqIO' from 'Bio' (unknown location)",
     "output_type": "error",
     "traceback": [
      "\u001b[0;31m---------------------------------------------------------------------------\u001b[0m",
      "\u001b[0;31mImportError\u001b[0m                               Traceback (most recent call last)",
      "\u001b[0;32m<ipython-input-9-232cf0628afe>\u001b[0m in \u001b[0;36m<module>\u001b[0;34m\u001b[0m\n\u001b[1;32m     12\u001b[0m \u001b[0;32mimport\u001b[0m \u001b[0mtime\u001b[0m\u001b[0;34m\u001b[0m\u001b[0;34m\u001b[0m\u001b[0m\n\u001b[1;32m     13\u001b[0m \u001b[0;32mimport\u001b[0m \u001b[0mnumpy\u001b[0m \u001b[0;32mas\u001b[0m \u001b[0mnp\u001b[0m\u001b[0;34m\u001b[0m\u001b[0;34m\u001b[0m\u001b[0m\n\u001b[0;32m---> 14\u001b[0;31m \u001b[0;32mfrom\u001b[0m \u001b[0mBio\u001b[0m \u001b[0;32mimport\u001b[0m \u001b[0mSeqIO\u001b[0m\u001b[0;34m\u001b[0m\u001b[0;34m\u001b[0m\u001b[0m\n\u001b[0m\u001b[1;32m     15\u001b[0m \u001b[0;34m\u001b[0m\u001b[0m\n\u001b[1;32m     16\u001b[0m \u001b[0;32mfrom\u001b[0m \u001b[0mIPython\u001b[0m\u001b[0;34m.\u001b[0m\u001b[0mdisplay\u001b[0m \u001b[0;32mimport\u001b[0m \u001b[0mAudio\u001b[0m\u001b[0;34m,\u001b[0m \u001b[0mdisplay\u001b[0m\u001b[0;34m\u001b[0m\u001b[0;34m\u001b[0m\u001b[0m\n",
      "\u001b[0;31mImportError\u001b[0m: cannot import name 'SeqIO' from 'Bio' (unknown location)"
     ]
    }
   ],
   "source": [
    "import Bio\n",
    "help(Bio)\n",
    "\n",
    "# print(Bio)\n",
    "from numpy import genfromtxt\n",
    "import csv\n",
    "# help(csv)\n",
    "import numpy\n",
    "import random\n",
    "import pandas as pd\n",
    "import re\n",
    "import time\n",
    "import numpy as np\n",
    "from Bio import SeqIO\n",
    "\n",
    "from IPython.display import Audio, display\n",
    "def allDone():\n",
    "    urL = 'https://www.wavsource.com/snds_2020-10-01_3728627494378403/animals/cat_meow2.wav'\n",
    "    display(Audio(url=urL, autoplay=True))\n",
    "allDone()\n",
    "\n",
    "random.seed(666)"
   ]
  },
  {
   "cell_type": "code",
   "execution_count": 6,
   "metadata": {},
   "outputs": [
    {
     "name": "stdout",
     "output_type": "stream",
     "text": [
      "/Users/Katbox/anaconda3/bin/python\r\n"
     ]
    }
   ],
   "source": [
    "!which python\n"
   ]
  },
  {
   "cell_type": "markdown",
   "metadata": {},
   "source": [
    "## Elongate sequences for comparison testing with DeepPhos and MusiteDeep"
   ]
  },
  {
   "cell_type": "code",
   "execution_count": null,
   "metadata": {},
   "outputs": [],
   "source": [
    "test_motifs = np.genfromtxt('data_dev/new_test_motifs.csv',dtype='U')\n",
    "test_motifxFamMatrix = np.genfromtxt('data_dev/new_test_motifxFamMatrix.csv',delimiter=',',dtype=int)\n",
    "\n",
    "# test_motifs = np.genfromtxt('data_dev/test_motifs.csv',dtype='U')\n",
    "# test_motifxFamMatrix = np.genfromtxt('data_dev/test_motifxFamMatrix.csv',delimiter=',',dtype=int)\n",
    "\n",
    "fams = np.genfromtxt('data_dev/fams.csv',dtype='U')\n",
    "\n",
    "print(len(test_motifs))"
   ]
  },
  {
   "cell_type": "code",
   "execution_count": null,
   "metadata": {},
   "outputs": [],
   "source": [
    "f = 'data_raw/uniprot_human.fasta'\n",
    "fasta_content = SeqIO.parse(open(f),'fasta')\n",
    "\n",
    "uniprot_seqs = []\n",
    "prots = []\n",
    "\n",
    "for fasta in fasta_content:\n",
    "    name, sequence = fasta.id, str(fasta.seq)\n",
    "    prot = name[name.find('|')+1:]\n",
    "    prot = prot[:prot.find('|')]\n",
    "    prots.append(prot)\n",
    "    if prot == 'P02316':\n",
    "        print(prot,sequence)\n",
    "        break\n",
    "    uniprot_seqs.append(sequence)\n",
    "print(len(uniprot_seqs))\n",
    "\n",
    "f = 'data_raw/uniprot_non-human.fasta'\n",
    "fasta_content = SeqIO.parse(open(f),'fasta')\n",
    "\n",
    "for fasta in fasta_content:\n",
    "    name, sequence = fasta.id, str(fasta.seq)\n",
    "    prot = name[name.find('|')+1:]\n",
    "    prot = prot[:prot.find('|')]\n",
    "    prots.append(prot)\n",
    "    uniprot_seqs.append(sequence)\n",
    "print(len(set(uniprot_seqs)))"
   ]
  },
  {
   "cell_type": "raw",
   "metadata": {},
   "source": [
    "188558\n",
    "454450"
   ]
  },
  {
   "cell_type": "code",
   "execution_count": null,
   "metadata": {},
   "outputs": [],
   "source": [
    "uniprot_seqs = list(set(uniprot_seqs))"
   ]
  },
  {
   "cell_type": "code",
   "execution_count": null,
   "metadata": {},
   "outputs": [],
   "source": [
    "start = time.time()\n",
    "\n",
    "motif_to_longSeq = {mot:[] for mot in test_motifs}\n",
    "\n",
    "found = []\n",
    "for i,motif in enumerate(test_motifs):\n",
    "    \n",
    "    if i%100==0:\n",
    "        print(i)\n",
    "    \n",
    "    success = 0\n",
    "    motif_trim = ''\n",
    "    front = False\n",
    "    back = False\n",
    "    \n",
    "    if motif[0]=='_':\n",
    "        motif_trim = motif[motif.rfind('_')+1:] # reverse find\n",
    "        front = True\n",
    "    elif motif[-1]=='_':\n",
    "        motif_trim = motif[:motif.find('_')]\n",
    "        back = True\n",
    "        \n",
    "    for seq in uniprot_seqs:\n",
    "        if front:\n",
    "            if seq[:len(motif_trim)]==motif_trim:\n",
    "                found.append(motif)\n",
    "                motif_to_longSeq[motif].append(seq)\n",
    "                success = 1\n",
    "        elif back:\n",
    "            if seq[-len(motif_trim):]==motif_trim:\n",
    "                found.append(motif)\n",
    "                motif_to_longSeq[motif].append(seq)\n",
    "                success = 1\n",
    "        elif motif in seq:\n",
    "            found.append(motif)\n",
    "            motif_to_longSeq[motif].append(seq)\n",
    "            success = 1\n",
    "            \n",
    "    if not success:\n",
    "        print(i,motif,motif_trim)\n",
    "        found.append(\"+\")\n",
    "            \n",
    "print(\"%5.3f mins\" % ((time.time()-start)/60))"
   ]
  },
  {
   "cell_type": "code",
   "execution_count": null,
   "metadata": {},
   "outputs": [],
   "source": [
    "print(len(found))\n",
    "print(len(set(found)))"
   ]
  },
  {
   "cell_type": "code",
   "execution_count": null,
   "metadata": {},
   "outputs": [],
   "source": [
    "motif_to_randSeq = {motif:0 for motif in motif_to_longSeq.keys()}\n",
    "for k,v in motif_to_longSeq.items():\n",
    "    motif_to_randSeq[k] = random.Random(666).choice(v)"
   ]
  },
  {
   "cell_type": "code",
   "execution_count": null,
   "metadata": {},
   "outputs": [],
   "source": [
    "def retrieve_longmer(motif,sequence,flank):\n",
    "\n",
    "    front = False\n",
    "    back = False\n",
    "    \n",
    "    if motif[0]=='_':\n",
    "        motif_trim = motif[motif.rfind('_')+1:] # reverse find\n",
    "        buff_length = motif.count('_')\n",
    "        front = True\n",
    "    elif motif[-1]=='_':\n",
    "        motif_trim = motif[:motif.find('_')]\n",
    "        back = True\n",
    "        buff_length = motif.count('_')\n",
    "    if front:\n",
    "        phosphosite_idx = 7 - buff_length\n",
    "    elif back:\n",
    "        phosphosite_idx = len(sequence) - (7-buff_length) - 1\n",
    "    else:\n",
    "        motifStart_idx = sequence.find(motif)\n",
    "        phosphosite_idx = motifStart_idx + 7\n",
    "    \n",
    "    n_buff = False\n",
    "    c_buff = False\n",
    "    \n",
    "    n_idx = phosphosite_idx - flank\n",
    "    if n_idx <= 0:\n",
    "        n_buff = flank - phosphosite_idx\n",
    "        n_idx = 0\n",
    "    c_idx = phosphosite_idx + flank + 1    \n",
    "    if c_idx > len(sequence)-1:\n",
    "        c_buff = phosphosite_idx + flank - len(sequence) + 2\n",
    "        c_idx = len(sequence)-1 \n",
    "        \n",
    "    motif = sequence[n_idx:c_idx]\n",
    "    \n",
    "    if n_buff:\n",
    "        motif = '-'*n_buff + motif \n",
    "    if c_buff:\n",
    "        motif = motif + '-'*c_buff\n",
    "        \n",
    "    return motif\n",
    "        "
   ]
  },
  {
   "cell_type": "code",
   "execution_count": null,
   "metadata": {},
   "outputs": [],
   "source": [
    "stuff = []\n",
    "for k,v in motif_to_randSeq.items():\n",
    "    stuff.append([k,retrieve_longmer(k,v,25)])\n",
    "# for each in stuff:\n",
    "#     print(each[0],len(each[1]),each[1])"
   ]
  },
  {
   "cell_type": "code",
   "execution_count": null,
   "metadata": {},
   "outputs": [],
   "source": [
    "#### FOR MUSITE DEEP MODEL ####\n",
    "\n",
    "ofile = open(\"data_dev/test_musite.fasta\", \"w\")\n",
    "for i,seq in enumerate(stuff):\n",
    "    ofile.write(\">\" + str(i) + \"\\n\" + seq[1] + \"\\n\")\n",
    "ofile.close()"
   ]
  },
  {
   "cell_type": "code",
   "execution_count": null,
   "metadata": {},
   "outputs": [],
   "source": [
    "deepPhos_vocab = ['A','C','D','E','F','G','H','I','K','L','M','N','P','Q','R','S','T','V','W','Y']"
   ]
  },
  {
   "cell_type": "code",
   "execution_count": null,
   "metadata": {},
   "outputs": [],
   "source": [
    "#### FOR DEEP PHOS MODEL ####\n",
    "\n",
    "data = []\n",
    "for i,each in enumerate(stuff):\n",
    "    motif = each[1]\n",
    "    motif = motif.replace(\"-\",\"*\")\n",
    "    motif = motif.replace('X',random.Random(666).choice(deepPhos_vocab)) \n",
    "    line = [i,26,motif]\n",
    "    data.append(line)\n",
    "\n",
    "df = pd.DataFrame(data)\n",
    "df.to_csv('data_dev/test_deepphos.csv',header=None,index=None)"
   ]
  },
  {
   "cell_type": "code",
   "execution_count": null,
   "metadata": {},
   "outputs": [],
   "source": []
  }
 ],
 "metadata": {
  "kernelspec": {
   "display_name": "Python 3",
   "language": "python",
   "name": "python3"
  },
  "language_info": {
   "codemirror_mode": {
    "name": "ipython",
    "version": 3
   },
   "file_extension": ".py",
   "mimetype": "text/x-python",
   "name": "python",
   "nbconvert_exporter": "python",
   "pygments_lexer": "ipython3",
   "version": "3.7.3"
  }
 },
 "nbformat": 4,
 "nbformat_minor": 4
}
