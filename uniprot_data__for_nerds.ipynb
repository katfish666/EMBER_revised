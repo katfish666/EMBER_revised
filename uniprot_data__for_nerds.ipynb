{
 "cells": [
  {
   "cell_type": "code",
   "execution_count": 12,
   "metadata": {},
   "outputs": [
    {
     "data": {
      "text/html": [
       "\n",
       "                <audio  controls=\"controls\" autoplay=\"autoplay\">\n",
       "                    <source src=\"http://www.wavsource.com/snds_2020-03-30_7102365145747638/animals/cat_meow2.wav\" type=\"audio/x-wav\" />\n",
       "                    Your browser does not support the audio element.\n",
       "                </audio>\n",
       "              "
      ],
      "text/plain": [
       "<IPython.lib.display.Audio object>"
      ]
     },
     "metadata": {},
     "output_type": "display_data"
    }
   ],
   "source": [
    "from numpy import genfromtxt\n",
    "import csv\n",
    "import numpy\n",
    "import random\n",
    "import pandas\n",
    "import re\n",
    "import time\n",
    "import numpy as np\n",
    "\n",
    "from IPython.display import Audio, display\n",
    "def allDone():\n",
    "    urL = 'http://www.wavsource.com/snds_2020-03-30_7102365145747638/animals/cat_meow2.wav'\n",
    "    display(Audio(url=urL, autoplay=True))\n",
    "allDone()\n",
    "\n",
    "random.seed(666)"
   ]
  },
  {
   "cell_type": "markdown",
   "metadata": {},
   "source": [
    "## Elongate sequences for comparison testing with DeepPhos and MusiteDeep"
   ]
  },
  {
   "cell_type": "code",
   "execution_count": 13,
   "metadata": {},
   "outputs": [
    {
     "data": {
      "text/plain": [
       "array(['TTAVEIDYDSLKLKK', 'GYGQGAGTLSTDKGE', 'TPQTQSTSGRRRRAA',\n",
       "       'HEILCKLSLEGDHST', 'RVRVRLLSGDTYEAV', 'SKKVKLQTPNTFPKR',\n",
       "       'PCLIIEDSQPESQVL', 'KPPPEDYYEEALPLG', 'TGIVEKLSKKELEQV',\n",
       "       'AEAAASAYYNPGNPH'], dtype='<U15')"
      ]
     },
     "execution_count": 13,
     "metadata": {},
     "output_type": "execute_result"
    }
   ],
   "source": [
    "motifs = np.genfromtxt(\"data__for_nerds/motifs.csv\",dtype='U')\n",
    "motifs[:10]"
   ]
  },
  {
   "cell_type": "code",
   "execution_count": 10,
   "metadata": {},
   "outputs": [],
   "source": [
    "from Bio import SeqIO\n",
    "\n",
    "f = 'data_raw/uniprot-vertebrate.fasta'\n",
    "\n",
    "fasta_content = SeqIO.parse(open(f),'fasta')\n",
    "uniprot_seqs = []\n",
    "\n",
    "for fasta in fasta_content:\n",
    "    name, sequence = fasta.id, str(fasta.seq)\n",
    "    uniprot_seqs.append(sequence)"
   ]
  },
  {
   "cell_type": "code",
   "execution_count": 11,
   "metadata": {},
   "outputs": [
    {
     "data": {
      "text/plain": [
       "235416"
      ]
     },
     "execution_count": 11,
     "metadata": {},
     "output_type": "execute_result"
    }
   ],
   "source": [
    "len(uniprot_seqs)"
   ]
  },
  {
   "cell_type": "code",
   "execution_count": 15,
   "metadata": {},
   "outputs": [],
   "source": [
    "motif = motifs[10]\n",
    "\n",
    "for seq in uniprot_seqs:\n",
    "    if motif in seq:\n",
    "        print(seq)"
   ]
  },
  {
   "cell_type": "code",
   "execution_count": 16,
   "metadata": {},
   "outputs": [
    {
     "data": {
      "text/plain": [
       "'MLQLRDTVDSAGTSPTAVLAAGEDAGAGRQGAGTPLRQTLWPLNVHDPTRRARVKEYFVFRPGTIEQAVEEIRAVVRPVEDGEIQGVWLLTEVDHWNNEKERLVLVTDQSLLICKYDFISLQCQQVVRVALSAVDTISCGEFQFPPKSLNKREGFGVRIQWDKQSRPSFINRWNPWSTNMPYATFIEHPMAGMDEKTASLCHLESFKALLIQAVKKAQKESPLPGQANNVLVLDRPLLIETYVGLMSFINNEAKLGYSMTRGKIGF'"
      ]
     },
     "execution_count": 16,
     "metadata": {},
     "output_type": "execute_result"
    }
   ],
   "source": [
    "uniprot_seqs[0]"
   ]
  },
  {
   "cell_type": "code",
   "execution_count": null,
   "metadata": {},
   "outputs": [],
   "source": []
  }
 ],
 "metadata": {
  "kernelspec": {
   "display_name": "Python 3",
   "language": "python",
   "name": "python3"
  },
  "language_info": {
   "codemirror_mode": {
    "name": "ipython",
    "version": 3
   },
   "file_extension": ".py",
   "mimetype": "text/x-python",
   "name": "python",
   "nbconvert_exporter": "python",
   "pygments_lexer": "ipython3",
   "version": "3.7.4"
  }
 },
 "nbformat": 4,
 "nbformat_minor": 2
}
