{
 "cells": [
  {
   "cell_type": "code",
   "execution_count": 1,
   "metadata": {},
   "outputs": [
    {
     "data": {
      "text/html": [
       "\n",
       "                <audio  controls=\"controls\" autoplay=\"autoplay\">\n",
       "                    <source src=\"http://www.wavsource.com/snds_2020-03-30_7102365145747638/animals/cat_meow2.wav\" type=\"audio/x-wav\" />\n",
       "                    Your browser does not support the audio element.\n",
       "                </audio>\n",
       "              "
      ],
      "text/plain": [
       "<IPython.lib.display.Audio object>"
      ]
     },
     "metadata": {},
     "output_type": "display_data"
    }
   ],
   "source": [
    "from numpy import genfromtxt\n",
    "import csv\n",
    "import numpy\n",
    "import random\n",
    "import pandas\n",
    "import re\n",
    "import time\n",
    "import numpy as np\n",
    "\n",
    "from IPython.display import Audio, display\n",
    "def allDone():\n",
    "    urL = 'http://www.wavsource.com/snds_2020-03-30_7102365145747638/animals/cat_meow2.wav'\n",
    "    display(Audio(url=urL, autoplay=True))\n",
    "allDone()\n",
    "\n",
    "random.seed(666)"
   ]
  },
  {
   "cell_type": "markdown",
   "metadata": {},
   "source": [
    "## Elongate sequences for comparison testing with DeepPhos and MusiteDeep"
   ]
  },
  {
   "cell_type": "code",
   "execution_count": 2,
   "metadata": {},
   "outputs": [],
   "source": [
    "test_motifs = np.genfromtxt('data__for_nerds/test_motifs.csv',dtype='U')\n",
    "test_motifxFamMatrix = np.genfromtxt('data__for_nerds/test_motifxFamMatrix.csv',delimiter=',',dtype=int)\n",
    "fams = np.genfromtxt('data__for_nerds/fams.csv',dtype='U')"
   ]
  },
  {
   "cell_type": "code",
   "execution_count": 3,
   "metadata": {},
   "outputs": [
    {
     "name": "stdout",
     "output_type": "stream",
     "text": [
      "188558\n"
     ]
    }
   ],
   "source": [
    "from Bio import SeqIO\n",
    "\n",
    "f = 'data_raw__for_nerds/uniprot_human.fasta'\n",
    "\n",
    "fasta_content = SeqIO.parse(open(f),'fasta')\n",
    "uniprot_seqs = []\n",
    "\n",
    "for fasta in fasta_content:\n",
    "    name, sequence = fasta.id, str(fasta.seq)\n",
    "    uniprot_seqs.append(sequence)\n",
    "print(len(uniprot_seqs))"
   ]
  },
  {
   "cell_type": "code",
   "execution_count": 4,
   "metadata": {},
   "outputs": [
    {
     "name": "stdout",
     "output_type": "stream",
     "text": [
      "485481\n"
     ]
    }
   ],
   "source": [
    "f = 'data_raw__for_nerds/uniprot_non-human.fasta'\n",
    "\n",
    "fasta_content = SeqIO.parse(open(f),'fasta')\n",
    "# uniprot_seqs = []\n",
    "\n",
    "for fasta in fasta_content:\n",
    "    name, sequence = fasta.id, str(fasta.seq)\n",
    "    uniprot_seqs.append(sequence)\n",
    "print(len(uniprot_seqs))"
   ]
  },
  {
   "cell_type": "code",
   "execution_count": 5,
   "metadata": {},
   "outputs": [],
   "source": [
    "uniprot_seqs = list(set(uniprot_seqs))"
   ]
  },
  {
   "cell_type": "code",
   "execution_count": null,
   "metadata": {
    "scrolled": true
   },
   "outputs": [
    {
     "name": "stdout",
     "output_type": "stream",
     "text": [
      "0\n",
      "100\n",
      "200\n",
      "300\n",
      "400\n",
      "500\n",
      "600\n",
      "700\n"
     ]
    }
   ],
   "source": [
    "start = time.time()\n",
    "\n",
    "found = []\n",
    "for i,motif in enumerate(test_motifs):\n",
    "    front = False\n",
    "    back = False\n",
    "    if motif[0]=='_':\n",
    "        motif_trim = motif[motif.find('_')+1:]\n",
    "        front = True\n",
    "    elif motif[-1]=='_':\n",
    "        motif_trim = motif[:motif.find('_')]\n",
    "        back = True\n",
    "    if i%100==0:\n",
    "        print(i)\n",
    "    for seq in uniprot_seqs:\n",
    "        if front:\n",
    "            if seq[:len(motif)]==motif_trim:\n",
    "                found.append(motif)\n",
    "        elif back:\n",
    "            if seq[-len(motif):]==motif_trim:\n",
    "                found.append(motif)\n",
    "        elif motif in seq:\n",
    "            found.append(motif)\n",
    "            \n",
    "print(\"%5.3f mins\" % ((time.time()-start)/60))"
   ]
  },
  {
   "cell_type": "code",
   "execution_count": null,
   "metadata": {},
   "outputs": [],
   "source": [
    "allDone()"
   ]
  },
  {
   "cell_type": "code",
   "execution_count": null,
   "metadata": {},
   "outputs": [],
   "source": [
    "uniprot_seqs[0]"
   ]
  },
  {
   "cell_type": "code",
   "execution_count": null,
   "metadata": {},
   "outputs": [],
   "source": [
    "found_set = list(set(found))\n",
    "\n",
    "print(len(found_set))\n",
    "print(len(test_motifs_list))"
   ]
  },
  {
   "cell_type": "code",
   "execution_count": null,
   "metadata": {},
   "outputs": [],
   "source": [
    "len(set(test_motifs_list).intersection(set(found_set)))"
   ]
  },
  {
   "cell_type": "code",
   "execution_count": null,
   "metadata": {},
   "outputs": [],
   "source": [
    "found_set"
   ]
  },
  {
   "cell_type": "code",
   "execution_count": null,
   "metadata": {},
   "outputs": [],
   "source": [
    "orphan_seqs = []\n",
    "write_me = open(\"orphan_seqs.txt\",\"w\")\n",
    "for i,seq in enumerate(test_motifs):\n",
    "    if seq not in found_set:\n",
    "        orphan_seqs.append(seq)\n",
    "        write_me.write(seq+\"\\n\")\n",
    "write_me.close()"
   ]
  },
  {
   "cell_type": "code",
   "execution_count": null,
   "metadata": {},
   "outputs": [],
   "source": [
    "len(set(orphan_seqs))"
   ]
  },
  {
   "cell_type": "code",
   "execution_count": null,
   "metadata": {},
   "outputs": [],
   "source": [
    "print(len(set(test_motifs)))\n",
    "print(len(test_motifs))"
   ]
  },
  {
   "cell_type": "code",
   "execution_count": null,
   "metadata": {},
   "outputs": [],
   "source": [
    "test = 'VDLEPVSPRSCLTK_'\n",
    "test = test[:test.find('_')]\n",
    "\n",
    "print(test)"
   ]
  },
  {
   "cell_type": "code",
   "execution_count": null,
   "metadata": {},
   "outputs": [],
   "source": [
    "test_motifs[13]"
   ]
  },
  {
   "cell_type": "code",
   "execution_count": null,
   "metadata": {},
   "outputs": [],
   "source": []
  }
 ],
 "metadata": {
  "kernelspec": {
   "display_name": "Python 3",
   "language": "python",
   "name": "python3"
  },
  "language_info": {
   "codemirror_mode": {
    "name": "ipython",
    "version": 3
   },
   "file_extension": ".py",
   "mimetype": "text/x-python",
   "name": "python",
   "nbconvert_exporter": "python",
   "pygments_lexer": "ipython3",
   "version": "3.7.4"
  }
 },
 "nbformat": 4,
 "nbformat_minor": 2
}
