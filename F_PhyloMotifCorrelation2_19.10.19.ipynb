{
 "cells": [
  {
   "cell_type": "raw",
   "metadata": {},
   "source": [
    "Plan:\n",
    "\n",
    "need motif embeddings\n",
    "need motif relationships\n",
    "\n",
    "need all kinase family distances\n",
    "need average distance between all kinases that phosphorylate motifs\n",
    "\n",
    "1) Get edit distance matrix between motifs"
   ]
  },
  {
   "cell_type": "code",
   "execution_count": 3,
   "metadata": {},
   "outputs": [],
   "source": [
    "import numpy\n",
    "from matplotlib.collections import LineCollection\n",
    "from sklearn import manifold\n",
    "from sklearn.metrics import euclidean_distances\n",
    "from sklearn.decomposition import PCA\n",
    "import Levenshtein\n",
    "from Levenshtein import hamming\n",
    "from itertools import combinations\n",
    "import matplotlib.pyplot as plt\n",
    "import math\n",
    "import random\n",
    "from Bio import pairwise2\n",
    "from Bio import Align\n",
    "from Bio.SubsMat import MatrixInfo\n",
    "import sklearn.cluster\n",
    "import itertools\n",
    "import time\n",
    "# import skbio\n",
    "from IPython.display import Audio, display"
   ]
  },
  {
   "cell_type": "code",
   "execution_count": 4,
   "metadata": {},
   "outputs": [],
   "source": [
    "def allDone():\n",
    "    urL = 'http://www.wavsource.com/snds_2018-06-03_5106726768923853/animals/cat_meow2.wav'\n",
    "    display(Audio(url=urL, autoplay=True))"
   ]
  },
  {
   "cell_type": "code",
   "execution_count": 5,
   "metadata": {},
   "outputs": [
    {
     "data": {
      "text/html": [
       "\n",
       "                <audio controls=\"controls\" autoplay=\"autoplay\">\n",
       "                    <source src=\"http://www.wavsource.com/snds_2018-06-03_5106726768923853/animals/cat_meow2.wav\" type=\"audio/x-wav\" />\n",
       "                    Your browser does not support the audio element.\n",
       "                </audio>\n",
       "              "
      ],
      "text/plain": [
       "<IPython.lib.display.Audio object>"
      ]
     },
     "metadata": {},
     "output_type": "display_data"
    }
   ],
   "source": [
    "allDone()"
   ]
  },
  {
   "cell_type": "code",
   "execution_count": 6,
   "metadata": {},
   "outputs": [],
   "source": [
    "# motifs = (numpy.genfromtxt('Final_data/365_VertKin_noMotifSite_motifs_19.10.18.csv',dtype='U'))\n",
    "# fams = (numpy.genfromtxt('Final_data/365_VertKin_noMotifSite_fams_19.10.18.csv',dtype='U'))\n",
    "# motifxFamMatrix = numpy.genfromtxt('Final_data/365_VertKin_noMotifSite_motifxFamMatrix_19.10.18.csv',delimiter=',',dtype=int)\n",
    "# famDistMatrix = numpy.genfromtxt('Final_data/365_VertKin_noMotifSite_famDistMatrix_19.10.18.csv',delimiter=',',dtype=float)\n",
    "\n",
    "motifs = (numpy.genfromtxt('Final_data/Finalfams_VertKin_motifs_19.10.20.csv',dtype='U'))\n",
    "fams = (numpy.genfromtxt('Final_data/Finalfams_VertKin_fams_19.10.20.csv',dtype='U'))\n",
    "motifxFamMatrix = numpy.genfromtxt('Final_data/Finalfams_VertKin_motifxFamMatrix_19.10.20.csv',delimiter=',',dtype=int)"
   ]
  },
  {
   "cell_type": "code",
   "execution_count": 7,
   "metadata": {},
   "outputs": [],
   "source": [
    "# for i, row in enumerate(famDistMatrix):\n",
    "#     for j, val in enumerate(row):\n",
    "#         if i==j:\n",
    "#             famDistMatrix[i][j] = 0.0\n",
    "# famDistMatrix"
   ]
  },
  {
   "cell_type": "code",
   "execution_count": 8,
   "metadata": {},
   "outputs": [],
   "source": [
    "## IF WANT TO USE PAM DIST MATRIX INSTEAD OF PHYLO MATRIX:\n",
    "\n",
    "pamFams = (numpy.genfromtxt('Final_data/fams_forPamDistMatrix_19.10.16.csv',dtype='U'))\n",
    "pamMatrix = (numpy.genfromtxt('Final_data/famDistanceMatrix_pam_19.10.16.csv',delimiter=',',dtype=float))\n",
    "\n",
    "for i,each in enumerate(pamFams):\n",
    "    pamFams[i] = each.upper()\n",
    "\n",
    "famDistMatrix = numpy.full((len(fams),len(fams)),-1.0)\n",
    "\n",
    "for fam in fams:\n",
    "    fIdx1_set = numpy.where(fams==fam)[0][0]\n",
    "    fIdx1_get = numpy.where(pamFams==fam)[0][0]\n",
    "    for fam2 in fams:\n",
    "        fIdx2_set = numpy.where(fams==fam2)[0][0]\n",
    "        fIdx2_get = numpy.where(pamFams==fam2)[0][0]\n",
    "        famDistMatrix[fIdx1_set][fIdx2_set] = pamMatrix[fIdx1_get][fIdx2_get]"
   ]
  },
  {
   "cell_type": "code",
   "execution_count": 9,
   "metadata": {},
   "outputs": [
    {
     "data": {
      "text/plain": [
       "array([[0.46856471, 0.65399708, 0.89279365, 0.90353218, 0.96197885,\n",
       "        0.90655903, 0.79469659, 0.93511938],\n",
       "       [0.65399708, 0.1835669 , 0.89469944, 0.90478894, 0.96699141,\n",
       "        0.89918661, 0.74406856, 0.93883657],\n",
       "       [0.89279365, 0.89469944, 0.59401978, 0.75495611, 0.90759372,\n",
       "        0.81393036, 0.91596173, 0.90431987],\n",
       "       [0.90353218, 0.90478894, 0.75495611, 0.55254221, 0.90814889,\n",
       "        0.8025133 , 0.91895141, 0.90635547],\n",
       "       [0.96197885, 0.96699141, 0.90759372, 0.90814889, 0.52446844,\n",
       "        0.96344319, 1.        , 0.96035117],\n",
       "       [0.90655903, 0.89918661, 0.81393036, 0.8025133 , 0.96344319,\n",
       "        0.        , 0.9463205 , 0.91498464],\n",
       "       [0.79469659, 0.74406856, 0.91596173, 0.91895141, 1.        ,\n",
       "        0.9463205 , 0.44751168, 0.96754561],\n",
       "       [0.93511938, 0.93883657, 0.90431987, 0.90635547, 0.96035117,\n",
       "        0.91498464, 0.96754561, 0.58133647]])"
      ]
     },
     "execution_count": 9,
     "metadata": {},
     "output_type": "execute_result"
    }
   ],
   "source": [
    "# IF WANT TO NORMALIZE:\n",
    "\n",
    "maximum = numpy.max(famDistMatrix)\n",
    "minimum = numpy.min(famDistMatrix)\n",
    "\n",
    "famDistMatrix_scaled = numpy.array((famDistMatrix))\n",
    "for i in range(len(fams)):\n",
    "    for j in range(len(fams)):\n",
    "# if using tree ...\n",
    "        # famDistMatrix_scaled[i][j] = 1.0 - float(famDistMatrix[i][j]-minimum)/(maximum-minimum) \n",
    "# if using PAM ...\n",
    "        famDistMatrix_scaled[i][j] = float(famDistMatrix[i][j]-minimum)/(maximum-minimum) \n",
    "    \n",
    "\n",
    "famDistMatrix = famDistMatrix_scaled\n",
    "famDistMatrix"
   ]
  },
  {
   "cell_type": "code",
   "execution_count": 10,
   "metadata": {},
   "outputs": [
    {
     "data": {
      "text/plain": [
       "7535"
      ]
     },
     "execution_count": 10,
     "metadata": {},
     "output_type": "execute_result"
    }
   ],
   "source": [
    "len(motifs)\n",
    "# motifxFamMatrix.shape"
   ]
  },
  {
   "cell_type": "code",
   "execution_count": null,
   "metadata": {},
   "outputs": [],
   "source": []
  },
  {
   "cell_type": "code",
   "execution_count": 11,
   "metadata": {},
   "outputs": [],
   "source": [
    "# motifs = motifs[:2000]"
   ]
  },
  {
   "cell_type": "code",
   "execution_count": 12,
   "metadata": {},
   "outputs": [],
   "source": [
    "def getDistMatrix(myMotifs,kind):\n",
    "    tripDict = dict( zip(range(len(myMotifs)),myMotifs) )\n",
    "    invTripDict = {v:k for k,v in tripDict.items()}\n",
    "    \n",
    "    aligner = Align.PairwiseAligner()\n",
    "    if kind=='PAM':\n",
    "        aligner.substitution_matrix = MatrixInfo.pam30\n",
    "    if kind=='BLOS':\n",
    "        aligner.substitution_matrix = MatrixInfo.blosum62\n",
    "    aligner.mode = 'local'\n",
    "    \n",
    "    combos=[]\n",
    "    for each in (combinations(myMotifs,2)):   \n",
    "        blosScore = aligner.align(each[0].lower(),each[1].lower()).score\n",
    "        combos.append([each[0],each[1],blosScore]) # invert blosum score \n",
    "    \n",
    "    maximum = max([x[2] for x in combos])\n",
    "    minimum = min([x[2] for x in combos])\n",
    "    for i in range(len(combos)):\n",
    "        combos[i][2] = 1.00 - float(combos[i][2]-minimum)/(maximum-minimum)   # invert and norm  ???     \n",
    "    \n",
    "    mat = numpy.zeros((len(myMotifs),len(myMotifs)),dtype=float)\n",
    "    for pair in combos:\n",
    "        mat[invTripDict[pair[0]],invTripDict[pair[1]]] = pair[2]\n",
    "        mat[invTripDict[pair[1]],invTripDict[pair[0]]] = pair[2]\n",
    "\n",
    "    return mat"
   ]
  },
  {
   "cell_type": "code",
   "execution_count": 13,
   "metadata": {},
   "outputs": [
    {
     "data": {
      "text/html": [
       "\n",
       "                <audio controls=\"controls\" autoplay=\"autoplay\">\n",
       "                    <source src=\"http://www.wavsource.com/snds_2018-06-03_5106726768923853/animals/cat_meow2.wav\" type=\"audio/x-wav\" />\n",
       "                    Your browser does not support the audio element.\n",
       "                </audio>\n",
       "              "
      ],
      "text/plain": [
       "<IPython.lib.display.Audio object>"
      ]
     },
     "metadata": {},
     "output_type": "display_data"
    }
   ],
   "source": [
    "motifDistMatrix = getDistMatrix(motifs,'BLOS')\n",
    "allDone()"
   ]
  },
  {
   "cell_type": "code",
   "execution_count": 211,
   "metadata": {},
   "outputs": [],
   "source": [
    "# from itertools import combinations\n",
    "# motifFamAvgDists = numpy.zeros((len(motifs),len(motifs)))\n",
    "\n",
    "# for pair in combinations(motifs,2):\n",
    "#     motif1 = pair[0]\n",
    "#     motif2 = pair[1]\n",
    "    \n",
    "#     mIdx1 = numpy.where(motifs==motif1)[0][0]\n",
    "#     mIdx2 = numpy.where(motifs==motif2)[0][0]\n",
    "    \n",
    "#     mFamsIdc1 = numpy.where(motifxFamMatrix[mIdx1]==1)[0]\n",
    "# #     print(len(mFamsIdc1))\n",
    "#     mFamsIdc2 = numpy.where(motifxFamMatrix[mIdx2]==1)[0]\n",
    "    \n",
    "#     famDists = []\n",
    "    \n",
    "#     for i,pair2 in enumerate(itertools.product(mFamsIdc1, mFamsIdc2)):\n",
    "#         if i==1:\n",
    "#             break\n",
    "# #         print(pair2, fams[pair2[0]], fams[pair2[1]])\n",
    "# #         print(famDistMatrix[pair2[0],pair2[1]])\n",
    "#         famDists.append(famDistMatrix[pair2[0],pair2[1]])\n",
    "#     avgFamDist = sum(famDists)/len(famDists)\n",
    "# #     if avgFamDist==0 and mFamsIdc1!=mFamsIdc2:\n",
    "# #         print(fams[mFamsIdc1],fams[mFamsIdc2])\n",
    "#     motifFamAvgDists[mIdx1][mIdx2] = avgFamDist\n",
    "#     motifFamAvgDists[mIdx2][mIdx1] = avgFamDist\n",
    "\n",
    "# allDone()\n",
    "    "
   ]
  },
  {
   "cell_type": "code",
   "execution_count": 14,
   "metadata": {},
   "outputs": [
    {
     "data": {
      "text/html": [
       "\n",
       "                <audio controls=\"controls\" autoplay=\"autoplay\">\n",
       "                    <source src=\"http://www.wavsource.com/snds_2018-06-03_5106726768923853/animals/cat_meow2.wav\" type=\"audio/x-wav\" />\n",
       "                    Your browser does not support the audio element.\n",
       "                </audio>\n",
       "              "
      ],
      "text/plain": [
       "<IPython.lib.display.Audio object>"
      ]
     },
     "metadata": {},
     "output_type": "display_data"
    }
   ],
   "source": [
    "from itertools import combinations\n",
    "kMotifAvgDists = numpy.zeros((len(fams),len(fams)))\n",
    "\n",
    "for pair in combinations(fams,2):\n",
    "    fam1 = pair[0]\n",
    "    fam2 = pair[1]\n",
    "    \n",
    "    fIdx1 = numpy.where(fams==fam1)[0][0]\n",
    "    fIdx2 = numpy.where(fams==fam2)[0][0]\n",
    "    \n",
    "    kMotifIdc1 = [x for x in numpy.where(motifxFamMatrix.T[fIdx1]==1)[0] if x < len(motifs)]\n",
    "    kMotifIdc2 = [x for x in numpy.where(motifxFamMatrix.T[fIdx2]==1)[0] if x < len(motifs)]\n",
    "        \n",
    "    motifDists = []\n",
    "    \n",
    "    if len(kMotifIdc1)==0 or len(kMotifIdc2)==0:\n",
    "        continue\n",
    "    \n",
    "    for i,pair2 in enumerate(itertools.product(kMotifIdc1, kMotifIdc2)):\n",
    "#         if i==1:\n",
    "#             break\n",
    "        motifDists.append(motifDistMatrix[pair2[0],pair2[1]])\n",
    "#     avgMotifDist = sum(motifDists)/len(motifDists)\n",
    "    avgMotifDist = numpy.mean(numpy.array((motifDists)))\n",
    "    kMotifAvgDists[fIdx1][fIdx2] = avgMotifDist\n",
    "    kMotifAvgDists[fIdx2][fIdx1] = avgMotifDist\n",
    "    \n",
    "#     break\n",
    "\n",
    "allDone()"
   ]
  },
  {
   "cell_type": "code",
   "execution_count": 15,
   "metadata": {},
   "outputs": [],
   "source": [
    "#### m-m distance against kinaseList-kinaseList distance\n",
    "\n",
    "# mDist = numpy.triu(distMatrix)\n",
    "# mDist = mDist.flatten()\n",
    "# # poo = list(poo)\n",
    "\n",
    "# kDist = numpy.triu(motifFamAvgDists)\n",
    "# kDist = kDist.flatten()\n",
    "# # poo2 = list(poo2)\n",
    "\n",
    "# goodIdx = numpy.where(kDist!=1.0)[0]\n",
    "# mDist = mDist[goodIdx]\n",
    "# kDist = kDist[goodIdx]\n",
    "\n",
    "# goodIdx = numpy.where(kDist!=0.0)[0]\n",
    "# mDist = mDist[goodIdx]\n",
    "# kDist = kDist[goodIdx]\n",
    "\n",
    "# mDist = list(mDist)\n",
    "# kDist = list(kDist)\n",
    "\n",
    "\n",
    "\n",
    "#### K-K distance against motifList-motifList distance\n",
    "\n",
    "kDist = numpy.triu(famDistMatrix)\n",
    "kDist = kDist.flatten()\n",
    "# print(kDist)\n",
    "\n",
    "mDist = numpy.triu(kMotifAvgDists)\n",
    "# print(numpy.where(mDist==0.0))\n",
    "# print(mDist)\n",
    "mDist = mDist.flatten()\n",
    "\n",
    "goodIdx = numpy.where(kDist!=0.0)[0] # get rid of bottom triangle of famDistMatrix\n",
    "kDist = kDist[goodIdx]\n",
    "mDist = mDist[goodIdx]\n",
    "\n",
    "\n",
    "goodIdx = numpy.where(mDist!=0.0)[0] # get rid of bottom triangle of motifDistMatrix\n",
    "kDist = kDist[goodIdx]\n",
    "mDist = mDist[goodIdx]\n",
    "\n",
    "kDist = list(kDist)\n",
    "mDist = list(mDist)"
   ]
  },
  {
   "cell_type": "code",
   "execution_count": 16,
   "metadata": {},
   "outputs": [
    {
     "data": {
      "text/plain": [
       "array([[0.46856471, 0.65399708, 0.89279365, 0.90353218, 0.96197885,\n",
       "        0.90655903, 0.79469659, 0.93511938],\n",
       "       [0.        , 0.1835669 , 0.89469944, 0.90478894, 0.96699141,\n",
       "        0.89918661, 0.74406856, 0.93883657],\n",
       "       [0.        , 0.        , 0.59401978, 0.75495611, 0.90759372,\n",
       "        0.81393036, 0.91596173, 0.90431987],\n",
       "       [0.        , 0.        , 0.        , 0.55254221, 0.90814889,\n",
       "        0.8025133 , 0.91895141, 0.90635547],\n",
       "       [0.        , 0.        , 0.        , 0.        , 0.52446844,\n",
       "        0.96344319, 1.        , 0.96035117],\n",
       "       [0.        , 0.        , 0.        , 0.        , 0.        ,\n",
       "        0.        , 0.9463205 , 0.91498464],\n",
       "       [0.        , 0.        , 0.        , 0.        , 0.        ,\n",
       "        0.        , 0.44751168, 0.96754561],\n",
       "       [0.        , 0.        , 0.        , 0.        , 0.        ,\n",
       "        0.        , 0.        , 0.58133647]])"
      ]
     },
     "execution_count": 16,
     "metadata": {},
     "output_type": "execute_result"
    }
   ],
   "source": [
    "numpy.triu(famDistMatrix)"
   ]
  },
  {
   "cell_type": "code",
   "execution_count": 17,
   "metadata": {},
   "outputs": [
    {
     "data": {
      "text/plain": [
       "array(['PKC', 'AKT', 'CDK', 'MAPK', 'SRC', 'CK2', 'PKA', 'PIKK'],\n",
       "      dtype='<U4')"
      ]
     },
     "execution_count": 17,
     "metadata": {},
     "output_type": "execute_result"
    }
   ],
   "source": [
    "fams"
   ]
  },
  {
   "cell_type": "code",
   "execution_count": 18,
   "metadata": {},
   "outputs": [
    {
     "data": {
      "text/plain": [
       "0.4475116837826057"
      ]
     },
     "execution_count": 18,
     "metadata": {},
     "output_type": "execute_result"
    }
   ],
   "source": [
    "famDistMatrix[-2][-2]"
   ]
  },
  {
   "cell_type": "code",
   "execution_count": 19,
   "metadata": {},
   "outputs": [
    {
     "data": {
      "text/plain": [
       "array([[0.        , 0.        , 0.        , 0.        , 0.        ,\n",
       "        0.        , 0.        , 0.        ],\n",
       "       [0.65399708, 0.        , 0.        , 0.        , 0.        ,\n",
       "        0.        , 0.        , 0.        ],\n",
       "       [0.89279365, 0.89469944, 0.        , 0.        , 0.        ,\n",
       "        0.        , 0.        , 0.        ],\n",
       "       [0.90353218, 0.90478894, 0.75495611, 0.        , 0.        ,\n",
       "        0.        , 0.        , 0.        ],\n",
       "       [0.96197885, 0.96699141, 0.90759372, 0.90814889, 0.        ,\n",
       "        0.        , 0.        , 0.        ],\n",
       "       [0.90655903, 0.89918661, 0.81393036, 0.8025133 , 0.96344319,\n",
       "        0.        , 0.        , 0.        ],\n",
       "       [0.79469659, 0.74406856, 0.91596173, 0.91895141, 1.        ,\n",
       "        0.9463205 , 0.        , 0.        ],\n",
       "       [0.93511938, 0.93883657, 0.90431987, 0.90635547, 0.96035117,\n",
       "        0.91498464, 0.96754561, 0.        ]])"
      ]
     },
     "execution_count": 19,
     "metadata": {},
     "output_type": "execute_result"
    }
   ],
   "source": [
    "toPlot = numpy.tril(famDistMatrix)\n",
    "# toPlot[numpy.where(toPlot==0.00)] = 1.00\n",
    "\n",
    "for i in range(len(toPlot)):\n",
    "    for j in range(len(toPlot)):\n",
    "        if i==j:\n",
    "            toPlot[i][j]=0.0\n",
    "\n",
    "toPlot"
   ]
  },
  {
   "cell_type": "code",
   "execution_count": 22,
   "metadata": {},
   "outputs": [
    {
     "data": {
      "image/png": "[encoded data removed]",
      "text/plain": [
       "<Figure size 432x288 with 2 Axes>"
      ]
     },
     "metadata": {
      "needs_background": "light"
     },
     "output_type": "display_data"
    }
   ],
   "source": [
    "import seaborn as sb\n",
    "# heat_map = sb.heatmap(toPlot, annot=True, cmap=\"plasma\")\n",
    "heat_map = sb.heatmap(toPlot, annot=True, cmap=\"spring\", fmt='1.2f',\n",
    "                      square=True, mask= toPlot == 0, yticklabels=fams, xticklabels=fams, vmin=0.5 )\n",
    "# plt.savefig(\"results_REAL/results_19.10.20_multiFams/CNNCNN_Finalfams_VertKin_Siam/correlation_coords/kinaseDistCorrelations\")\n",
    "plt.show()\n",
    "# plt.show()"
   ]
  },
  {
   "cell_type": "code",
   "execution_count": null,
   "metadata": {},
   "outputs": [],
   "source": [
    "# import matplotlib.pyplot as plt\n",
    "# import numpy as np\n",
    "\n",
    "# # plt.style.use('default')\n",
    "# plt.imshow(toPlot, cmap='viridis_r', interpolation='nearest')\n",
    "# plt.set_xticks(np.arange(toPlot.shape[1]) + 0.5, minor=False)\n",
    "# plt.set_yticks(np.arange(toPlot.shape[0]) + 0.5, minor=False)\n",
    "# # ax.set_xticklabels(fams)\n",
    "# # ax.set_yticklabels(fams)\n",
    "# # plt.show()\n",
    "\n",
    "\n",
    "\n",
    "# fig, ax = plt.subplots()\n",
    "# fig.subplots_adjust(bottom=0.25,left=0.25) # make room for labels\n",
    "\n",
    "# heatmap = ax.pcolor(toPlot)\n",
    "# cbar = plt.colorbar(heatmap)\n",
    "\n",
    "# # Set ticks in center of cells\n",
    "# ax.set_xticks(np.arange(toPlot.shape[1]) + 0.5, minor=False)\n",
    "# ax.set_yticks(np.arange(toPlot.shape[0]) + 0.5, minor=False)\n",
    "\n",
    "# # Rotate the xlabels. Set both x and y labels to headers[1:]\n",
    "# ax.set_xticklabels(fams,rotation=90)\n",
    "# ax.set_yticklabels(fams)\n"
   ]
  },
  {
   "cell_type": "code",
   "execution_count": 23,
   "metadata": {},
   "outputs": [],
   "source": [
    "import pandas as pd\n",
    "import os\n",
    "\n",
    "f = \"results_REAL/results_19.10.20_multiFams/CNNCNN_Finalfams_VertKin_Siam/correlation_coords/\"\n",
    "# os.mkdir(f)\n",
    "\n",
    "df = pd.DataFrame(kDist,dtype=float)\n",
    "# df.to_csv(\"results_REAL/results_19.10.20_multiFams/CNNCNN_Finalfams_VertKin_Siam/correlation_coords/kDist\",header=None,index=None)\n",
    "\n",
    "df = pd.DataFrame(mDist,dtype=float)\n",
    "# df.to_csv(\"results_REAL/results_19.10.20_multiFams/CNNCNN_Finalfams_VertKin_Siam/correlation_coords/mDist\",header=None,index=None)"
   ]
  },
  {
   "cell_type": "code",
   "execution_count": 45,
   "metadata": {},
   "outputs": [],
   "source": [
    "kDist = np.genfromtxt(\"results_REAL/results_19.10.20_multiFams/CNNCNN_Finalfams_VertKin_Siam/correlation_coords/kDist\",dtype=float)\n",
    "mDist = np.genfromtxt(\"results_REAL/results_19.10.20_multiFams/CNNCNN_Finalfams_VertKin_Siam/correlation_coords/mDist\",dtype=float)\n"
   ]
  },
  {
   "cell_type": "code",
   "execution_count": 24,
   "metadata": {},
   "outputs": [
    {
     "data": {
      "text/plain": [
       "28"
      ]
     },
     "execution_count": 24,
     "metadata": {},
     "output_type": "execute_result"
    }
   ],
   "source": [
    "len(kDist)"
   ]
  },
  {
   "cell_type": "raw",
   "metadata": {},
   "source": [
    "len([x for x in (combinations(fams,2))]) = 28\n",
    "list(kDist) = 28\n",
    "note: 28 fam-fam combinations total. so need 28 points."
   ]
  },
  {
   "cell_type": "code",
   "execution_count": 31,
   "metadata": {},
   "outputs": [],
   "source": [
    "def abline(slope, intercept):\n",
    "    \"\"\"Plot a line from slope and intercept\"\"\"\n",
    "    axes = plt.gca()\n",
    "    x_vals = np.array(axes.get_xlim())\n",
    "    y_vals = intercept + slope * x_vals\n",
    "    plt.plot(x_vals, y_vals, '--')"
   ]
  },
  {
   "cell_type": "code",
   "execution_count": 32,
   "metadata": {},
   "outputs": [],
   "source": [
    "from scipy.stats import linregress\n",
    "sl,inte,rv,pv,std = linregress(kDist, mDist)"
   ]
  },
  {
   "cell_type": "code",
   "execution_count": 46,
   "metadata": {},
   "outputs": [
    {
     "data": {
      "text/plain": [
       "array([0.99993299, 0.99997848, 0.99997543, 0.99999748, 0.99998087,\n",
       "       0.99979427, 0.99999033, 0.99998568, 0.99997865, 0.99999711,\n",
       "       0.99999042, 0.99988613, 0.99998874, 0.99987053, 0.99999647,\n",
       "       0.99998031, 0.99998194, 0.99996141, 0.99999557, 0.99998532,\n",
       "       0.9999707 , 0.99995857, 0.99999291, 0.9999965 , 0.99999766,\n",
       "       0.99997753, 0.99998645, 0.9999875 ])"
      ]
     },
     "execution_count": 46,
     "metadata": {},
     "output_type": "execute_result"
    }
   ],
   "source": [
    "mDist"
   ]
  },
  {
   "cell_type": "code",
   "execution_count": 33,
   "metadata": {},
   "outputs": [
    {
     "data": {
      "text/plain": [
       "0.00017037702492378928"
      ]
     },
     "execution_count": 33,
     "metadata": {},
     "output_type": "execute_result"
    }
   ],
   "source": [
    "rv**2"
   ]
  },
  {
   "cell_type": "code",
   "execution_count": 34,
   "metadata": {},
   "outputs": [
    {
     "data": {
      "text/plain": [
       "0.30908968220367417"
      ]
     },
     "execution_count": 34,
     "metadata": {},
     "output_type": "execute_result"
    }
   ],
   "source": [
    "rsq = 0.5559583457451414**2\n",
    "rsq"
   ]
  },
  {
   "cell_type": "code",
   "execution_count": 68,
   "metadata": {},
   "outputs": [
    {
     "data": {
      "image/png": "[encoded data removed]",
      "text/plain": [
       "<Figure size 720x720 with 1 Axes>"
      ]
     },
     "metadata": {
      "needs_background": "light"
     },
     "output_type": "display_data"
    }
   ],
   "source": [
    "import numpy as np\n",
    "import matplotlib.ticker as mtick\n",
    "\n",
    "slope=sl\n",
    "intercept=inte\n",
    "\n",
    "p = 15\n",
    "plt.figure(figsize=(10,10))\n",
    "plt.xlabel('Kinase family edit distance', fontsize=16, labelpad=p)\n",
    "plt.ylabel('Average motif edit distance', fontsize=16, labelpad=p)\n",
    "plt.title('Average motif edit distance vs. kinase family edit distance', fontsize=19, pad=p)\n",
    "plt.ylim(numpy.min(mDist)-0.00001, numpy.max(mDist)+0.00001)\n",
    "plt.xlim(numpy.min(kDist)-0.05, numpy.max(kDist)+0.05)\n",
    "# plt.gca().yaxis.set_major_formatter(mtick.FormatStrFormatter('%.5e'))\n",
    "plt.yticks(fontsize=12.5)\n",
    "\n",
    "plt.annotate('r-value = %5.3f' % rv, xy=(.67, .115), xycoords='axes fraction',fontsize=15)\n",
    "plt.annotate('R squared = %5.3f' % rv**2, xy=(.67, .065), xycoords='axes fraction',fontsize=15)\n",
    "\n",
    "abline(slope, intercept)\n",
    "plt.scatter(kDist, mDist, s=15, alpha=0.75,c='black') \n",
    "\n",
    "plt.tight_layout()\n",
    "plt.savefig(\"results_REAL/absolutelyFINAL/correlation_fig5\")\n",
    "plt.show()\n"
   ]
  },
  {
   "cell_type": "code",
   "execution_count": 52,
   "metadata": {},
   "outputs": [],
   "source": [
    "# import numpy as np\n",
    "\n",
    "# slope=2.255141589703321\n",
    "# intercept=-0.7461476752716045\n",
    "\n",
    "# slope=0.13705998932170682\n",
    "# intercept=0.6029266008164713\n",
    "\n",
    "\n",
    "# p = 15\n",
    "# plt.figure(figsize=(10,10))\n",
    "# plt.xlabel('Kinase family edit distance', fontsize=16, labelpad=p)\n",
    "# plt.ylabel('Average motif edit distance', fontsize=16, labelpad=p)\n",
    "# plt.title('Average motif edit distance vs. kinase family edit distance', fontsize=19, pad=p)\n",
    "# plt.ylim(numpy.min(mDist)-0.0005, numpy.max(mDist)+0.0005)\n",
    "# plt.xlim(numpy.min(kDist)-0.05, numpy.max(kDist)+0.05)\n",
    "# plt.xticks(fontsize=12.5)\n",
    "# plt.yticks(fontsize=12.5)\n",
    "# plt.annotate('r-value = 0.556', xy=(.67, .115), xycoords='axes fraction',fontsize=15)\n",
    "# plt.annotate('R squared = 0.309', xy=(.67, .065), xycoords='axes fraction',fontsize=15)\n",
    "\n",
    "# abline(slope, intercept)\n",
    "# plt.scatter(kDist, mDist, s=15, alpha=0.75,c='black') \n",
    "\n",
    "# plt.savefig(f + \"correlation_fig_TEST\")\n",
    "# plt.show()\n"
   ]
  },
  {
   "cell_type": "code",
   "execution_count": 67,
   "metadata": {},
   "outputs": [
    {
     "data": {
      "text/plain": [
       "'results_REAL/results_19.10.20_multiFams/CNNCNN_Finalfams_VertKin_Siam/correlation_coords/'"
      ]
     },
     "execution_count": 67,
     "metadata": {},
     "output_type": "execute_result"
    }
   ],
   "source": [
    "f"
   ]
  },
  {
   "cell_type": "code",
   "execution_count": 60,
   "metadata": {},
   "outputs": [],
   "source": [
    "# plt.hist(kDist,bins=100)\n",
    "# plt.hist(mDist,bins=30)"
   ]
  },
  {
   "cell_type": "code",
   "execution_count": 66,
   "metadata": {},
   "outputs": [
    {
     "name": "stdout",
     "output_type": "stream",
     "text": [
      "(0.5559583457451412, 7.340677909534624e-05)\n"
     ]
    }
   ],
   "source": [
    "from scipy.stats.stats import pearsonr   \n",
    "print (pearsonr(mDist,kDist))\n",
    "print (numpy.corrcoef(mDist, kDist))"
   ]
  }
 ],
 "metadata": {
  "kernelspec": {
   "display_name": "Python [conda env:py3]",
   "language": "python",
   "name": "conda-env-py3-py"
  },
  "language_info": {
   "codemirror_mode": {
    "name": "ipython",
    "version": 3
   },
   "file_extension": ".py",
   "mimetype": "text/x-python",
   "name": "python",
   "nbconvert_exporter": "python",
   "pygments_lexer": "ipython3",
   "version": "3.6.8"
  }
 },
 "nbformat": 4,
 "nbformat_minor": 2
}
