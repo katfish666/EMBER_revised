{
 "cells": [
  {
   "cell_type": "code",
   "execution_count": 1,
   "metadata": {},
   "outputs": [],
   "source": [
    "import numpy as np\n",
    "from sklearn.model_selection import train_test_split\n",
    "from sklearn.metrics import silhouette_score\n",
    "\n",
    "from IPython.display import Audio, display\n",
    "def allDone():\n",
    "    urL = 'http://www.wavsource.com/snds_2020-03-30_7102365145747638/animals/cat_meow2.wav'\n",
    "    display(Audio(url=urL, autoplay=True))\n",
    "# allDone()\n",
    "\n",
    "random.seed(666)\n",
    "device = torch.device(\"cuda:0\" if torch.cuda.is_available() else \"cpu\")\n",
    "# device = torch.device(\"cpu\")"
   ]
  },
  {
   "cell_type": "code",
   "execution_count": 2,
   "metadata": {},
   "outputs": [
    {
     "name": "stdout",
     "output_type": "stream",
     "text": [
      "7866\n"
     ]
    }
   ],
   "source": [
    "motifs = np.genfromtxt('data__for_nerds/motifs.csv',dtype='U')\n",
    "motifxFamMatrix = np.genfromtxt('data__for_nerds/motifxFamMatrix.csv',delimiter=',',dtype=int)\n",
    "fams = np.genfromtxt('data__for_nerds/fams.csv',dtype='U')\n",
    "\n",
    "print(len(motifs))"
   ]
  },
  {
   "cell_type": "code",
   "execution_count": 37,
   "metadata": {},
   "outputs": [
    {
     "name": "stdout",
     "output_type": "stream",
     "text": [
      "6686 1338 1180\n"
     ]
    }
   ],
   "source": [
    "X_train, X_test = train_test_split(range(len(motifs)), test_size=0.15, random_state=666)\n",
    "X_train, X_val = train_test_split(X_train, test_size=0.2, random_state=666)\n",
    "\n",
    "print(len(X_train), len(X_val), len(X_test))"
   ]
  },
  {
   "cell_type": "code",
   "execution_count": 50,
   "metadata": {},
   "outputs": [
    {
     "name": "stdout",
     "output_type": "stream",
     "text": [
      "(7866, 1300)\n"
     ]
    }
   ],
   "source": [
    "# embedding = np.genfromtxt('data__for_nerds/protvec_embedding.csv',delimiter=',',dtype=float)\n",
    "embedding = np.genfromtxt('emb_05_embedding.csv',delimiter=',',dtype=float)\n",
    "\n",
    "print(embedding.shape)"
   ]
  },
  {
   "cell_type": "code",
   "execution_count": 51,
   "metadata": {},
   "outputs": [
    {
     "name": "stdout",
     "output_type": "stream",
     "text": [
      "mean silhouette: 0.112\n",
      "median silhouette 0.06\n"
     ]
    }
   ],
   "source": [
    "#### SILHOUETTE SCORES #####\n",
    "\n",
    "allSilhouettes = []\n",
    "for i,fam in enumerate(fams):\n",
    "    silhouette = silhouette_score(embedding[X_test], motifxFamMatrix[X_test].T[i], metric='euclidean', sample_size=None, random_state=None)\n",
    "    allSilhouettes.append(silhouette)\n",
    "allSilhouettes_array = np.array((allSilhouettes))\n",
    "\n",
    "# print( np.mean(allSilouettes_array), np.median(allSilouettes_array),\n",
    "#        fams,[round(x,6) for x in allSilouettes] )\n",
    "\n",
    "print(\"mean silhouette:\", np.mean(allSilhouettes_array).round(3))\n",
    "print(\"median silhouette\", np.median(allSilhouettes_array).round(3))"
   ]
  },
  {
   "cell_type": "raw",
   "metadata": {},
   "source": [
    "* * * * ProtVec RESULTS * * * *\n",
    "mean silhouette: 0.004\n",
    "median silhouette -0.001\n",
    "\n",
    "* * * * Siamese RESULTS (100d) run 04 * * * *\n",
    "mean silhouette: 0.133\n",
    "median silhouette 0.069\n",
    "\n",
    "mean silhouette: 0.112 (1300d) run 05\n",
    "median silhouette 0.06"
   ]
  },
  {
   "cell_type": "code",
   "execution_count": 52,
   "metadata": {},
   "outputs": [],
   "source": [
    "def getKnnResults(fIdx, myAverage):\n",
    "    \n",
    "    ## best k is num of instances ^ 1/2\n",
    "    ## https://stackoverflow.com/questions/18110951/how-to-determine-k-value-for-the-k-nearest-neighbours-algorithm-for-a-matrix-in\n",
    "    k = int(len(embedding)**(1/2))\n",
    "    \n",
    "    X_tr = embedding[X_train] \n",
    "    X_te = embedding[X_test]\n",
    "    y_tr = motifxFamMatrix[X_train].T[fIdx]\n",
    "    y_te = motifxFamMatrix[X_test].T[fIdx]\n",
    "    \n",
    "    kNN = KNeighborsClassifier(n_neighbors=k)\n",
    "    kNN.fit(X_tr, y_tr)\n",
    "\n",
    "    y_pred = kNN.predict(X_te)\n",
    "    y_score = kNN.predict_proba(X_te)\n",
    "\n",
    "    precision, recall, fscore, support = score(y_te,y_pred,average=myAverage)\n",
    "    return (precision, recall, fscore, support, y_score)"
   ]
  },
  {
   "cell_type": "code",
   "execution_count": 53,
   "metadata": {},
   "outputs": [],
   "source": [
    "from sklearn.neighbors import KNeighborsClassifier\n",
    "from sklearn.metrics import precision_recall_fscore_support as score\n",
    "\n",
    "resPrecision = []\n",
    "resRecall = []\n",
    "thisY_score = [] # for only one file !!!!\n",
    "myResPrecision = []\n",
    "myResRecall = []\n",
    "\n",
    "for fIdx,fam in enumerate(fams):\n",
    "    precision, recall, fscore, support, myY_score = (getKnnResults(fIdx, \"macro\"))\n",
    "    thisY_score.append(myY_score)\n",
    "    myResPrecision.append(precision)\n",
    "    myResRecall.append(recall)"
   ]
  },
  {
   "cell_type": "code",
   "execution_count": 54,
   "metadata": {},
   "outputs": [],
   "source": [
    "thisY_score = np.array((thisY_score))\n",
    "thisY_score.shape\n",
    "\n",
    "y_score = thisY_score[:,:,1].T\n",
    "y_test = motifxFamMatrix[X_test]"
   ]
  },
  {
   "cell_type": "code",
   "execution_count": 55,
   "metadata": {},
   "outputs": [
    {
     "name": "stdout",
     "output_type": "stream",
     "text": [
      "AUROC results:\n",
      "PKA 0.837\n",
      "AKT 0.859\n",
      "CDK 0.861\n",
      "MAPK 0.881\n",
      "SRC 1.0\n",
      "CK2 0.917\n",
      "PKC 0.839\n",
      "PIKK 0.804\n",
      "macro auroc: 0.875 \n",
      "micro auroc: 0.909\n"
     ]
    }
   ],
   "source": [
    "from sklearn.metrics import roc_curve, auc\n",
    "from scipy import interp\n",
    "import numpy as np\n",
    "\n",
    "\n",
    "print(\"AUROC results:\")\n",
    "fpr = dict()\n",
    "tpr = dict()\n",
    "roc_auc = dict()\n",
    "for i in range(len(fams)):\n",
    "    fpr[i], tpr[i], _ = roc_curve(y_test[:, i], y_score[:, i])\n",
    "    roc_auc[i] = auc(fpr[i], tpr[i])\n",
    "    print(fams[i],roc_auc[i].round(3))\n",
    "\n",
    "\n",
    "fpr[\"micro\"], tpr[\"micro\"], _ = roc_curve(y_test.ravel(), y_score.ravel())\n",
    "roc_auc[\"micro\"] = auc(fpr[\"micro\"], tpr[\"micro\"])\n",
    "all_fpr = np.unique(np.concatenate([fpr[i] for i in range(len(fams))]))\n",
    "\n",
    "mean_tpr = np.zeros_like(all_fpr)\n",
    "for i in range(len(fams)):\n",
    "    mean_tpr += interp(all_fpr, fpr[i], tpr[i])\n",
    "mean_tpr /= len(fams)\n",
    "\n",
    "fpr[\"macro\"] = all_fpr\n",
    "tpr[\"macro\"] = mean_tpr\n",
    "roc_auc[\"macro\"] = auc(fpr[\"macro\"], tpr[\"macro\"])\n",
    "\n",
    "print(\"macro auroc:\",roc_auc[\"macro\"].round(3),\n",
    "      \"\\nmicro auroc:\",roc_auc[\"micro\"].round(3))"
   ]
  },
  {
   "cell_type": "raw",
   "metadata": {},
   "source": [
    "* * * * ProtVec RESULTS * * * *\n",
    "AUROC results:\n",
    "PKA 0.827\n",
    "AKT 0.854\n",
    "CDK 0.865\n",
    "MAPK 0.873\n",
    "SRC 0.995\n",
    "CK2 0.816\n",
    "PKC 0.86\n",
    "PIKK 0.848\n",
    "macro auroc: 0.867 \n",
    "micro auroc: 0.897\n",
    "\n",
    "* * * * Siamese RESULTS (100d) * * * *\n",
    "AUROC results:\n",
    "PKA 0.834\n",
    "AKT 0.864\n",
    "CDK 0.873\n",
    "MAPK 0.894\n",
    "SRC 1.0\n",
    "CK2 0.929\n",
    "PKC 0.851\n",
    "PIKK 0.802\n",
    "macro auroc: 0.881 \n",
    "micro auroc: 0.914\n",
    "\n",
    "* * * * Siamese RESULTS (1300d) * * * *\n",
    "AUROC results:\n",
    "PKA 0.837\n",
    "AKT 0.859\n",
    "CDK 0.861\n",
    "MAPK 0.881\n",
    "SRC 1.0\n",
    "CK2 0.917\n",
    "PKC 0.839\n",
    "PIKK 0.804\n",
    "macro auroc: 0.875 \n",
    "micro auroc: 0.909"
   ]
  },
  {
   "cell_type": "code",
   "execution_count": 56,
   "metadata": {},
   "outputs": [
    {
     "name": "stdout",
     "output_type": "stream",
     "text": [
      "AVERAGE Precision (AP) results\n",
      "PKA 0.507\n",
      "AKT 0.367\n",
      "CDK 0.401\n",
      "MAPK 0.55\n",
      "SRC 1.0\n",
      "CK2 0.679\n",
      "PKC 0.54\n",
      "PIKK 0.328\n",
      "avg AP (macro): 0.547 \n",
      "avg AP (micro): 0.647\n"
     ]
    }
   ],
   "source": [
    "from itertools import chain\n",
    "from sklearn.metrics import precision_recall_curve\n",
    "from sklearn.metrics import average_precision_score\n",
    "\n",
    "precision = dict()\n",
    "recall = dict()\n",
    "average_precision = dict()\n",
    "\n",
    "print(\"AVERAGE Precision (AP) results\")\n",
    "for i in range(len(fams)):\n",
    "    precision[i], recall[i], _ = precision_recall_curve(y_test[:, i],y_score[:, i])\n",
    "    average_precision[i] = average_precision_score(y_test[:, i], y_score[:, i])\n",
    "    print(fams[i],average_precision[i].round(3))\n",
    "\n",
    "\n",
    "average_precision[\"micro\"] = average_precision_score(y_test, y_score,average=\"micro\")\n",
    "average_precision[\"macro\"] = average_precision_score(y_test, y_score, average=\"macro\")\n",
    "print(\"avg AP (macro):\",average_precision[\"macro\"].round(3),\n",
    "      \"\\navg AP (micro):\",average_precision[\"micro\"].round(3))"
   ]
  },
  {
   "cell_type": "raw",
   "metadata": {},
   "source": [
    "* * * * ProtVec RESULTS * * * *\n",
    "AVERAGE Precision (AP) results\n",
    "PKA 0.61\n",
    "AKT 0.388\n",
    "CDK 0.448\n",
    "MAPK 0.62\n",
    "SRC 0.991\n",
    "CK2 0.436\n",
    "PKC 0.687\n",
    "PIKK 0.408\n",
    "avg AP (macro): 0.574 \n",
    "avg AP (micro): 0.661\n",
    "\n",
    "* * * * Siamese RESULTS (100d) * * * *\n",
    "AVERAGE Precision (AP) results\n",
    "PKA 0.503\n",
    "AKT 0.314\n",
    "CDK 0.438\n",
    "MAPK 0.577\n",
    "SRC 1.0\n",
    "CK2 0.705\n",
    "PKC 0.58\n",
    "PIKK 0.44\n",
    "avg AP (macro): 0.57 \n",
    "avg AP (micro): 0.671\n",
    "\n",
    "* * * * Siamese RESULTS (1300d) * * * *\n",
    "AVERAGE Precision (AP) results\n",
    "PKA 0.507\n",
    "AKT 0.367\n",
    "CDK 0.401\n",
    "MAPK 0.55\n",
    "SRC 1.0\n",
    "CK2 0.679\n",
    "PKC 0.54\n",
    "PIKK 0.328\n",
    "avg AP (macro): 0.547 \n",
    "avg AP (micro): 0.647"
   ]
  },
  {
   "cell_type": "code",
   "execution_count": null,
   "metadata": {},
   "outputs": [],
   "source": []
  }
 ],
 "metadata": {
  "kernelspec": {
   "display_name": "Python 3",
   "language": "python",
   "name": "python3"
  },
  "language_info": {
   "codemirror_mode": {
    "name": "ipython",
    "version": 3
   },
   "file_extension": ".py",
   "mimetype": "text/x-python",
   "name": "python",
   "nbconvert_exporter": "python",
   "pygments_lexer": "ipython3",
   "version": "3.7.4"
  }
 },
 "nbformat": 4,
 "nbformat_minor": 2
}
