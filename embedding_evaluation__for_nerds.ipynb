{
 "cells": [
  {
   "cell_type": "code",
   "execution_count": 14,
   "metadata": {},
   "outputs": [],
   "source": [
    "import numpy as np\n",
    "import random\n",
    "from sklearn.model_selection import train_test_split\n",
    "from sklearn.metrics import silhouette_score\n",
    "\n",
    "from IPython.display import Audio, display\n",
    "def allDone():\n",
    "    urL = 'http://www.wavsource.com/snds_2020-03-30_7102365145747638/animals/cat_meow2.wav'\n",
    "    display(Audio(url=urL, autoplay=True))\n",
    "# allDone()\n",
    "\n",
    "random.seed(666)"
   ]
  },
  {
   "cell_type": "code",
   "execution_count": 15,
   "metadata": {},
   "outputs": [],
   "source": [
    "train_motifs = np.genfromtxt('data__for_nerds/train_motifs.csv',dtype='U')\n",
    "train_motifxFamMatrix = np.genfromtxt('data__for_nerds/train_motifxFamMatrix.csv',delimiter=',',dtype=int)\n",
    "test_motifs = np.genfromtxt('data__for_nerds/new_test_motifs.csv',dtype='U')\n",
    "test_motifxFamMatrix = np.genfromtxt('data__for_nerds/new_test_motifxFamMatrix.csv',delimiter=',',dtype=int)\n",
    "\n",
    "fams = np.genfromtxt('data__for_nerds/fams.csv',dtype='U')"
   ]
  },
  {
   "cell_type": "code",
   "execution_count": 16,
   "metadata": {},
   "outputs": [
    {
     "name": "stdout",
     "output_type": "stream",
     "text": [
      "(6415, 8)\n",
      "(1179, 8)\n"
     ]
    }
   ],
   "source": [
    "from sklearn.model_selection import train_test_split\n",
    "\n",
    "all_motifs = np.hstack([train_motifs,test_motifs])\n",
    "all_motifxFamMatrix = np.vstack([train_motifxFamMatrix,test_motifxFamMatrix])\n",
    "\n",
    "print(train_motifxFamMatrix.shape)\n",
    "print(test_motifxFamMatrix.shape)      "
   ]
  },
  {
   "cell_type": "code",
   "execution_count": 157,
   "metadata": {},
   "outputs": [
    {
     "name": "stdout",
     "output_type": "stream",
     "text": [
      "(6415, 330)\n",
      "(1179, 330)\n"
     ]
    }
   ],
   "source": [
    "# embedding = np.genfromtxt('data__for_nerds/protvec_embedding_avg.csv',delimiter=',',dtype=float)\n",
    "embedding = np.genfromtxt('MODELS_siamese/emb_37_embedding.csv',delimiter=',',dtype=float)\n",
    "\n",
    "train_embedding = embedding[ :len(train_motifs) ]\n",
    "test_embedding = embedding[ len(train_motifs): ]\n",
    "\n",
    "print(train_embedding.shape)\n",
    "print(test_embedding.shape)"
   ]
  },
  {
   "cell_type": "code",
   "execution_count": 158,
   "metadata": {},
   "outputs": [
    {
     "name": "stdout",
     "output_type": "stream",
     "text": [
      "mean silhouette: 0.0\n",
      "median silhouette 0.0\n"
     ]
    }
   ],
   "source": [
    "#### SILHOUETTE SCORES #####\n",
    "\n",
    "allSilhouettes = []\n",
    "for i,fam in enumerate(fams):\n",
    "    silhouette = silhouette_score(test_embedding, test_motifxFamMatrix.T[i], \n",
    "                                  metric='euclidean', sample_size=None, random_state=None)\n",
    "    allSilhouettes.append(silhouette)\n",
    "allSilhouettes_array = np.array((allSilhouettes))\n",
    "\n",
    "# print( np.mean(allSilouettes_array), np.median(allSilouettes_array),\n",
    "#        fams,[round(x,6) for x in allSilouettes] )\n",
    "\n",
    "print(\"mean silhouette:\", np.mean(allSilhouettes_array).round(3))\n",
    "print(\"median silhouette\", np.median(allSilhouettes_array).round(3))"
   ]
  },
  {
   "cell_type": "raw",
   "metadata": {},
   "source": [
    "* * * * Avg'd ProtVec RESULTS * * * *\n",
    "mean silhouette: 0.005\n",
    "median silhouette 0.006\n",
    "\n",
    "* * * * ProtVec RESULTS * * * *\n",
    "mean silhouette: 0.006\n",
    "median silhouette 0.005"
   ]
  },
  {
   "cell_type": "code",
   "execution_count": 152,
   "metadata": {},
   "outputs": [],
   "source": [
    "def getKnnResults(fIdx, myAverage):\n",
    "    \n",
    "    ## best k is num of instances ^ 1/2\n",
    "    ## https://stackoverflow.com/questions/18110951/how-to-determine-k-value-for-the-k-nearest-neighbours-algorithm-for-a-matrix-in\n",
    "    k = int(len(embedding)**(1/2))\n",
    "    \n",
    "    X_tr = train_embedding \n",
    "    X_te = test_embedding\n",
    "    y_tr = train_motifxFamMatrix.T[fIdx]\n",
    "    y_te = test_motifxFamMatrix.T[fIdx]\n",
    "    \n",
    "    kNN = KNeighborsClassifier(n_neighbors=k)\n",
    "    kNN.fit(X_tr, y_tr)\n",
    "\n",
    "    y_pred = kNN.predict(X_te)\n",
    "    y_score = kNN.predict_proba(X_te)\n",
    "\n",
    "    precision, recall, fscore, support = score(y_te,y_pred,average=myAverage)\n",
    "    return (precision, recall, fscore, support, y_score)"
   ]
  },
  {
   "cell_type": "code",
   "execution_count": 153,
   "metadata": {},
   "outputs": [],
   "source": [
    "from sklearn.neighbors import KNeighborsClassifier\n",
    "from sklearn.metrics import precision_recall_fscore_support as score\n",
    "\n",
    "thisY_score = [] \n",
    "for fIdx,fam in enumerate(fams):\n",
    "    precision, recall, fscore, support, myY_score = (getKnnResults(fIdx, \"macro\"))\n",
    "    thisY_score.append(myY_score)"
   ]
  },
  {
   "cell_type": "code",
   "execution_count": 154,
   "metadata": {},
   "outputs": [],
   "source": [
    "thisY_score = np.array((thisY_score))\n",
    "thisY_score.shape\n",
    "\n",
    "y_score = thisY_score[:,:,1].T\n",
    "y_test = test_motifxFamMatrix"
   ]
  },
  {
   "cell_type": "code",
   "execution_count": 155,
   "metadata": {},
   "outputs": [
    {
     "name": "stdout",
     "output_type": "stream",
     "text": [
      "AUROC results:\n",
      "PKA 0.844\n",
      "AKT 0.876\n",
      "CDK 0.882\n",
      "MAPK 0.88\n",
      "SRC 1.0\n",
      "CK2 0.914\n",
      "PKC 0.875\n",
      "PIKK 0.858\n",
      "macro auroc: 0.891 \n",
      "micro auroc: 0.917\n"
     ]
    }
   ],
   "source": [
    "from sklearn.metrics import roc_curve, auc\n",
    "from scipy import interp\n",
    "import numpy as np\n",
    "\n",
    "\n",
    "print(\"AUROC results:\")\n",
    "fpr = dict()\n",
    "tpr = dict()\n",
    "roc_auc = dict()\n",
    "for i in range(len(fams)):\n",
    "    fpr[i], tpr[i], _ = roc_curve(y_test[:, i], y_score[:, i])\n",
    "    roc_auc[i] = auc(fpr[i], tpr[i])\n",
    "    print(fams[i],roc_auc[i].round(3))\n",
    "\n",
    "\n",
    "fpr[\"micro\"], tpr[\"micro\"], _ = roc_curve(y_test.ravel(), y_score.ravel())\n",
    "roc_auc[\"micro\"] = auc(fpr[\"micro\"], tpr[\"micro\"])\n",
    "all_fpr = np.unique(np.concatenate([fpr[i] for i in range(len(fams))]))\n",
    "\n",
    "mean_tpr = np.zeros_like(all_fpr)\n",
    "for i in range(len(fams)):\n",
    "    mean_tpr += interp(all_fpr, fpr[i], tpr[i])\n",
    "mean_tpr /= len(fams)\n",
    "\n",
    "fpr[\"macro\"] = all_fpr\n",
    "tpr[\"macro\"] = mean_tpr\n",
    "roc_auc[\"macro\"] = auc(fpr[\"macro\"], tpr[\"macro\"])\n",
    "\n",
    "print(\"macro auroc:\",roc_auc[\"macro\"].round(3),\n",
    "      \"\\nmicro auroc:\",roc_auc[\"micro\"].round(3))"
   ]
  },
  {
   "cell_type": "raw",
   "metadata": {},
   "source": [
    "* * * * Avg'd ProtVec RESULTS * * * *\n",
    "AUROC results:\n",
    "PKA 0.857\n",
    "AKT 0.934\n",
    "CDK 0.89\n",
    "MAPK 0.889\n",
    "SRC 1.0\n",
    "CK2 0.881\n",
    "PKC 0.855\n",
    "PIKK 0.868\n",
    "macro auroc: 0.897 \n",
    "micro auroc: 0.900\n",
    "\n",
    "* * * * ProtVec RESULTS * * * *\n",
    "AUROC results:\n",
    "PKA 0.818\n",
    "AKT 0.873\n",
    "CDK 0.854\n",
    "MAPK 0.871\n",
    "SRC 0.983\n",
    "CK2 0.864\n",
    "PKC 0.81\n",
    "PIKK 0.798\n",
    "macro auroc: 0.859 \n",
    "micro auroc: 0.836"
   ]
  },
  {
   "cell_type": "code",
   "execution_count": 156,
   "metadata": {},
   "outputs": [
    {
     "name": "stdout",
     "output_type": "stream",
     "text": [
      "AVERAGE Precision (AP) results\n",
      "PKA 0.592\n",
      "AKT 0.419\n",
      "CDK 0.51\n",
      "MAPK 0.569\n",
      "SRC 1.0\n",
      "CK2 0.747\n",
      "PKC 0.638\n",
      "PIKK 0.617\n",
      "avg AP (macro): 0.636 \n",
      "avg AP (micro): 0.711\n"
     ]
    }
   ],
   "source": [
    "from itertools import chain\n",
    "from sklearn.metrics import precision_recall_curve\n",
    "from sklearn.metrics import average_precision_score\n",
    "\n",
    "precision = dict()\n",
    "recall = dict()\n",
    "average_precision = dict()\n",
    "\n",
    "print(\"AVERAGE Precision (AP) results\")\n",
    "for i in range(len(fams)):\n",
    "    precision[i], recall[i], _ = precision_recall_curve(y_test[:, i],y_score[:, i])\n",
    "    average_precision[i] = average_precision_score(y_test[:, i], y_score[:, i])\n",
    "    print(fams[i],average_precision[i].round(3))\n",
    "\n",
    "\n",
    "average_precision[\"micro\"] = average_precision_score(y_test, y_score,average=\"micro\")\n",
    "average_precision[\"macro\"] = average_precision_score(y_test, y_score, average=\"macro\")\n",
    "print(\"avg AP (macro):\",average_precision[\"macro\"].round(3),\n",
    "      \"\\navg AP (micro):\",average_precision[\"micro\"].round(3))"
   ]
  },
  {
   "cell_type": "raw",
   "metadata": {},
   "source": [
    "* * * * Avg'd ProtVec RESULTS * * * *\n",
    "AVERAGE Precision (AP) results\n",
    "PKA 0.623\n",
    "AKT 0.49\n",
    "CDK 0.592\n",
    "MAPK 0.661\n",
    "SRC 0.999\n",
    "CK2 0.668\n",
    "PKC 0.594\n",
    "PIKK 0.591\n",
    "avg AP (macro): 0.652 \n",
    "avg AP (micro): 0.613\n",
    "\n",
    "* * * * ProtVec RESULTS * * * *\n",
    "AVERAGE Precision (AP) results\n",
    "PKA 0.568\n",
    "AKT 0.282\n",
    "CDK 0.448\n",
    "MAPK 0.605\n",
    "SRC 0.898\n",
    "CK2 0.697\n",
    "PKC 0.539\n",
    "PIKK 0.46\n",
    "avg AP (macro): 0.562 \n",
    "avg AP (micro): 0.512"
   ]
  },
  {
   "cell_type": "code",
   "execution_count": null,
   "metadata": {},
   "outputs": [],
   "source": []
  },
  {
   "cell_type": "code",
   "execution_count": null,
   "metadata": {},
   "outputs": [],
   "source": []
  },
  {
   "cell_type": "code",
   "execution_count": null,
   "metadata": {},
   "outputs": [],
   "source": []
  },
  {
   "cell_type": "code",
   "execution_count": null,
   "metadata": {},
   "outputs": [],
   "source": []
  },
  {
   "cell_type": "code",
   "execution_count": null,
   "metadata": {},
   "outputs": [],
   "source": []
  }
 ],
 "metadata": {
  "kernelspec": {
   "display_name": "Python 3",
   "language": "python",
   "name": "python3"
  },
  "language_info": {
   "codemirror_mode": {
    "name": "ipython",
    "version": 3
   },
   "file_extension": ".py",
   "mimetype": "text/x-python",
   "name": "python",
   "nbconvert_exporter": "python",
   "pygments_lexer": "ipython3",
   "version": "3.7.4"
  }
 },
 "nbformat": 4,
 "nbformat_minor": 2
}
