{
 "cells": [
  {
   "cell_type": "code",
   "execution_count": 2,
   "metadata": {},
   "outputs": [
    {
     "data": {
      "text/html": [
       "\n",
       "                <audio  controls=\"controls\" autoplay=\"autoplay\">\n",
       "                    <source src=\"https://www.wavsource.com/snds_2020-10-01_3728627494378403/animals/cat_meow2.wav\" type=\"audio/x-wav\" />\n",
       "                    Your browser does not support the audio element.\n",
       "                </audio>\n",
       "              "
      ],
      "text/plain": [
       "<IPython.lib.display.Audio object>"
      ]
     },
     "metadata": {},
     "output_type": "display_data"
    },
    {
     "name": "stdout",
     "output_type": "stream",
     "text": [
      "7863\n"
     ]
    }
   ],
   "source": [
    "import numpy as np\n",
    "import random\n",
    "import pandas as pd\n",
    "\n",
    "from sklearn.model_selection import train_test_split\n",
    "\n",
    "from IPython.display import Audio, display\n",
    "def allDone():\n",
    "    urL = 'https://www.wavsource.com/snds_2020-10-01_3728627494378403/animals/cat_meow2.wav'\n",
    "    display(Audio(url=urL, autoplay=True))\n",
    "allDone()\n",
    "\n",
    "random.seed(666)\n",
    "\n",
    "motifs = np.genfromtxt('data_dev/motifs.csv',dtype='U')\n",
    "motifxFamMatrix = np.genfromtxt('data_dev/motifxFamMatrix.csv',delimiter=',',dtype=int)\n",
    "fams = np.genfromtxt('data_dev/fams.csv',dtype='U')\n",
    "\n",
    "print(len(motifs))"
   ]
  },
  {
   "cell_type": "code",
   "execution_count": 3,
   "metadata": {},
   "outputs": [],
   "source": [
    "X_train, X_test = train_test_split(range(len(motifs)), test_size=0.15, random_state=666)\n",
    "\n",
    "train_motifs = motifs[X_train]\n",
    "test_motifs = motifs[X_test]"
   ]
  },
  {
   "cell_type": "markdown",
   "metadata": {},
   "source": [
    "## Look at CD-HIT results."
   ]
  },
  {
   "cell_type": "code",
   "execution_count": 6,
   "metadata": {
    "scrolled": true
   },
   "outputs": [],
   "source": [
    "from Bio import SeqIO\n",
    "\n",
    "results = '1588970924.result/1588970924.fas.db2novel.clstr.sorted'\n",
    "\n",
    "fasta_sequences = SeqIO.parse(open(results),'fasta')\n",
    "for i,fasta in enumerate(fasta_sequences):\n",
    "    name, sequence = fasta.id, str(fasta.seq)\n",
    "#     print(i,sequence.split())\n",
    "    if i==1000:\n",
    "        break"
   ]
  },
  {
   "cell_type": "code",
   "execution_count": 7,
   "metadata": {},
   "outputs": [
    {
     "name": "stdout",
     "output_type": "stream",
     "text": [
      "_MAARRITQETFDAV AVGTRRGSPLLIGVR T S\n",
      "1089 5346\n",
      "[7]\n",
      "[0]\n",
      "[0 0 0 0 0 0 0 1]\n",
      "[1 0 0 0 0 0 0 0]\n",
      "['PIKK']\n",
      "['PKA']\n"
     ]
    }
   ],
   "source": [
    "m1 = train_motifs[2268]\n",
    "m2 = test_motifs[128]\n",
    "\n",
    "print(m1, m2, m1[7], m2[7])\n",
    "\n",
    "i1 = np.where(motifs==m1)[0][0]\n",
    "i2 = np.where(motifs==m2)[0][0]\n",
    "\n",
    "print(i1,i2)\n",
    "\n",
    "fi1 = np.where(motifxFamMatrix[i1]==1)[0]\n",
    "fi2 = np.where(motifxFamMatrix[i2]==1)[0]\n",
    "print(fi1)\n",
    "print(fi2)\n",
    "\n",
    "print(motifxFamMatrix[i1])\n",
    "print(motifxFamMatrix[i2])\n",
    "\n",
    "print(fams[fi1])\n",
    "print(fams[fi2])"
   ]
  },
  {
   "cell_type": "markdown",
   "metadata": {},
   "source": [
    "## Find Hamming-near motifs between test and train sets."
   ]
  },
  {
   "cell_type": "code",
   "execution_count": 8,
   "metadata": {},
   "outputs": [],
   "source": [
    "### https://biology.stackexchange.com/questions/23523/hamming-distance-between-two-dna-strings\n",
    "def inv_hamming_distance_COPYPASTA(s1, s2):\n",
    "    #Return the Hamming distance between equal-length sequences\n",
    "    if len(s1) != len(s2):\n",
    "        raise ValueError(\"Undefined for sequences of unequal length\")\n",
    "    return sum(ch1 == ch2 for ch1, ch2 in zip(s1, s2)) / len(s1)"
   ]
  },
  {
   "cell_type": "code",
   "execution_count": 9,
   "metadata": {},
   "outputs": [],
   "source": [
    "def inv_hamming_distance(s1, s2):\n",
    "    #Return the Hamming distance between equal-length sequences\n",
    "    if len(s1) != len(s2):\n",
    "        raise ValueError(\"Undefined for sequences of unequal length\")\n",
    "    zipped = zip(s1,s2)\n",
    "    ### don't want to count \"empty\" characters ...\n",
    "    max_buff_length = max( sum([1 for c in s1 if c=='_']), sum([1 for c in s2 if c=='_'])  )\n",
    "    return (sum((ch1 == ch2 and ch1 != '_' and ch2 != '_') for ch1, ch2 in zip(s1, s2)) / \n",
    "            (len(s2)-max_buff_length) )"
   ]
  },
  {
   "cell_type": "code",
   "execution_count": 10,
   "metadata": {},
   "outputs": [
    {
     "name": "stdout",
     "output_type": "stream",
     "text": [
      "0.4444444444444444\n",
      "0.6666666666666666\n",
      "0.4444444444444444\n",
      "0.4444444444444444\n"
     ]
    }
   ],
   "source": [
    "t1 = 'GEDEESESD______'\n",
    "t2 = 'AEEKEAKSD______'\n",
    "\n",
    "print(inv_hamming_distance(t1,t2))\n",
    "print(inv_hamming_distance_COPYPASTA(t1,t2))\n",
    "\n",
    "print(inv_hamming_distance_COPYPASTA('GEDEESESD','AEEKEAKSD'))\n",
    "print(inv_hamming_distance('GEDEESESD','AEEKEAKSD'))"
   ]
  },
  {
   "cell_type": "code",
   "execution_count": 12,
   "metadata": {
    "scrolled": true
   },
   "outputs": [
    {
     "name": "stdout",
     "output_type": "stream",
     "text": [
      "0.596 mins\n"
     ]
    },
    {
     "data": {
      "text/html": [
       "\n",
       "                <audio  controls=\"controls\" autoplay=\"autoplay\">\n",
       "                    <source src=\"https://www.wavsource.com/snds_2020-10-01_3728627494378403/animals/cat_meow2.wav\" type=\"audio/x-wav\" />\n",
       "                    Your browser does not support the audio element.\n",
       "                </audio>\n",
       "              "
      ],
      "text/plain": [
       "<IPython.lib.display.Audio object>"
      ]
     },
     "metadata": {},
     "output_type": "display_data"
    }
   ],
   "source": [
    "import time\n",
    "import itertools\n",
    "\n",
    "start = time.time()\n",
    "similar_motifs = []\n",
    "for i,combo in enumerate(itertools.product(train_motifs, test_motifs)):\n",
    "    score = inv_hamming_distance(combo[0],combo[1])\n",
    "    if score >= 0.6:\n",
    "#         print(score, combo)\n",
    "        similar_motifs.append( [combo[0], combo[1], score] )\n",
    "print(\"%5.3f mins\" % ((time.time()-start)/60))\n",
    "allDone()\n"
   ]
  },
  {
   "cell_type": "code",
   "execution_count": 13,
   "metadata": {},
   "outputs": [
    {
     "name": "stdout",
     "output_type": "stream",
     "text": [
      "276\n",
      "221\n"
     ]
    }
   ],
   "source": [
    "sim_train = list(set([x[0] for x in similar_motifs]))\n",
    "sim_test = list(set([x[1] for x in similar_motifs]))\n",
    "\n",
    "print(len(sim_train))\n",
    "print(len(sim_test))"
   ]
  },
  {
   "cell_type": "raw",
   "metadata": {},
   "source": [
    "279\n",
    "229"
   ]
  },
  {
   "cell_type": "code",
   "execution_count": 14,
   "metadata": {},
   "outputs": [
    {
     "data": {
      "text/plain": [
       "['NFLRRRLSDSSFIAN',\n",
       " 'CLRMGNLYDIDEDQM',\n",
       " 'KSKPKDASQRRRSLE',\n",
       " '____MSSSPLSKKRR',\n",
       " 'GYKASRPSQENFSLI',\n",
       " 'KKKFRTPSFLKKSKK',\n",
       " 'VKLQTPNTFPKRKKG',\n",
       " 'RRQAERMSQIKRLLS',\n",
       " 'GETLPDSTPLGLYLK',\n",
       " 'DDIDLFGSDDEEESE',\n",
       " 'DVYDKVDYLSSLGKT',\n",
       " 'NSMRRNNSMRRSNSI',\n",
       " 'LPRPRSCTWPLPRPE',\n",
       " 'PALEVSDSESDEALV',\n",
       " 'PIGEDEESESD____',\n",
       " 'AVATRRGSPLLIGVR',\n",
       " 'SRFNRRVSVCAETYN',\n",
       " 'VSGSHQGSIQELSTI',\n",
       " 'LFRVSEHSSPEEESS',\n",
       " 'SPKYSPTSPTYSPTT',\n",
       " 'ETVNLPPSPPPSPAS',\n",
       " 'YVVKRRDSATSFSLD',\n",
       " 'VDRRRAATLREKRRL',\n",
       " 'SDSEDDSSEFDEDDW',\n",
       " 'VVALTKTYATAEPFI',\n",
       " 'NRFTRRASVCAEAYN',\n",
       " 'KEPSEVPTPKRPRGR',\n",
       " 'ERAELNQSEEPEAGE',\n",
       " 'GQRDSSYYWEIEASE',\n",
       " 'EDPAKFKSIKTGRGP',\n",
       " 'NRVKRRPSPYEMEIT',\n",
       " 'PAPIRRRSSNYRAYA',\n",
       " 'FYYEILNSPEKACSL',\n",
       " 'PRPLRRESEI_____',\n",
       " 'QAAYYGQTPGPGGPQ',\n",
       " 'LQYYYSSSEDEDSDH',\n",
       " 'RHIVRKRTLRRLLQE',\n",
       " 'SPTYSPTSPVYTPTS',\n",
       " 'GDDEDACSDTEATEA',\n",
       " 'MVPGGDRSPSRMLPP',\n",
       " 'CTERFVCSPDEVMDT',\n",
       " 'GRIRRRASQLKVKIP',\n",
       " 'THLAWINTPRKEGGL',\n",
       " 'YVPVAPPTPAWQPEI',\n",
       " 'SLLKKRDSFRRDSKL',\n",
       " 'PSVPPGGSPLLDSSH',\n",
       " 'RKKDEGSYDLGERKP',\n",
       " 'IQSNLDFSPVNSASS',\n",
       " 'APVRRRSSANYRAYA',\n",
       " 'SRSLYSSSPGGAYVT',\n",
       " 'RRRPRNLTILSLPED',\n",
       " 'ENGNGDSSEEEEEEE',\n",
       " 'RREERSMSAPGNLLV',\n",
       " 'GCRRRHSSETFSSTP',\n",
       " 'TGITRKKTFKEVANA',\n",
       " 'SDDYMPMSPTSVSAP',\n",
       " 'MSTYKRATLDEEDLV',\n",
       " 'SKAQQGLYQVPGPSP',\n",
       " 'KQAEAVTSPRFIGRR',\n",
       " 'SNGRRKRSPTQSFRF',\n",
       " 'GVLSRKLSDFGQETS',\n",
       " 'STPSEPLSPTSSLGE',\n",
       " 'EESYDTESEFTEFTE',\n",
       " 'ATKAARKSAPSTGGV',\n",
       " 'TLGQFLDTQEDFLKW',\n",
       " 'VPETKGKSFDEIAAE',\n",
       " 'KEFGAPKSPGTARKD',\n",
       " 'RNRKRSRSRSSSSGD',\n",
       " 'RGRGRGGSIRGRGRG',\n",
       " 'RETRRRLSVEIHDKL',\n",
       " 'LFMADDAYSHHSGVD',\n",
       " 'TLTPVLLTPSSLPPS',\n",
       " 'PRPGRRGSRPPEIRE',\n",
       " 'DESSDDDSDSEETSK',\n",
       " 'SLLKKSSSFRTPRDS',\n",
       " 'SAINSRETMFHKERF',\n",
       " 'SVIVADQTPTPTRFL',\n",
       " 'AVVNLINYQDDAELA',\n",
       " 'VMLKIGTSPLKEDKE',\n",
       " 'EELNSQDSPPKQDST',\n",
       " 'GEVQRRLSPPECLNA',\n",
       " 'GARRRGGSASRSLPL',\n",
       " 'QSRPRSCTWPLPRPD',\n",
       " 'RRAKLEDSEENGVFK',\n",
       " 'DDGYMPMTPGAALRS',\n",
       " 'SRLRRRASQLKITIP',\n",
       " 'PTIPGVTSPTSDEPP',\n",
       " 'LSPIDMESQERIKAE',\n",
       " 'QEPTCEPSPKRPRGR',\n",
       " 'PTEEEEESESEDSED',\n",
       " 'KQCEQAVYQVPTSQK',\n",
       " 'RRRRRSRSRSRSRSR',\n",
       " 'FTATEGQYQPQP___',\n",
       " 'GEDEESESD______',\n",
       " 'RERERRNSDRSEDGY',\n",
       " 'DDIDLFGSDEEEDKE',\n",
       " 'SSSCGKDTPSKKRKL',\n",
       " 'DKEKSKGSLKRK___',\n",
       " 'LLKHMTQSSRKLIRA',\n",
       " 'DGFHPRRSSQGVLHM',\n",
       " 'QAQTERKSGKRQTER',\n",
       " 'DPSQRRRSLEPPDST',\n",
       " 'QGGRRRHSSETFSST',\n",
       " 'WEILRRNTLGHLNLG',\n",
       " 'SPRYTPQSPTYTPSS',\n",
       " 'SSEPVGIYQGFEKKT',\n",
       " '___MELLSPPLRDID',\n",
       " 'IEKRYRSSINDKIVE',\n",
       " 'RPRHSIYSSDDDEED',\n",
       " 'PTETAESSQAEEEKD',\n",
       " 'MPKRKVSSAEGAAKE',\n",
       " 'HVQRVLRTPGRQSPG',\n",
       " 'YPAEDSTYDEYENDL',\n",
       " 'FKRRRRSSSVVSAEM',\n",
       " 'MQVVRKTTSPEGEVV',\n",
       " 'KTPDGNKSPAPKPSD',\n",
       " 'SMQLRRPSDRELSEP',\n",
       " 'GDEEVPRSPFKVKVL',\n",
       " 'DVQKSKEYFSKQK__',\n",
       " 'KTPEGNKSPAPKPSD',\n",
       " 'SDRGVRLSLPRASSL',\n",
       " 'MIRSKEPSSPGTDDV',\n",
       " 'CDEEFSDSEDEGEGG',\n",
       " 'MRSKETSSPGTDDVF',\n",
       " 'PGLRRRQT_______',\n",
       " 'SQPHGSVTQSQGSSS',\n",
       " 'VEEDPLNSGDDVSEQ',\n",
       " '______MSSKKAKTK',\n",
       " 'GKMFRRPSLPCISRE',\n",
       " 'AAAGPALSPVPPVVH',\n",
       " 'SFRRRHNSWSSSSRH',\n",
       " 'PTETAESSQAEEEKE',\n",
       " 'RIREQESSGEEDSDL',\n",
       " 'FGESRASTFCGTPDY',\n",
       " 'TPKYSPTSPTYSPTS',\n",
       " 'LPGKPKVYVQDILRQ',\n",
       " 'NAALRRESQGSLNSS',\n",
       " 'KKNGRVLTLPRSNPS',\n",
       " 'QSSDSLNSPTLLAL_',\n",
       " 'KRPQRATSNVFAMFD',\n",
       " 'NRRKVMDSDEDDDY_',\n",
       " 'QSLEKMSSPLADAKR',\n",
       " 'SRGGARASPATQPPP',\n",
       " 'PSSDPLGSPTLLAL_',\n",
       " 'STNTHTQSSSSSSDG',\n",
       " 'KRTADSSSSEDEEEY',\n",
       " 'REFNSYGSRRGNDAV',\n",
       " 'DGKKRKRSRKESYSV',\n",
       " 'SQKGMSVYGLGRQVY',\n",
       " 'GKKATQASQEY____',\n",
       " 'RSEDARSSPSQRRRG',\n",
       " 'GPLAPPASPGPFATR',\n",
       " 'EETSSQESAEED___',\n",
       " 'PREKRRSTGVSFWTQ',\n",
       " '______MSSKRAKAK',\n",
       " 'AGARRKASGPPVSEL',\n",
       " 'TETRSSSSESSHSSS',\n",
       " 'HRAKRRSSGRRYK__',\n",
       " 'PPTQKPPSPPMSGKG',\n",
       " 'IKQIRHESGASIKID',\n",
       " 'SARIRQNTREHPSTA',\n",
       " 'PRHSIYSSDDDEEDV',\n",
       " 'LPRQRSCTWPLPRPE',\n",
       " 'VGGFAPMSPRISSPM',\n",
       " 'LKSTLAMSPRQRKKM',\n",
       " 'ENLTQVGSILGNLKD',\n",
       " 'TASNPVATPVDWKKG',\n",
       " 'SPTYSPTSPKGSTYS',\n",
       " 'LGPGPRLSLARMPPP',\n",
       " 'PVVFTVGSPPSGSTP',\n",
       " 'IRRPRNYSVGSRPLQ',\n",
       " 'EAEGDEIYEDLMRLE',\n",
       " 'MIRRRRPTPAMLFRV',\n",
       " 'HSMSVPTTPTLGFST',\n",
       " 'IACDEEFSDSEDEGE',\n",
       " 'RGKFKRPTLRRVRIS',\n",
       " 'SQGGGSVTKKRKLES',\n",
       " 'VASPAAPSPGSSGGG',\n",
       " 'LKPSLAMSPRQRKKM',\n",
       " 'VRRQGKVTVKYDRKE',\n",
       " 'SLSARKLSLQERPAG',\n",
       " 'IGLNQPSTPTHAASI',\n",
       " 'MMDAPPLSPFPHIKQ',\n",
       " 'QIRRRRPTPATLVLT',\n",
       " 'NDDIEVESDEEQPRF',\n",
       " 'PLPPEHCYQPPGVPE',\n",
       " 'SPSYSPTSPKYTPTS',\n",
       " 'RQPSPSPSPTERAPA',\n",
       " 'TTESVGIYQGFEKKP',\n",
       " 'APDGLLASPDLGLLK',\n",
       " 'KGTGASGSF______',\n",
       " 'ERMSRKMSIQEYELI',\n",
       " 'GETLPDSTPLGLYLR',\n",
       " 'DHDKRAYSFCGTIEY',\n",
       " 'RDFNSYGSRRGNDAI',\n",
       " 'MIRRRRPTPAMLFRL',\n",
       " 'GTEEKCGSPQVRTLS',\n",
       " 'TLDNGGFYISPRSTF',\n",
       " 'NLSENQASEEEDELG',\n",
       " 'EAEGDEIYEDLMRSE',\n",
       " 'GGSTPVLTPGKTPIG',\n",
       " 'VKRERTSSLTHSEEK',\n",
       " 'PPGDYSTTPGGTLFS',\n",
       " 'AFRRRANTLSHFPVE',\n",
       " 'FKQQRYLSAPERDQL',\n",
       " 'YNRTRRISQTSQVSI',\n",
       " 'KLQYYYSSSEDEDSD',\n",
       " 'ECLSREGSPIPHDPD',\n",
       " 'EEEEEEDSDEEDQRS',\n",
       " 'DVYSTDYYRVGGHTM',\n",
       " 'EDPAKFKSVKTGRGP',\n",
       " 'EVIEVDESDVEEDIF',\n",
       " 'NTANRRTTPV_____',\n",
       " 'LKHVTQSSRKLIRAD',\n",
       " 'STIEQQNSARIRQNT',\n",
       " 'INKKQATSPASKKPA',\n",
       " 'YQAEDDTYDGYESDL',\n",
       " 'RGRGRAGSQGGRGGG',\n",
       " 'RGQRDSSYYWEIEAS',\n",
       " 'TDRRKAATLRERRRL',\n",
       " 'IRNKARLSITGSVGE',\n",
       " 'RKKLRPGSGGEKPPD',\n",
       " 'GFHPRRSSQGVLHMP',\n",
       " 'GPETPAISPSKRARP',\n",
       " 'LGPPQSHSLPDLPDQ',\n",
       " 'TPLHRDKTPLHQKHA',\n",
       " 'VLSGLTLSPEQGTNE',\n",
       " 'NPLMRRNSVTPLASP',\n",
       " 'DDRSDIESSSDEEDS',\n",
       " 'SKSHRRTSLPCIPRE',\n",
       " 'LHELLVISSKPALEN',\n",
       " 'SSKIRRLSACKQQ__',\n",
       " 'GVRRRRLSNVSLTGV',\n",
       " 'GVRRRRLSNVSLTGL',\n",
       " 'NGDYMPMSPKSVSAP',\n",
       " 'QFNKGPSYGLSAEVK',\n",
       " 'KELQRQASPNIVIAL',\n",
       " 'YDSDGDKSDDLVVDV',\n",
       " 'QSRPRSCTWPLPRPE',\n",
       " 'RAISGDLTAEEELDK',\n",
       " 'LFKSATTTVMNPKFA',\n",
       " 'VSVTTLGSPMHSN__',\n",
       " 'HSTPPSAYGSVKAYT',\n",
       " 'SPSYSPTSPSYSPTS',\n",
       " 'RDTAARTSPLRPLVA',\n",
       " 'LRRLRPRTRKIKGVS',\n",
       " 'AGEEEHVYSFPNKQK',\n",
       " 'RDMAARTSPLRPLVA',\n",
       " 'HPFLRRNSGC_____',\n",
       " 'VGLLKLASPELERLI',\n",
       " 'RLQERRGSNVALMLD',\n",
       " 'EMVPSSPSPPPPPRV',\n",
       " 'AAPAAPASEDEDEED',\n",
       " 'FTSTEPQYQPGENL_',\n",
       " 'ASASSSSSPASSGPA',\n",
       " 'MIRRRRPTPALLFRV',\n",
       " 'RLPSSPVYEDAASFK',\n",
       " 'RSAPRSASQAEEEPC',\n",
       " 'LVPKENDYESIGDLQ',\n",
       " 'QFRRRAHTFSHPPSS',\n",
       " 'AIVHLINYQDDAELA',\n",
       " 'PAASGAPSS______',\n",
       " 'LGRNKPHTPFRASKL',\n",
       " 'VPFNLVPSPKSLLYL',\n",
       " 'ERFSRKMSVQEYELI',\n",
       " 'PATSRRSSVSGISLE',\n",
       " 'RSDIESSSDEEDSEP',\n",
       " '______MSDEEVEHV',\n",
       " 'EIEEVEESEDEGEDP',\n",
       " 'GFSKNCGSPESSQLS',\n",
       " 'EFDTNYATDDDIVFE',\n",
       " 'NGDDPLLTYRFPPKF',\n",
       " 'KKKDEGSYSLEEPKQ',\n",
       " 'PRHSIYSSDEDDEDI',\n",
       " 'NYLRRRLSDSNFMAN',\n",
       " 'GTEEKCGSPRVRTLS']"
      ]
     },
     "execution_count": 14,
     "metadata": {},
     "output_type": "execute_result"
    }
   ],
   "source": [
    "sim_train"
   ]
  },
  {
   "cell_type": "raw",
   "metadata": {},
   "source": [
    "* * * RESULTS * * *\n",
    "\n",
    "at 0.6 thresh:\n",
    "sim_train: 276\n",
    "sim_test: 221"
   ]
  },
  {
   "cell_type": "code",
   "execution_count": 15,
   "metadata": {},
   "outputs": [
    {
     "name": "stdout",
     "output_type": "stream",
     "text": [
      "2336 3430\n",
      "[1]\n",
      "[0]\n",
      "[0 1 0 0 0 0 0 0]\n",
      "[1 0 0 0 0 0 0 0]\n",
      "['AKT']\n",
      "['PKA']\n"
     ]
    }
   ],
   "source": [
    "MY_IDX = 16\n",
    "\n",
    "t1 = similar_motifs[MY_IDX][0]\n",
    "t2 = similar_motifs[MY_IDX][1]\n",
    "\n",
    "i1 = np.where(motifs==t1)[0][0]\n",
    "i2 = np.where(motifs==t2)[0][0]\n",
    "\n",
    "print(i1,i2)\n",
    "\n",
    "fi1 = np.where(motifxFamMatrix[i1]==1)[0]\n",
    "fi2 = np.where(motifxFamMatrix[i2]==1)[0]\n",
    "print(fi1)\n",
    "print(fi2)\n",
    "\n",
    "print(motifxFamMatrix[i1])\n",
    "print(motifxFamMatrix[i2])\n",
    "\n",
    "print(fams[fi1])\n",
    "\n",
    "print(fams[fi2])"
   ]
  },
  {
   "cell_type": "markdown",
   "metadata": {},
   "source": [
    "## Define and save training set indices to remove ... "
   ]
  },
  {
   "cell_type": "code",
   "execution_count": 16,
   "metadata": {},
   "outputs": [],
   "source": [
    "idc_to_remove = []\n",
    "for motif in sim_train:\n",
    "    idx = np.where(motifs==motif)[0][0]\n",
    "    idc_to_remove.append(idx)\n",
    "idc_to_remove = np.array((idc_to_remove))"
   ]
  },
  {
   "cell_type": "code",
   "execution_count": 17,
   "metadata": {},
   "outputs": [],
   "source": [
    "idc_to_keep = [x for x in X_train if x not in idc_to_remove]\n",
    "X_train = idc_to_keep\n",
    "\n",
    "train_motifs = motifs[X_train]\n",
    "test_motifs = motifs[X_test]\n",
    "\n",
    "train_motifxFamMatrix = motifxFamMatrix[X_train]\n",
    "test_motifxFamMatrix = motifxFamMatrix[X_test]\n",
    "\n",
    "data_dir = \"data_dev/\"\n",
    "\n",
    "df = pd.DataFrame(train_motifs,dtype='U')\n",
    "df.to_csv(data_dir + 'train_motifs.csv',header=None,index=None)\n",
    "df = pd.DataFrame(test_motifs,dtype='U')\n",
    "df.to_csv(data_dir + 'test_motifs.csv',header=None,index=None)\n",
    "\n",
    "df = pd.DataFrame(train_motifxFamMatrix,dtype=int)\n",
    "df.to_csv(data_dir + 'train_motifxFamMatrix.csv',header=None,index=None)\n",
    "df = pd.DataFrame(test_motifxFamMatrix,dtype=int)\n",
    "df.to_csv(data_dir + 'test_motifxFamMatrix.csv',header=None,index=None)"
   ]
  },
  {
   "cell_type": "markdown",
   "metadata": {},
   "source": [
    "### Getting rid of that bad motif."
   ]
  },
  {
   "cell_type": "code",
   "execution_count": 22,
   "metadata": {},
   "outputs": [],
   "source": [
    "# train_motifs = np.genfromtxt('data_dev/train_motifs.csv',dtype='U')\n",
    "# train_motifxFamMatrix = np.genfromtxt('data_dev/train_motifxFamMatrix.csv',delimiter=',',dtype=int)\n",
    "# test_motifs = np.genfromtxt('data_dev/test_motifs.csv',dtype='U')\n",
    "# test_motifxFamMatrix = np.genfromtxt('data_dev/test_motifxFamMatrix.csv',delimiter=',',dtype=int)\n",
    "\n",
    "# fams = np.genfromtxt('data_dev/fams.csv',dtype='U')\n",
    "\n",
    "# all_motifs = np.hstack([train_motifs,test_motifs])\n",
    "# all_motifxFamMatrix = np.vstack([train_motifxFamMatrix,test_motifxFamMatrix])"
   ]
  },
  {
   "cell_type": "code",
   "execution_count": 23,
   "metadata": {},
   "outputs": [],
   "source": [
    "# np.where(test_motifs=='__PKRKVSSAEGAAK')"
   ]
  },
  {
   "cell_type": "code",
   "execution_count": 24,
   "metadata": {},
   "outputs": [],
   "source": [
    "# poo = [x for x in range(len(test_motifs)) if x!=????]\n",
    "# new_test_motifs = test_motifs[poo]\n",
    "# new_test_motifxFamMatrix = test_motifxFamMatrix[poo]\n",
    "\n",
    "# print(len(test_motifs))\n",
    "# print(len(new_test_motifs))\n",
    "\n",
    "# data_dir = \"data_dev/\"\n",
    "\n",
    "# df = pd.DataFrame(new_test_motifs,dtype='U')\n",
    "# df.to_csv(data_dir + 'new_test_motifs.csv',header=None,index=None)\n",
    "# df = pd.DataFrame(new_test_motifxFamMatrix,dtype='U')\n",
    "# df.to_csv(data_dir + 'new_test_motifxFamMatrix.csv',header=None,index=None)"
   ]
  },
  {
   "cell_type": "markdown",
   "metadata": {},
   "source": [
    "## Meta-data"
   ]
  },
  {
   "cell_type": "code",
   "execution_count": 27,
   "metadata": {},
   "outputs": [
    {
     "name": "stdout",
     "output_type": "stream",
     "text": [
      "train motifs: 6407\n",
      "test motifs: 1180\n",
      "total motifs: 7587\n"
     ]
    }
   ],
   "source": [
    "print(\"train motifs:\",len(train_motifs))\n",
    "print(\"test motifs:\",len(test_motifs))\n",
    "print(\"total motifs:\",len(test_motifs)+len(train_motifs))"
   ]
  },
  {
   "cell_type": "code",
   "execution_count": null,
   "metadata": {},
   "outputs": [],
   "source": []
  }
 ],
 "metadata": {
  "kernelspec": {
   "display_name": "Python 3",
   "language": "python",
   "name": "python3"
  },
  "language_info": {
   "codemirror_mode": {
    "name": "ipython",
    "version": 3
   },
   "file_extension": ".py",
   "mimetype": "text/x-python",
   "name": "python",
   "nbconvert_exporter": "python",
   "pygments_lexer": "ipython3",
   "version": "3.8.3"
  }
 },
 "nbformat": 4,
 "nbformat_minor": 2
}
