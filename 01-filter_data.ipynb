{
 "cells": [
  {
   "cell_type": "code",
   "execution_count": 1,
   "metadata": {},
   "outputs": [],
   "source": [
    "import numpy as np\n",
    "import random\n",
    "import pandas as pd\n",
    "\n",
    "from sklearn.model_selection import train_test_split\n",
    "\n",
    "from IPython.display import Audio, display\n",
    "def allDone():\n",
    "    urL = 'https://www.wavsource.com/snds_2020-10-01_3728627494378403/animals/cat_meow2.wav'\n",
    "    display(Audio(url=urL, autoplay=True))\n",
    "# allDone()\n",
    "\n",
    "random.seed(666)"
   ]
  },
  {
   "cell_type": "code",
   "execution_count": 2,
   "metadata": {},
   "outputs": [],
   "source": [
    "# motifs = np.genfromtxt('data_dev/',dtype='U')\n",
    "# motifxFamMatrix = np.genfromtxt('data_dev/motifxFamMatrix.csv',delimiter=',',dtype=int)\n",
    "# fams = np.genfromtxt('data_dev/fams.csv',dtype='U')\n",
    "\n",
    "# print(len(motifs))\n",
    "\n",
    "# X_train, X_test = train_test_split(range(len(motifs)), test_size=0.15, random_state=666)\n",
    "\n",
    "# train_motifs = motifs[X_train]\n",
    "# test_motifs = motifs[X_test]\n",
    "\n",
    "# len(train_motifs)"
   ]
  },
  {
   "cell_type": "code",
   "execution_count": 6,
   "metadata": {},
   "outputs": [
    {
     "name": "stdout",
     "output_type": "stream",
     "text": [
      "(6678,)\n",
      "(857,)\n",
      "(6449,)\n",
      "(853,)\n"
     ]
    }
   ],
   "source": [
    "# Try original data from EMBER 1.\n",
    "train_motifs = np.genfromtxt('data_dev/train_motifs_unfiltered.csv',dtype='U')\n",
    "test_motifs = np.genfromtxt('data_dev/test_motifs_unfiltered.csv',dtype='U')\n",
    "train_motifxFamMatrix = np.genfromtxt('data_dev/train_motifxFamMatrix_unfiltered.csv',delimiter=',',dtype=int)\n",
    "test_motifxFamMatrix = np.genfromtxt('data_dev/test_motifxFamMatrix_unfiltered.csv',delimiter=',',dtype=int)\n",
    "\n",
    "print(train_motifs.shape)\n",
    "print(test_motifs.shape)\n",
    "\n",
    "train_motifs = np.genfromtxt('data_dev/train_motifs.csv',dtype='U')\n",
    "print(train_motifs.shape)\n",
    "\n",
    "train_motifs = np.genfromtxt('data_dev/new_test_motifs.csv',dtype='U')\n",
    "print(train_motifs.shape)\n"
   ]
  },
  {
   "cell_type": "code",
   "execution_count": 18,
   "metadata": {},
   "outputs": [
    {
     "data": {
      "text/plain": [
       "229"
      ]
     },
     "execution_count": 18,
     "metadata": {},
     "output_type": "execute_result"
    }
   ],
   "source": [
    "6678-6449"
   ]
  },
  {
   "cell_type": "markdown",
   "metadata": {},
   "source": [
    "## Look at CD-HIT results."
   ]
  },
  {
   "cell_type": "code",
   "execution_count": 4,
   "metadata": {
    "scrolled": true
   },
   "outputs": [],
   "source": [
    "# from Bio import SeqIO\n",
    "\n",
    "# results = '1588970924.result/1588970924.fas.db2novel.clstr.sorted'\n",
    "\n",
    "# fasta_sequences = SeqIO.parse(open(results),'fasta')\n",
    "# for i,fasta in enumerate(fasta_sequences):\n",
    "#     name, sequence = fasta.id, str(fasta.seq)\n",
    "# #     print(i,sequence.split())\n",
    "#     if i==1000:\n",
    "#         break\n",
    "        \n",
    "# m1 = train_motifs[2268]\n",
    "# m2 = test_motifs[128]\n",
    "\n",
    "# print(m1, m2, m1[7], m2[7])\n",
    "\n",
    "# i1 = np.where(motifs==m1)[0][0]\n",
    "# i2 = np.where(motifs==m2)[0][0]\n",
    "\n",
    "# print(i1,i2)\n",
    "\n",
    "# fi1 = np.where(motifxFamMatrix[i1]==1)[0]\n",
    "# fi2 = np.where(motifxFamMatrix[i2]==1)[0]\n",
    "# print(fi1)\n",
    "# print(fi2)\n",
    "\n",
    "# print(motifxFamMatrix[i1])\n",
    "# print(motifxFamMatrix[i2])\n",
    "\n",
    "# print(fams[fi1])\n",
    "# print(fams[fi2])"
   ]
  },
  {
   "cell_type": "markdown",
   "metadata": {},
   "source": [
    "## Find Hamming-near motifs between test and train sets."
   ]
  },
  {
   "cell_type": "code",
   "execution_count": 18,
   "metadata": {},
   "outputs": [],
   "source": [
    "### https://biology.stackexchange.com/questions/23523/hamming-distance-between-two-dna-strings\n",
    "def inv_hamming_distance_COPYPASTA(s1, s2):\n",
    "    #Return the Hamming distance between equal-length sequences\n",
    "    if len(s1) != len(s2):\n",
    "        raise ValueError(\"Undefined for sequences of unequal length\")\n",
    "    return sum(ch1 == ch2 for ch1, ch2 in zip(s1, s2)) / len(s1)"
   ]
  },
  {
   "cell_type": "code",
   "execution_count": 19,
   "metadata": {},
   "outputs": [],
   "source": [
    "def inv_hamming_distance(s1, s2):\n",
    "    #Return the Hamming distance between equal-length sequences\n",
    "    if len(s1) != len(s2):\n",
    "        raise ValueError(\"Undefined for sequences of unequal length\")\n",
    "    zipped = zip(s1,s2)\n",
    "    ### don't want to count \"empty\" characters ...\n",
    "    max_buff_length = max( sum([1 for c in s1 if c=='_']), sum([1 for c in s2 if c=='_'])  )\n",
    "    return (sum((ch1 == ch2 and ch1 != '_' and ch2 != '_') for ch1, ch2 in zip(s1, s2)) / \n",
    "            (len(s2)-max_buff_length) )"
   ]
  },
  {
   "cell_type": "code",
   "execution_count": 20,
   "metadata": {},
   "outputs": [
    {
     "name": "stdout",
     "output_type": "stream",
     "text": [
      "0.4444444444444444\n",
      "0.6666666666666666\n",
      "0.4444444444444444\n",
      "0.4444444444444444\n"
     ]
    }
   ],
   "source": [
    "t1 = 'GEDEESESD______'\n",
    "t2 = 'AEEKEAKSD______'\n",
    "\n",
    "print(inv_hamming_distance(t1,t2))\n",
    "print(inv_hamming_distance_COPYPASTA(t1,t2))\n",
    "\n",
    "print(inv_hamming_distance_COPYPASTA('GEDEESESD','AEEKEAKSD'))\n",
    "print(inv_hamming_distance('GEDEESESD','AEEKEAKSD'))"
   ]
  },
  {
   "cell_type": "code",
   "execution_count": 21,
   "metadata": {
    "scrolled": true
   },
   "outputs": [
    {
     "name": "stdout",
     "output_type": "stream",
     "text": [
      "0.434 mins\n"
     ]
    },
    {
     "data": {
      "text/html": [
       "\n",
       "                <audio  controls=\"controls\" autoplay=\"autoplay\">\n",
       "                    <source src=\"https://www.wavsource.com/snds_2020-10-01_3728627494378403/animals/cat_meow2.wav\" type=\"audio/x-wav\" />\n",
       "                    Your browser does not support the audio element.\n",
       "                </audio>\n",
       "              "
      ],
      "text/plain": [
       "<IPython.lib.display.Audio object>"
      ]
     },
     "metadata": {},
     "output_type": "display_data"
    }
   ],
   "source": [
    "import time\n",
    "import itertools\n",
    "\n",
    "start = time.time()\n",
    "similar_motifs = []\n",
    "for i,combo in enumerate(itertools.product(train_motifs, test_motifs)):\n",
    "    score = inv_hamming_distance(combo[0],combo[1])\n",
    "    if score >= 0.6:\n",
    "#         print(score, combo)\n",
    "        similar_motifs.append( [combo[0], combo[1], score] )\n",
    "print(\"%5.3f mins\" % ((time.time()-start)/60))\n",
    "allDone()\n"
   ]
  },
  {
   "cell_type": "code",
   "execution_count": 22,
   "metadata": {},
   "outputs": [
    {
     "name": "stdout",
     "output_type": "stream",
     "text": [
      "229\n",
      "184\n"
     ]
    }
   ],
   "source": [
    "sim_train = list(set([x[0] for x in similar_motifs]))\n",
    "sim_test = list(set([x[1] for x in similar_motifs]))\n",
    "\n",
    "print(len(sim_train))\n",
    "print(len(sim_test))"
   ]
  },
  {
   "cell_type": "raw",
   "metadata": {},
   "source": [
    "* * * RESULTS * * *\n",
    "\n",
    "at 0.6 thresh:\n",
    "sim_train: 276\n",
    "sim_test: 221"
   ]
  },
  {
   "cell_type": "markdown",
   "metadata": {},
   "source": [
    "## Define and save training set indices to remove ... "
   ]
  },
  {
   "cell_type": "code",
   "execution_count": 24,
   "metadata": {},
   "outputs": [
    {
     "name": "stdout",
     "output_type": "stream",
     "text": [
      "[4639 1837 4602   57 2806 5726 2123 5493 3513 5524 4068 2173 2990 1206\n",
      " 1154 5811 6284 4454 1235 1612  581 2310 5243 2620 5361 3668 2400 3060\n",
      " 1852 4975  623 3577 6306  230 3437 3454 1752 3249 4196 4685  332 4765\n",
      " 5294 5365 4467  127 4365  634 3976 4705 1546 1878  212 4270 3460 3114\n",
      "  180 4750 5252 5891 3409 5282 4280 1460 3835 4204 1595 1513 3737 4395\n",
      " 5257 2621  252 4078 3647 1874 1156 3083 3868 2743 1575 5608 3769 3574\n",
      " 1322 4669 4269 6574 3480 5338 5358 4607 5222 5276 1093 2261 6117 1317\n",
      " 5842  407 2349 3732 2527   75 3017  798  251  424 2282 5496 5592 4159\n",
      " 4697 6250 2339 3785 3404 3780  476 4683 1646 3700 6177 3046 6441  799\n",
      "  875 4356  281 5371 5662 6657  107 4465 2103 1511 1538 5140 5758 1228\n",
      " 3255 4340  266 6105 3833 5661 5969   97  755 4784 1205 3507 4699 1472\n",
      " 1905 3476 2934 3376 3247 6494 4491 1108 2111 2951  727 3080 1506 4859\n",
      " 6239 1428 4399 5525 6659 2723  313 4024 5570 5964  475 4305 3326 4319\n",
      " 3617 6437 4524 5653 1883  935  988 2502 5203 1426 3992 5413  737 2554\n",
      " 4963 4935 4860 4065 1346 5459 3382 1462 2802 1330 2387 5321 5939 6598\n",
      " 4336 2131 2728 6206 6666 3315 1597 1441 1832 4564 3288  317 2404 3643\n",
      " 4980 1318 6429 1898  261]\n",
      "6449\n"
     ]
    }
   ],
   "source": [
    "idc_to_remove = []\n",
    "for motif in sim_train:\n",
    "    idx = np.where(train_motifs==motif)[0][0]\n",
    "    idc_to_remove.append(idx)\n",
    "idc_to_remove = np.array((idc_to_remove))\n",
    "print(idc_to_remove)\n",
    "\n",
    "idc_to_keep = [x for x in range(len(train_motifs)) if x not in idc_to_remove]\n",
    "X_train = idc_to_keep\n",
    "\n",
    "print(len(X_train))\n",
    "\n",
    "train_motifs = train_motifs[X_train]\n",
    "train_motifxFamMatrix = train_motifxFamMatrix[X_train]\n",
    "\n",
    "data_dir = \"data_old/\"\n",
    "\n",
    "df = pd.DataFrame(train_motifs,dtype='U')\n",
    "df.to_csv(data_dir + 'train_motifs.csv',header=None,index=None)\n",
    "df = pd.DataFrame(test_motifs,dtype='U')\n",
    "df.to_csv(data_dir + 'test_motifs.csv',header=None,index=None)\n",
    "\n",
    "df = pd.DataFrame(train_motifxFamMatrix,dtype=int)\n",
    "df.to_csv(data_dir + 'train_motifxFamMatrix.csv',header=None,index=None)\n",
    "df = pd.DataFrame(test_motifxFamMatrix,dtype=int)\n",
    "df.to_csv(data_dir + 'test_motifxFamMatrix.csv',header=None,index=None)"
   ]
  },
  {
   "cell_type": "code",
   "execution_count": 28,
   "metadata": {},
   "outputs": [
    {
     "name": "stdout",
     "output_type": "stream",
     "text": [
      "857\n",
      "6449\n",
      "7306\n"
     ]
    }
   ],
   "source": [
    "print(len(test_motifs))\n",
    "print(len(train_motifs))\n",
    "\n",
    "print(len(train_motifs)+len(test_motifs))"
   ]
  },
  {
   "cell_type": "code",
   "execution_count": null,
   "metadata": {},
   "outputs": [],
   "source": [
    "# idc_to_remove = []\n",
    "# for motif in sim_train:\n",
    "#     idx = np.where(motifs==motif)[0][0]\n",
    "#     idc_to_remove.append(idx)\n",
    "# idc_to_remove = np.array((idc_to_remove))\n",
    "# print(idc_to_remove)\n",
    "\n",
    "# idc_to_keep = [x for x in X_train if x not in idc_to_remove]\n",
    "# X_train = idc_to_keep\n",
    "\n",
    "# print(len(X_train))\n",
    "\n",
    "# train_motifs = motifs[X_train]\n",
    "# test_motifs = motifs[X_test]\n",
    "\n",
    "# train_motifxFamMatrix = motifxFamMatrix[X_train]\n",
    "# test_motifxFamMatrix = motifxFamMatrix[X_test]\n",
    "\n",
    "# data_dir = \"data_old/\"\n",
    "\n",
    "# df = pd.DataFrame(train_motifs,dtype='U')\n",
    "# df.to_csv(data_dir + 'train_motifs.csv',header=None,index=None)\n",
    "# df = pd.DataFrame(test_motifs,dtype='U')\n",
    "# df.to_csv(data_dir + 'test_motifs.csv',header=None,index=None)\n",
    "\n",
    "# df = pd.DataFrame(train_motifxFamMatrix,dtype=int)\n",
    "# df.to_csv(data_dir + 'train_motifxFamMatrix.csv',header=None,index=None)\n",
    "# df = pd.DataFrame(test_motifxFamMatrix,dtype=int)\n",
    "# df.to_csv(data_dir + 'test_motifxFamMatrix.csv',header=None,index=None)"
   ]
  },
  {
   "cell_type": "markdown",
   "metadata": {},
   "source": [
    "## Getting rid of motifs that I can't find on uniprot (notebook 06). (Need to be able to find all motifs so that I can elongate them for musite and deepPhos comparison.)"
   ]
  },
  {
   "cell_type": "code",
   "execution_count": 29,
   "metadata": {},
   "outputs": [],
   "source": [
    "train_motifs = np.genfromtxt('data_dev/old_test_and_train/train_motifs.csv',dtype='U')\n",
    "train_motifxFamMatrix = np.genfromtxt('data_dev/old_test_and_train/train_motifxFamMatrix.csv',delimiter=',',dtype=int)\n",
    "test_motifs = np.genfromtxt('data_dev/old_test_and_train/test_motifs.csv',dtype='U')\n",
    "test_motifxFamMatrix = np.genfromtxt('data_dev/old_test_and_train/test_motifxFamMatrix.csv',delimiter=',',dtype=int)\n",
    "\n",
    "fams = np.genfromtxt('data_dev/fams.csv',dtype='U')\n",
    "\n",
    "all_motifs = np.hstack([train_motifs,test_motifs])\n",
    "all_motifxFamMatrix = np.vstack([train_motifxFamMatrix,test_motifxFamMatrix])"
   ]
  },
  {
   "cell_type": "code",
   "execution_count": 31,
   "metadata": {},
   "outputs": [],
   "source": [
    "# bad_motifs = ['AIVHLINYQDDAELV', '_PKRKVSSAEGAAKE', 'RCCDEVMSKDPTHWA', 'GQLIGLNSPNSISRA', \n",
    "#                'HSTPASAYGSVKAYT', 'QAAYYGQTPVPGPQP', 'QSVTRATSICGSGVK', 'ESRPRAVSFRQSEPS', \n",
    "#                '__MDEDYYGSAAEWG', 'ARLKSPLSTLDWTVI' ]\n",
    "\n",
    "bad_motifs = ['_PKRKVSSAEGAAKE','ISQVRRRSSLLGSQL','ESRPRAVSFRQSEPS','LGPGPRLSLARMPPP']"
   ]
  },
  {
   "cell_type": "code",
   "execution_count": 32,
   "metadata": {},
   "outputs": [],
   "source": [
    "bad_idc = [ np.where(test_motifs==m)[0][0] for m in bad_motifs ]"
   ]
  },
  {
   "cell_type": "code",
   "execution_count": 33,
   "metadata": {},
   "outputs": [
    {
     "name": "stdout",
     "output_type": "stream",
     "text": [
      "857\n",
      "853\n"
     ]
    }
   ],
   "source": [
    "good_idc = [x for x in range(len(test_motifs)) if x not in bad_idc]\n",
    "new_test_motifs = test_motifs[good_idc]\n",
    "new_test_motifxFamMatrix = test_motifxFamMatrix[good_idc]\n",
    "\n",
    "print(len(test_motifs))\n",
    "print(len(new_test_motifs))\n",
    "\n",
    "data_dir = \"data_dev/old_test_and_train/\"\n",
    "\n",
    "df = pd.DataFrame(new_test_motifs,dtype='U')\n",
    "df.to_csv(data_dir + 'new_test_motifs.csv',header=None,index=None)\n",
    "df = pd.DataFrame(new_test_motifxFamMatrix,dtype='U')\n",
    "df.to_csv(data_dir + 'new_test_motifxFamMatrix.csv',header=None,index=None)"
   ]
  },
  {
   "cell_type": "markdown",
   "metadata": {},
   "source": [
    "## Meta-data"
   ]
  },
  {
   "cell_type": "code",
   "execution_count": 35,
   "metadata": {},
   "outputs": [
    {
     "name": "stdout",
     "output_type": "stream",
     "text": [
      "train motifs: 6449\n",
      "test motifs: 853\n",
      "total motifs: 7302\n"
     ]
    }
   ],
   "source": [
    "print(\"train motifs:\",len(train_motifs))\n",
    "print(\"test motifs:\",len(new_test_motifs))\n",
    "print(\"total motifs:\",len(new_test_motifs)+len(train_motifs))"
   ]
  },
  {
   "cell_type": "code",
   "execution_count": 12,
   "metadata": {},
   "outputs": [],
   "source": [
    "fams = np.genfromtxt('data_dev/fams.csv',dtype='U')"
   ]
  },
  {
   "cell_type": "code",
   "execution_count": 13,
   "metadata": {},
   "outputs": [],
   "source": [
    "train_motifs = np.genfromtxt('data_dev/train_motifs.csv',dtype='U')\n",
    "train_motifxFamMatrix = np.genfromtxt('data_dev/train_motifxFamMatrix.csv',delimiter=',',dtype=int)\n",
    "test_motifs = np.genfromtxt('data_dev/new_test_motifs.csv',dtype='U')\n",
    "test_motifxFamMatrix = np.genfromtxt('data_dev/new_test_motifxFamMatrix.csv',delimiter=',',dtype=int)"
   ]
  },
  {
   "cell_type": "code",
   "execution_count": 14,
   "metadata": {},
   "outputs": [
    {
     "name": "stdout",
     "output_type": "stream",
     "text": [
      "Train motifs | test motifs ... per fam\n",
      "AKT 382 | 63\n",
      "CDK 752 | 116\n",
      "CK2 775 | 97\n",
      "MAPK 1275 | 187\n",
      "PIKK 497 | 63\n",
      "PKA 1235 | 231\n",
      "PKC 1497 | 251\n",
      "SRC 869 | 99\n"
     ]
    }
   ],
   "source": [
    "fams_alphOrder = ['AKT','CDK','CK2',\"MAPK\",\"PIKK\", \"PKA\",\"PKC\",\"SRC\"]\n",
    "\n",
    "print(\"Train motifs | test motifs ... per fam\")\n",
    "for fam in fams_alphOrder:\n",
    "    f_idx = np.where(fams==fam)[0][0]\n",
    "    print(fam,sum(train_motifxFamMatrix[:,f_idx]),\n",
    "         \"|\",sum(test_motifxFamMatrix[:,f_idx]))"
   ]
  },
  {
   "cell_type": "raw",
   "metadata": {},
   "source": [
    "Train motifs | test motifs ... per fam\n",
    "AKT 379 | 64\n",
    "CDK 996 | 183\n",
    "CK2 718 | 138\n",
    "MAPK 1248 | 218\n",
    "PIKK 479 | 83\n",
    "PKA 1248 | 232\n",
    "PKC 1463 | 277\n",
    "SRC 832 | 152\n",
    "\n",
    "LEGACY:\n",
    "Train motifs | test motifs ... per fam\n",
    "AKT 382 | 64\n",
    "CDK 752 | 116\n",
    "CK2 775 | 98\n",
    "MAPK 1275 | 187\n",
    "PIKK 497 | 63\n",
    "PKA 1235 | 233\n",
    "PKC 1497 | 252\n",
    "SRC 869 | 99"
   ]
  }
 ],
 "metadata": {
  "kernelspec": {
   "display_name": "Python 3",
   "language": "python",
   "name": "python3"
  },
  "language_info": {
   "codemirror_mode": {
    "name": "ipython",
    "version": 3
   },
   "file_extension": ".py",
   "mimetype": "text/x-python",
   "name": "python",
   "nbconvert_exporter": "python",
   "pygments_lexer": "ipython3",
   "version": "3.8.3"
  }
 },
 "nbformat": 4,
 "nbformat_minor": 4
}
