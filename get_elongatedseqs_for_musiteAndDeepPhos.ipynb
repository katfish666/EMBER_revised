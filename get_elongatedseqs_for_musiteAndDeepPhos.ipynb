{
 "cells": [
  {
   "cell_type": "code",
   "execution_count": 1,
   "metadata": {},
   "outputs": [
    {
     "data": {
      "text/html": [
       "\n",
       "                <audio  controls=\"controls\" autoplay=\"autoplay\">\n",
       "                    <source src=\"http://www.wavsource.com/snds_2020-03-30_7102365145747638/animals/cat_meow2.wav\" type=\"audio/x-wav\" />\n",
       "                    Your browser does not support the audio element.\n",
       "                </audio>\n",
       "              "
      ],
      "text/plain": [
       "<IPython.lib.display.Audio object>"
      ]
     },
     "metadata": {},
     "output_type": "display_data"
    }
   ],
   "source": [
    "from numpy import genfromtxt\n",
    "import csv\n",
    "import numpy\n",
    "import random\n",
    "import pandas\n",
    "import re\n",
    "import time\n",
    "import numpy as np\n",
    "\n",
    "from IPython.display import Audio, display\n",
    "def allDone():\n",
    "    urL = 'http://www.wavsource.com/snds_2020-03-30_7102365145747638/animals/cat_meow2.wav'\n",
    "    display(Audio(url=urL, autoplay=True))\n",
    "allDone()\n",
    "\n",
    "random.seed(666)"
   ]
  },
  {
   "cell_type": "markdown",
   "metadata": {},
   "source": [
    "## Elongate sequences for comparison testing with DeepPhos and MusiteDeep"
   ]
  },
  {
   "cell_type": "code",
   "execution_count": 22,
   "metadata": {},
   "outputs": [
    {
     "name": "stdout",
     "output_type": "stream",
     "text": [
      "1179\n"
     ]
    }
   ],
   "source": [
    "test_motifs = np.genfromtxt('data__for_nerds/new_test_motifs.csv',dtype='U')\n",
    "test_motifxFamMatrix = np.genfromtxt('data__for_nerds/new_test_motifxFamMatrix.csv',delimiter=',',dtype=int)\n",
    "fams = np.genfromtxt('data__for_nerds/fams.csv',dtype='U')\n",
    "\n",
    "print(len(test_motifs))"
   ]
  },
  {
   "cell_type": "code",
   "execution_count": 23,
   "metadata": {},
   "outputs": [],
   "source": [
    "# f = open(\"prots_i_need.txt\",\"r\")\n",
    "# prots_i_need = f.read().split()"
   ]
  },
  {
   "cell_type": "code",
   "execution_count": 24,
   "metadata": {},
   "outputs": [
    {
     "name": "stdout",
     "output_type": "stream",
     "text": [
      "188558\n"
     ]
    }
   ],
   "source": [
    "from Bio import SeqIO\n",
    "\n",
    "f = 'data_raw__for_nerds/uniprot_human.fasta'\n",
    "fasta_content = SeqIO.parse(open(f),'fasta')\n",
    "\n",
    "uniprot_seqs = []\n",
    "prots = []\n",
    "\n",
    "for fasta in fasta_content:\n",
    "    name, sequence = fasta.id, str(fasta.seq)\n",
    "    prot = name[name.find('|')+1:]\n",
    "    prot = prot[:prot.find('|')]\n",
    "    prots.append(prot)\n",
    "    if prot == 'P02316':\n",
    "        print(prot,sequence)\n",
    "        break\n",
    "    uniprot_seqs.append(sequence)\n",
    "print(len(uniprot_seqs))"
   ]
  },
  {
   "cell_type": "code",
   "execution_count": 25,
   "metadata": {},
   "outputs": [
    {
     "name": "stdout",
     "output_type": "stream",
     "text": [
      "454450\n"
     ]
    }
   ],
   "source": [
    "f = 'data_raw__for_nerds/uniprot_non-human.fasta'\n",
    "fasta_content = SeqIO.parse(open(f),'fasta')\n",
    "\n",
    "for fasta in fasta_content:\n",
    "    name, sequence = fasta.id, str(fasta.seq)\n",
    "    prot = name[name.find('|')+1:]\n",
    "    prot = prot[:prot.find('|')]\n",
    "    prots.append(prot)\n",
    "    uniprot_seqs.append(sequence)\n",
    "print(len(set(uniprot_seqs)))"
   ]
  },
  {
   "cell_type": "code",
   "execution_count": 26,
   "metadata": {},
   "outputs": [
    {
     "name": "stdout",
     "output_type": "stream",
     "text": [
      "454453\n"
     ]
    }
   ],
   "source": [
    "f = 'data_raw__for_nerds/uniprot_non-human_3.fasta'\n",
    "fasta_content = SeqIO.parse(open(f),'fasta')\n",
    "\n",
    "for fasta in fasta_content:\n",
    "    name, sequence = fasta.id, str(fasta.seq)\n",
    "    prot = name[name.find('|')+1:]\n",
    "    prot = prot[:prot.find('|')]\n",
    "    prots.append(prot)\n",
    "    uniprot_seqs.append(sequence)\n",
    "print(len(set(uniprot_seqs)))"
   ]
  },
  {
   "cell_type": "code",
   "execution_count": 27,
   "metadata": {},
   "outputs": [],
   "source": [
    "uniprot_seqs = list(set(uniprot_seqs))"
   ]
  },
  {
   "cell_type": "code",
   "execution_count": 29,
   "metadata": {
    "scrolled": true
   },
   "outputs": [
    {
     "name": "stdout",
     "output_type": "stream",
     "text": [
      "0\n",
      "100\n",
      "200\n",
      "300\n",
      "400\n",
      "500\n",
      "600\n",
      "700\n",
      "800\n",
      "900\n",
      "1000\n",
      "1100\n",
      "5.473 mins\n"
     ]
    }
   ],
   "source": [
    "start = time.time()\n",
    "\n",
    "motif_to_longSeq = {mot:[] for mot in test_motifs}\n",
    "\n",
    "found = []\n",
    "for i,motif in enumerate(test_motifs):\n",
    "    \n",
    "    if i%100==0:\n",
    "        print(i)\n",
    "    \n",
    "    success = 0\n",
    "    motif_trim = ''\n",
    "    front = False\n",
    "    back = False\n",
    "    \n",
    "    if motif[0]=='_':\n",
    "        motif_trim = motif[motif.rfind('_')+1:] # reverse find\n",
    "        front = True\n",
    "    elif motif[-1]=='_':\n",
    "        motif_trim = motif[:motif.find('_')]\n",
    "        back = True\n",
    "        \n",
    "    for seq in uniprot_seqs:\n",
    "        if front:\n",
    "            if seq[:len(motif_trim)]==motif_trim:\n",
    "                found.append(motif)\n",
    "                motif_to_longSeq[motif].append(seq)\n",
    "                success = 1\n",
    "        elif back:\n",
    "            if seq[-len(motif_trim):]==motif_trim:\n",
    "                found.append(motif)\n",
    "                motif_to_longSeq[motif].append(seq)\n",
    "                success = 1\n",
    "        elif motif in seq:\n",
    "            found.append(motif)\n",
    "            motif_to_longSeq[motif].append(seq)\n",
    "            success = 1\n",
    "            \n",
    "    if not success:\n",
    "        print(i,motif,motif_trim)\n",
    "            \n",
    "print(\"%5.3f mins\" % ((time.time()-start)/60))"
   ]
  },
  {
   "cell_type": "code",
   "execution_count": 32,
   "metadata": {},
   "outputs": [
    {
     "name": "stdout",
     "output_type": "stream",
     "text": [
      "15207\n",
      "1179\n"
     ]
    }
   ],
   "source": [
    "print(len(found))\n",
    "print(len(set(found)))"
   ]
  },
  {
   "cell_type": "code",
   "execution_count": 36,
   "metadata": {},
   "outputs": [],
   "source": [
    "motif_to_randSeq = {motif:0 for motif in motif_to_longSeq.keys()}\n",
    "for k,v in motif_to_longSeq.items():\n",
    "    motif_to_randSeq[k] = random.choice(v)"
   ]
  },
  {
   "cell_type": "code",
   "execution_count": 210,
   "metadata": {},
   "outputs": [],
   "source": [
    "def retrieve_longmer(motif,sequence,flank):\n",
    "\n",
    "    front = False\n",
    "    back = False\n",
    "    \n",
    "    if motif[0]=='_':\n",
    "        motif_trim = motif[motif.rfind('_')+1:] # reverse find\n",
    "        buff_length = motif.count('_')\n",
    "        front = True\n",
    "    elif motif[-1]=='_':\n",
    "        motif_trim = motif[:motif.find('_')]\n",
    "        back = True\n",
    "        buff_length = motif.count('_')\n",
    "    if front:\n",
    "        phosphosite_idx = 7 - buff_length\n",
    "    elif back:\n",
    "        phosphosite_idx = len(sequence) - (7-buff_length) - 1\n",
    "    else:\n",
    "        motifStart_idx = sequence.find(motif)\n",
    "        phosphosite_idx = motifStart_idx + 7\n",
    "    \n",
    "    n_buff = False\n",
    "    c_buff = False\n",
    "    \n",
    "    n_idx = phosphosite_idx - flank\n",
    "    if n_idx <= 0:\n",
    "        n_buff = flank - phosphosite_idx\n",
    "        n_idx = 0\n",
    "    c_idx = phosphosite_idx + flank + 1    \n",
    "    if c_idx > len(sequence)-1:\n",
    "        c_buff = phosphosite_idx + flank - len(sequence) + 2\n",
    "        c_idx = len(sequence)-1 \n",
    "        \n",
    "    motif = sequence[n_idx:c_idx]\n",
    "    \n",
    "    #### buffs are either * or - depending on musite vs deepphos\n",
    "    if n_buff:\n",
    "        motif = '*'*n_buff + motif \n",
    "    if c_buff:\n",
    "        motif = motif + '*'*c_buff\n",
    "        \n",
    "    return motif\n",
    "        "
   ]
  },
  {
   "cell_type": "code",
   "execution_count": 211,
   "metadata": {},
   "outputs": [],
   "source": [
    "stuff = []\n",
    "for k,v in motif_to_randSeq.items():\n",
    "    stuff.append([k,retrieve_longmer(k,v,25)])\n",
    "for each in stuff:\n",
    "    print(each[0],len(each[1]),each[1])"
   ]
  },
  {
   "cell_type": "code",
   "execution_count": 208,
   "metadata": {},
   "outputs": [],
   "source": [
    "#### FOR MUSITE DEEP MODEL ####\n",
    "\n",
    "# ofile = open(\"test_musite.fasta\", \"w\")\n",
    "# for i,seq in enumerate(stuff):\n",
    "#     ofile.write(\">\" + str(i) + \"\\n\" + seq[1] + \"\\n\")\n",
    "\n",
    "# ofile.close()"
   ]
  },
  {
   "cell_type": "code",
   "execution_count": 219,
   "metadata": {},
   "outputs": [],
   "source": [
    "#### FOR DEEP PHOS MODEL ####\n",
    "\n",
    "# import pandas as pd\n",
    "\n",
    "# data = []\n",
    "# for i,each in enumerate(stuff):\n",
    "#     motif = each[1]\n",
    "#     motif = motif.replace('X',\"*\") \n",
    "#     line = [i,26,motif]\n",
    "#     data.append(line)\n",
    "\n",
    "# df = pd.DataFrame(data)\n",
    "# df.to_csv('test_deepphos.csv',header=None,index=None)"
   ]
  },
  {
   "cell_type": "code",
   "execution_count": null,
   "metadata": {},
   "outputs": [],
   "source": []
  }
 ],
 "metadata": {
  "kernelspec": {
   "display_name": "Python 3",
   "language": "python",
   "name": "python3"
  },
  "language_info": {
   "codemirror_mode": {
    "name": "ipython",
    "version": 3
   },
   "file_extension": ".py",
   "mimetype": "text/x-python",
   "name": "python",
   "nbconvert_exporter": "python",
   "pygments_lexer": "ipython3",
   "version": "3.8.3"
  }
 },
 "nbformat": 4,
 "nbformat_minor": 2
}
