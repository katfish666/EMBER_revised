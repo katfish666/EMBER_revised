{
 "cells": [
  {
   "cell_type": "code",
   "execution_count": 12,
   "metadata": {},
   "outputs": [],
   "source": [
    "from Bio.Blast import NCBIWWW\n",
    "\n",
    "from Bio.Blast.Applications import NcbiblastpCommandline\n",
    "from io import StringIO \n",
    "from Bio.Blast import NCBIXML\n",
    "from Bio.Blast import NCBIWWW\n",
    "\n",
    "from Bio.Seq import Seq\n",
    "from Bio.SeqRecord import SeqRecord\n",
    "from Bio import SeqIO\n",
    "\n",
    "import numpy\n",
    "import time"
   ]
  },
  {
   "cell_type": "code",
   "execution_count": 13,
   "metadata": {},
   "outputs": [],
   "source": [
    "s = SeqIO.parse('kinase_domains.txt', 'fasta') # single sequence fasta file\n",
    "# for i,thing in enumerate(s):\n",
    "#     print(thing,\"\\n\")"
   ]
  },
  {
   "cell_type": "code",
   "execution_count": 14,
   "metadata": {},
   "outputs": [],
   "source": [
    "# n = 0\n",
    "# with open('kinase_domains.txt', 'r') as f:\n",
    "#     for line in f:\n",
    "#         n += 1\n",
    "#         print(line.strip(),\"\\n\")"
   ]
  },
  {
   "cell_type": "code",
   "execution_count": 15,
   "metadata": {},
   "outputs": [],
   "source": [
    "lines = []\n",
    "with open('kinase_domains.txt', 'r') as f:\n",
    "    for line in f:\n",
    "        line = line.strip()\n",
    "        if line:\n",
    "            lines.append(line)\n",
    "\n",
    "fam_to_seqs = {}\n",
    "seqs = []\n",
    "fams = []\n",
    "\n",
    "isKinase = False\n",
    "kinase = False\n",
    "for line in lines:\n",
    "    \n",
    "    if line[0]=='>':\n",
    "        if kinase:\n",
    "            seqs.append(seq)\n",
    "            fams.append(kinase)\n",
    "            if kinase in fam_to_seqs.keys():\n",
    "                fam_to_seqs[kinase].append(seq)\n",
    "            else:\n",
    "                fam_to_seqs[kinase] = [seq]\n",
    "        isKinase = True\n",
    "        kinase = line[line.find(':')+1:]\n",
    "        kinase = kinase[:kinase.find(':')]\n",
    "        seq = ''\n",
    "    else:\n",
    "        isKinase = False\n",
    "        seq = seq + line"
   ]
  },
  {
   "cell_type": "code",
   "execution_count": 16,
   "metadata": {},
   "outputs": [],
   "source": [
    "seqs = numpy.array((list(set((seqs)))))\n",
    "fams = numpy.array((list(set(fams))))"
   ]
  },
  {
   "cell_type": "code",
   "execution_count": 17,
   "metadata": {},
   "outputs": [
    {
     "data": {
      "text/plain": [
       "530"
      ]
     },
     "execution_count": 17,
     "metadata": {},
     "output_type": "execute_result"
    }
   ],
   "source": [
    "len(seqs)"
   ]
  },
  {
   "cell_type": "code",
   "execution_count": 22,
   "metadata": {},
   "outputs": [
    {
     "name": "stdout",
     "output_type": "stream",
     "text": [
      "iter 0 | 0.002 secs\n",
      "iter 2 | 34.170 secs\n",
      "iter 4 | 31.502 secs\n",
      "iter 6 | 31.048 secs\n",
      "iter 8 | 31.094 secs\n",
      "iter 10 | 30.941 secs\n",
      "iter 12 | 30.346 secs\n",
      "iter 14 | 29.984 secs\n",
      "iter 16 | 31.326 secs\n",
      "iter 18 | 30.603 secs\n",
      "iter 20 | 31.275 secs\n",
      "iter 22 | 31.346 secs\n",
      "iter 24 | 31.612 secs\n",
      "iter 26 | 30.930 secs\n",
      "iter 28 | 31.351 secs\n",
      "iter 30 | 31.210 secs\n",
      "iter 32 | 31.422 secs\n",
      "iter 34 | 30.934 secs\n",
      "iter 36 | 31.103 secs\n",
      "iter 38 | 30.956 secs\n",
      "iter 40 | 31.124 secs\n",
      "iter 42 | 30.795 secs\n",
      "iter 44 | 31.068 secs\n",
      "iter 46 | 31.454 secs\n",
      "iter 48 | 31.199 secs\n",
      "iter 50 | 31.021 secs\n",
      "iter 52 | 31.217 secs\n",
      "iter 54 | 30.985 secs\n",
      "iter 56 | 30.820 secs\n",
      "iter 58 | 31.330 secs\n",
      "iter 60 | 31.084 secs\n",
      "iter 62 | 31.065 secs\n",
      "iter 64 | 31.435 secs\n",
      "iter 66 | 30.997 secs\n",
      "iter 68 | 30.934 secs\n",
      "iter 70 | 30.149 secs\n",
      "iter 72 | 31.151 secs\n",
      "iter 74 | 31.237 secs\n",
      "iter 76 | 31.157 secs\n",
      "iter 78 | 31.371 secs\n",
      "iter 80 | 30.088 secs\n",
      "iter 82 | 31.584 secs\n",
      "iter 84 | 30.787 secs\n",
      "iter 86 | 30.761 secs\n",
      "iter 88 | 30.653 secs\n",
      "iter 90 | 31.386 secs\n",
      "iter 92 | 30.520 secs\n",
      "iter 94 | 30.671 secs\n",
      "iter 96 | 30.865 secs\n",
      "iter 98 | 31.348 secs\n",
      "iter 100 | 31.506 secs\n",
      "iter 102 | 30.716 secs\n",
      "iter 104 | 31.163 secs\n",
      "iter 106 | 31.242 secs\n",
      "iter 108 | 31.429 secs\n",
      "iter 110 | 31.010 secs\n",
      "iter 112 | 31.615 secs\n",
      "iter 114 | 30.827 secs\n",
      "iter 116 | 30.189 secs\n",
      "iter 118 | 32.186 secs\n",
      "iter 120 | 31.407 secs\n",
      "iter 122 | 31.717 secs\n",
      "iter 124 | 31.503 secs\n",
      "iter 126 | 30.125 secs\n",
      "iter 128 | 31.312 secs\n",
      "iter 130 | 30.339 secs\n",
      "iter 132 | 31.127 secs\n",
      "iter 134 | 30.462 secs\n",
      "iter 136 | 31.164 secs\n",
      "iter 138 | 31.100 secs\n",
      "iter 140 | 30.539 secs\n",
      "iter 142 | 31.251 secs\n",
      "iter 144 | 31.176 secs\n",
      "iter 146 | 30.837 secs\n",
      "iter 148 | 31.091 secs\n",
      "iter 150 | 31.203 secs\n",
      "iter 152 | 31.380 secs\n",
      "iter 154 | 30.750 secs\n",
      "iter 156 | 30.746 secs\n",
      "iter 158 | 30.976 secs\n",
      "iter 160 | 31.077 secs\n",
      "iter 162 | 31.353 secs\n",
      "iter 164 | 30.596 secs\n",
      "iter 166 | 29.246 secs\n",
      "iter 168 | 30.974 secs\n",
      "iter 170 | 31.496 secs\n",
      "iter 172 | 31.559 secs\n",
      "iter 174 | 30.927 secs\n",
      "iter 176 | 31.425 secs\n",
      "iter 178 | 30.822 secs\n",
      "iter 180 | 31.134 secs\n",
      "iter 182 | 31.371 secs\n",
      "iter 184 | 30.791 secs\n",
      "iter 186 | 30.976 secs\n",
      "iter 188 | 31.572 secs\n",
      "iter 190 | 30.516 secs\n",
      "iter 192 | 31.119 secs\n",
      "iter 194 | 31.255 secs\n",
      "iter 196 | 31.518 secs\n",
      "iter 198 | 31.514 secs\n",
      "iter 200 | 32.044 secs\n",
      "iter 202 | 31.371 secs\n",
      "iter 204 | 30.397 secs\n",
      "iter 206 | 31.347 secs\n",
      "iter 208 | 31.333 secs\n",
      "iter 210 | 31.789 secs\n",
      "iter 212 | 31.187 secs\n",
      "iter 214 | 31.148 secs\n",
      "iter 216 | 30.914 secs\n",
      "iter 218 | 31.434 secs\n",
      "iter 220 | 31.804 secs\n",
      "iter 222 | 29.874 secs\n",
      "iter 224 | 30.022 secs\n",
      "iter 226 | 31.796 secs\n",
      "iter 228 | 31.214 secs\n",
      "iter 230 | 31.112 secs\n",
      "iter 232 | 30.847 secs\n",
      "iter 234 | 31.135 secs\n",
      "iter 236 | 30.363 secs\n",
      "iter 238 | 30.537 secs\n",
      "iter 240 | 30.459 secs\n",
      "iter 242 | 30.424 secs\n",
      "iter 244 | 30.711 secs\n",
      "iter 246 | 31.235 secs\n",
      "iter 248 | 31.055 secs\n",
      "iter 250 | 31.262 secs\n",
      "iter 252 | 31.430 secs\n",
      "iter 254 | 31.517 secs\n",
      "iter 256 | 30.826 secs\n",
      "iter 258 | 30.513 secs\n",
      "iter 260 | 30.750 secs\n",
      "iter 262 | 31.128 secs\n",
      "iter 264 | 30.771 secs\n",
      "iter 266 | 30.756 secs\n",
      "iter 268 | 30.868 secs\n",
      "iter 270 | 31.457 secs\n",
      "iter 272 | 31.055 secs\n",
      "iter 274 | 31.183 secs\n",
      "iter 276 | 30.842 secs\n",
      "iter 278 | 30.879 secs\n",
      "iter 280 | 31.178 secs\n",
      "iter 282 | 31.118 secs\n",
      "iter 284 | 31.016 secs\n",
      "iter 286 | 31.232 secs\n",
      "iter 288 | 30.804 secs\n",
      "iter 290 | 30.372 secs\n",
      "iter 292 | 31.342 secs\n",
      "iter 294 | 31.501 secs\n",
      "iter 296 | 30.448 secs\n",
      "iter 298 | 31.196 secs\n",
      "iter 300 | 31.452 secs\n",
      "iter 302 | 30.683 secs\n",
      "iter 304 | 31.395 secs\n",
      "iter 306 | 31.459 secs\n",
      "iter 308 | 30.965 secs\n",
      "iter 310 | 31.733 secs\n",
      "iter 312 | 31.995 secs\n",
      "iter 314 | 31.045 secs\n",
      "iter 316 | 31.125 secs\n",
      "iter 318 | 30.645 secs\n",
      "iter 320 | 31.485 secs\n",
      "iter 322 | 30.598 secs\n",
      "iter 324 | 31.013 secs\n",
      "iter 326 | 31.170 secs\n",
      "iter 328 | 31.152 secs\n",
      "iter 330 | 31.491 secs\n",
      "iter 332 | 30.925 secs\n",
      "iter 334 | 31.355 secs\n",
      "iter 336 | 31.827 secs\n",
      "iter 338 | 30.970 secs\n",
      "iter 340 | 31.068 secs\n",
      "iter 342 | 31.262 secs\n",
      "iter 344 | 31.021 secs\n",
      "iter 346 | 31.170 secs\n",
      "iter 348 | 31.132 secs\n",
      "iter 350 | 31.045 secs\n",
      "iter 352 | 31.859 secs\n",
      "iter 354 | 31.129 secs\n",
      "iter 356 | 30.507 secs\n",
      "iter 358 | 32.022 secs\n",
      "iter 360 | 31.543 secs\n",
      "iter 362 | 30.958 secs\n",
      "iter 364 | 30.934 secs\n",
      "iter 366 | 31.169 secs\n",
      "iter 368 | 31.666 secs\n",
      "iter 370 | 31.231 secs\n",
      "iter 372 | 30.426 secs\n",
      "iter 374 | 31.334 secs\n",
      "iter 376 | 31.243 secs\n",
      "iter 378 | 30.161 secs\n",
      "iter 380 | 31.370 secs\n",
      "iter 382 | 31.300 secs\n",
      "iter 384 | 31.386 secs\n",
      "iter 386 | 31.406 secs\n",
      "iter 388 | 31.296 secs\n",
      "iter 390 | 30.772 secs\n",
      "iter 392 | 31.298 secs\n",
      "iter 394 | 30.927 secs\n",
      "iter 396 | 31.157 secs\n",
      "iter 398 | 30.736 secs\n",
      "iter 400 | 31.148 secs\n",
      "iter 402 | 31.233 secs\n",
      "iter 404 | 30.724 secs\n",
      "iter 406 | 31.381 secs\n",
      "iter 408 | 30.109 secs\n",
      "iter 410 | 31.231 secs\n",
      "iter 412 | 31.308 secs\n",
      "iter 414 | 32.087 secs\n",
      "iter 416 | 30.796 secs\n",
      "iter 418 | 31.495 secs\n",
      "iter 420 | 31.458 secs\n",
      "iter 422 | 31.321 secs\n",
      "iter 424 | 31.194 secs\n",
      "iter 426 | 30.021 secs\n",
      "iter 428 | 30.761 secs\n",
      "iter 430 | 31.002 secs\n",
      "iter 432 | 31.305 secs\n",
      "iter 434 | 31.155 secs\n",
      "iter 436 | 30.564 secs\n",
      "iter 438 | 30.564 secs\n",
      "iter 440 | 30.931 secs\n",
      "iter 442 | 31.771 secs\n",
      "iter 444 | 31.088 secs\n",
      "iter 446 | 31.361 secs\n",
      "iter 448 | 31.442 secs\n",
      "iter 450 | 31.304 secs\n",
      "iter 452 | 30.613 secs\n",
      "iter 454 | 31.016 secs\n",
      "iter 456 | 31.295 secs\n",
      "iter 458 | 30.821 secs\n",
      "iter 460 | 30.989 secs\n",
      "iter 462 | 30.756 secs\n",
      "iter 464 | 31.141 secs\n",
      "iter 466 | 31.708 secs\n",
      "iter 468 | 30.402 secs\n",
      "iter 470 | 30.566 secs\n",
      "iter 472 | 31.218 secs\n",
      "iter 474 | 30.923 secs\n",
      "iter 476 | 31.202 secs\n",
      "iter 478 | 30.596 secs\n",
      "iter 480 | 30.971 secs\n",
      "iter 482 | 30.376 secs\n",
      "iter 484 | 30.791 secs\n",
      "iter 486 | 30.733 secs\n",
      "iter 488 | 30.960 secs\n",
      "iter 490 | 30.846 secs\n",
      "iter 492 | 30.483 secs\n",
      "iter 494 | 30.819 secs\n",
      "iter 496 | 31.149 secs\n",
      "iter 498 | 30.748 secs\n",
      "iter 500 | 30.985 secs\n",
      "iter 502 | 31.138 secs\n",
      "iter 504 | 31.259 secs\n",
      "iter 506 | 31.245 secs\n",
      "iter 508 | 32.066 secs\n",
      "iter 510 | 31.355 secs\n",
      "iter 512 | 31.008 secs\n",
      "iter 514 | 30.157 secs\n",
      "iter 516 | 30.623 secs\n",
      "iter 518 | 31.732 secs\n",
      "iter 520 | 30.805 secs\n",
      "iter 522 | 30.970 secs\n",
      "iter 524 | 30.889 secs\n",
      "iter 526 | 30.609 secs\n",
      "iter 528 | 30.766 secs\n",
      "Total time: 8233.540 secs\n"
     ]
    }
   ],
   "source": [
    "start = time.time()\n",
    "s = start\n",
    "alignments = numpy.full((len(seqs),len(seqs)),-1.0)\n",
    "\n",
    "for i,seq_train in enumerate(seqs):\n",
    "    seq_train = ''.join([x for x in seq_train])\n",
    "    seq_train = seq_train.replace('-',' ')\n",
    "    \n",
    "    if i%2==0:\n",
    "        print ('iter %d | %5.3f secs' % (i, time.time()-start) )\n",
    "        start = time.time()\n",
    "    seq_train = SeqRecord(Seq(seq_train), id=\"seq_train\")\n",
    "    SeqIO.write(seq_train, \"seq_train.fasta\", \"fasta\")\n",
    "    \n",
    "    for j,seq_test in enumerate(seqs):\n",
    "        \n",
    "        if alignments[i][j] != -1 or i==j:\n",
    "            continue\n",
    "            \n",
    "        seq_test = ''.join([x for x in seq_test])\n",
    "        seq_test = seq_test.replace('-',' ')\n",
    "\n",
    "        blastp_cline = NcbiblastpCommandline(subject = 'seq_train.fasta', outfmt=5, \n",
    "                                             cmd='ncbi_blast/bin/blastp') #Blast command\n",
    "        out, err = blastp_cline(seq_test)\n",
    "        blast_result_record = NCBIXML.read(StringIO(out))\n",
    "        \n",
    "        maxIdentity = 0.0\n",
    "        \n",
    "        if not blast_result_record.alignments:\n",
    "            continue\n",
    "        for alignment in blast_result_record.alignments:\n",
    "            for hsp in alignment.hsps:\n",
    "                if (hsp.identities/ hsp.align_length) >= maxIdentity:\n",
    "                    maxIdentity = (hsp.identities/ hsp.align_length)\n",
    "        \n",
    "#         print(type(maxIdentity))\n",
    "        alignments[i][j] = maxIdentity\n",
    "#         break\n",
    "        \n",
    "        \n",
    "print ('Total time: %5.3f secs' % (time.time()-s) )"
   ]
  },
  {
   "cell_type": "code",
   "execution_count": 28,
   "metadata": {},
   "outputs": [
    {
     "data": {
      "text/plain": [
       "SeqRecord(seq=Seq('FEERPFAAASIGQVHLARMKGGREVAMKIQYPGVAQSINSDVNNLMAVLNMSNM...AMF'), id='seq_train', name='<unknown name>', description='<unknown description>', dbxrefs=[])"
      ]
     },
     "execution_count": 28,
     "metadata": {},
     "output_type": "execute_result"
    }
   ],
   "source": [
    "seq_train"
   ]
  },
  {
   "cell_type": "code",
   "execution_count": 25,
   "metadata": {},
   "outputs": [
    {
     "data": {
      "text/plain": [
       "array(['Aur', 'DMPK', 'SRPK', 'ALK', 'WEE', 'Slob', 'SgK493', 'STE20',\n",
       "       'MLK', 'PKG', 'Ret', 'Bud32', 'Musk', 'CAMK2', 'FGFR', 'STK33',\n",
       "       'RIO', 'Axl', 'RSK', 'PSK', 'RAD53', 'KIS', 'PIM', 'NKF5',\n",
       "       'TK-Unique', 'Akt', 'PDK1', 'MAPKAPK', 'TLK', 'DYRK', 'Tie', 'Ack',\n",
       "       'EGFR', 'SGK', 'CDK', 'LRRK', 'NRBP', 'InsR', 'DDR', 'Lmr', 'CASK',\n",
       "       'NKF3', 'CDKL', 'CAMKK', 'GSK', 'STE11', 'PLK', 'TTBK', 'NDK',\n",
       "       'TSSK', 'SCY1', 'GRK', 'Other-Unique', 'NDR', 'NAK', 'Ryk', 'LISK',\n",
       "       'FJ', 'Jak', 'PAN3', 'CAMK-Unique', 'NEK', 'DCAMKL', 'Haspin',\n",
       "       'STE-Unique', 'PKC', 'PKD', 'CK1', 'Ror', 'Trk', 'VPS15', 'STE7',\n",
       "       'PHK', 'CAMK1', 'MLCK', 'Tec', 'DAPK', 'PKN', 'STKR', 'Met',\n",
       "       'SgK495', 'TOPK', 'Csk', 'PDGFR', 'TTK', 'ULK', 'RGC', 'Eph',\n",
       "       'BUB', 'IKK', 'NKF1', 'IRE', 'MOS', 'SgK071', 'Alpha', 'CLK',\n",
       "       'RSKR', 'Abl', 'MAPK', 'PEK', 'RIPK', 'Src', 'RCK', 'VRK', 'Trbl',\n",
       "       'Fer', 'Trio', 'TBCK', 'RSKL', 'CAMKL', 'ABC1', 'NKF4', 'CCK4',\n",
       "       'MAST', 'RAF', 'PDHK', 'PIKK', 'NKF2', 'CK2', 'Syk', 'IRAK',\n",
       "       'VEGFR', 'PKA', 'YANK', 'Sev', 'FAK', 'Dusty', 'WNK', 'CDC7'],\n",
       "      dtype='<U12')"
      ]
     },
     "execution_count": 25,
     "metadata": {},
     "output_type": "execute_result"
    }
   ],
   "source": [
    "fams"
   ]
  },
  {
   "cell_type": "code",
   "execution_count": 24,
   "metadata": {},
   "outputs": [
    {
     "data": {
      "text/plain": [
       "array([[-1.        ,  0.5       ,  0.2278481 , ...,  0.5       ,\n",
       "         0.27350427,  0.4       ],\n",
       "       [ 0.5       , -1.        ,  0.25239617, ...,  0.33333333,\n",
       "         0.4       ,  0.5       ],\n",
       "       [ 0.2278481 ,  0.25239617, -1.        , ...,  0.20588235,\n",
       "         0.2195122 ,  0.31578947],\n",
       "       ...,\n",
       "       [ 0.5       ,  0.33333333,  0.20588235, ..., -1.        ,\n",
       "        -1.        ,  0.32432432],\n",
       "       [ 0.34586466,  0.4       ,  0.2195122 , ..., -1.        ,\n",
       "        -1.        ,  0.32      ],\n",
       "       [ 0.4       ,  0.5       ,  0.31578947, ...,  0.32432432,\n",
       "         0.30769231, -1.        ]])"
      ]
     },
     "execution_count": 24,
     "metadata": {},
     "output_type": "execute_result"
    }
   ],
   "source": [
    "alignments"
   ]
  },
  {
   "cell_type": "code",
   "execution_count": 23,
   "metadata": {},
   "outputs": [],
   "source": [
    "!which blastp"
   ]
  },
  {
   "cell_type": "code",
   "execution_count": 29,
   "metadata": {},
   "outputs": [],
   "source": [
    "import pandas\n",
    "df = pandas.DataFrame(alignments,dtype=float)\n",
    "# df.to_csv('data_dev/fam_alignments.csv',header=fams,index_label=fams)"
   ]
  },
  {
   "cell_type": "code",
   "execution_count": 42,
   "metadata": {},
   "outputs": [
    {
     "data": {
      "image/png": "[encoded data removed]",
      "text/plain": [
       "<Figure size 432x288 with 1 Axes>"
      ]
     },
     "metadata": {
      "needs_background": "light"
     },
     "output_type": "display_data"
    }
   ],
   "source": [
    "import numpy as np\n",
    "import matplotlib.pyplot as plt\n",
    "\n",
    "toPlot = alignments.flatten()\n",
    "plt.hist(toPlot,bins=100)\n",
    "plt.xlim(0,1)\n",
    "plt.show()"
   ]
  },
  {
   "cell_type": "code",
   "execution_count": null,
   "metadata": {},
   "outputs": [],
   "source": []
  },
  {
   "cell_type": "code",
   "execution_count": null,
   "metadata": {},
   "outputs": [],
   "source": []
  },
  {
   "cell_type": "code",
   "execution_count": 34,
   "metadata": {},
   "outputs": [],
   "source": [
    "from itertools import combinations \n",
    "from itertools import product \n",
    "\n",
    "famPair_to_kinaseDistances = {tuple((pair[0],pair[1])):[] for pair in combinations(fams,2)}\n",
    "\n",
    "for pair in combinations(fams,2):\n",
    "    \n",
    "    fam1 = pair[0]\n",
    "    fam2 = pair[1]\n",
    "    \n",
    "    seqList1 = fam_to_seqs[fam1]\n",
    "    seqList2 = fam_to_seqs[fam2]\n",
    "        \n",
    "    for pair2 in product(seqList1,seqList2):\n",
    "        \n",
    "        seq1 = pair2[0]\n",
    "        seq2 = pair2[1]\n",
    "        \n",
    "        seqIdx1 = numpy.where(seqs==seq1)[0][0]\n",
    "        seqIdx2 = numpy.where(seqs==seq2)[0][0]\n",
    "        \n",
    "        distance = alignments[seqIdx1][seqIdx2]\n",
    "        if distance < 0 and distance > -1:\n",
    "            print(distance)\n",
    "        \n",
    "        if distance == -1.0:\n",
    "            continue\n",
    "\n",
    "        famPair_to_kinaseDistances[tuple((fam1,fam2))].append(distance)\n",
    "        \n",
    "#         print(fam1,kinase1,fam2,kinase2,distance)"
   ]
  },
  {
   "cell_type": "code",
   "execution_count": 35,
   "metadata": {},
   "outputs": [
    {
     "name": "stderr",
     "output_type": "stream",
     "text": [
      "/home/k4thryn/anaconda3/lib/python3.8/site-packages/numpy/core/fromnumeric.py:3334: RuntimeWarning: Mean of empty slice.\n",
      "  return _methods._mean(a, axis=axis, dtype=dtype,\n",
      "/home/k4thryn/anaconda3/lib/python3.8/site-packages/numpy/core/_methods.py:161: RuntimeWarning: invalid value encountered in double_scalars\n",
      "  ret = ret.dtype.type(ret / rcount)\n"
     ]
    },
    {
     "name": "stdout",
     "output_type": "stream",
     "text": [
      "('CK2', 'PKA') [0.3076923076923077, 0.5714285714285714, 0.6, 0.31, 0.29457364341085274] ['YQLVRKLGRGKYSEVFEAINITNNEKVVVKILKPVKKKKIKREIKILENLRGGPNIITLADIVKDPVSRTPALVFEHVNNTDFKQLYQTLTDYDIRFYMYEILKALDYCHSMGIMHRDVKPHNVMIDHEHRKLRLIDWGLAEFYHPGQEYNVRVASRYFKGPELLVDYQMYDYSLDMWSLGCMLASMIFRKEPFFHGHDNYDQLVRIAKVLGTEDLYDYIDKYNIELDPRFNDILGRHSRKRWERFVHSENQHLVSPEALDFLDKLLRYDHQSRLTAREAMEHPYF', 'YQLVRKLGRGKYSEVFEAINITNNERVVVKILKPVKKKKIKREVKILENLRGGTNIIKLIDTVKDPVSKTPALVFEYINNTDFKQLYQILTDFDIRFYMYELLKALDYCHSKGIMHRDVKPHNVMIDHQQKKLRLIDWGLAEFYHPAQEYNVRVASRYFKGPELLVDYQMYDYSLDMWSLGCMLASMIFRREPFFHGQDNYDQLVRIAKVLGTEELYGYLKKYHIDLDPHFNDILGQHSRKRWENFIHSENRHLVSPEALDLLDKLLRYDHQQRLTAKEAMEHPYF'] ['FERIKTLGTGSFGRVMLVKHKETGNHYAMKILDKQKVVKLKQIEHTLNEKRILQAVNFPFLVKLEFSFKDNSNLYMVMEYVPGGEMFSHLRRIGRFSEPHARFYAAQIVLTFEYLHSLDLIYRDLKPENLLIDQQGYIQVTDFGFAKRVKGRTWTLCGTPEYLAPEIILSKGYNKAVDWWALGVLIYEMAAGYPPFFADQPIQIYEKIVSGKVRFPSHFSSDLKDLLRNLLQVDLTKRFGNLKNGVNDIKNHKWF', 'FERKKTLGTGSFGRVMLVKHKATEQYYAMKILDKQKVVKLKQIEHTLNEKRILQAVNFPFLVRLEYAFKDNSNLYMVMEYVPGGEMFSHLRRIGRFSEPHARFYAAQIVLTFEYLHSLDLIYRDLKPENLLIDHQGYIQVTDFGFAKRVKGRTWTLCGTPEYLAPEIILSKGYNKAVDWWALGVLIYEMAAGYPPFFADQPIQIYEKIVSGKVRFPSHFSSDLKDLLRNLLQVDLTKRFGNLKNGVSDIKTHKWF', 'FERLRTLGMGSFGRVMLVRHQETGGHYAMKILNKQKVVKMKQVEHILNEKRILQAIDFPFLVKLQFSFKDNSYLYLVMEYVPGGEMFSRLQRVGRFSEPHACFYAAQVVLAVQYLHSLDLIHRDLKPENLLIDQQGYLQVTDFGFAKRVKGRTWTLCGTPEYLAPEIILSKGYNKAVDWWALGVLIYEMAVGFPPFYADQPIQIYEKIVSGRVRFPSKLSSDLKHLLRSLLQVDLTKRFGNLRNGVGDIKNHKWF', 'FDTLATVGTGTFGRVHLVKEKTAKHFFALKVMSIPDVIRLKQEQHVHNEKSVLKEVSHPFLIRLFWTWHDERFLYMLMEYVPGGELFSYLRNRGRFSSTTGLFYSAEIICAIEYLHSKEIVYRDLKPENILLDRDGHIKLTDFGFAKKLVDRTWTLCGTPEYLAPEVIQSKGHGRAVDWWALGILIFEMLSGFPPFFDDNPFGIYQKILAGKIDFPRHLDFHVKDLIKKLLVVDRTRRLGNMKNGANDVKHHRWF', 'CDALVTMGTGTFGRVHLVKEKTAKHFFALKVMSIPDVIRRKQEQHVHNEKSVLKEVSHPFLIRLFWTWHEERFLYMLMEYVPGGELFSYLRNRGHFSSTTGLFYSAEIICAIEYLHSKEIVYRDLKPENILLDRDGHIKLTDFGFAKKLVDRTWTLCGTPEYLAPEVIQSKGHGRAVDWWALGILIFEMLSGFPPFFDDNPFGIYQKILAGKLYFPR']\n",
      "('CK2', 'PKA') 0.4407142857142857\n"
     ]
    }
   ],
   "source": [
    "famDistanceMatrix = numpy.full((len(fams),len(fams)),-1.0)\n",
    "\n",
    "for k,v in famPair_to_kinaseDistances.items():\n",
    "    toAvg = list(set(v))\n",
    "    if 'PKA' in k and 'CK2' in k:\n",
    "        print(k,toAvg,fam_to_seqs[k[0]],fam_to_seqs[k[1]])\n",
    "    toAvg = numpy.array((v))\n",
    "    toAvg = toAvg[toAvg < 1.0]\n",
    "\n",
    "#     if 1 in v and 'PKA' in k:\n",
    "#         print(k,v)\n",
    "    avgDistance = numpy.median(toAvg)\n",
    "    \n",
    "    if 'PKA' in k and 'CK2' in k:\n",
    "        print(k,avgDistance)\n",
    "\n",
    "    fIdx1 = numpy.where(fams==k[0])[0][0]\n",
    "    fIdx2 = numpy.where(fams==k[1])[0][0]\n",
    "    famDistanceMatrix[fIdx1][fIdx2] = avgDistance\n",
    "    \n",
    "for i,row in enumerate(famDistanceMatrix):\n",
    "    for j,val in enumerate(row):\n",
    "        famDistanceMatrix[j][i] = famDistanceMatrix[i][j]\n",
    "        \n",
    "for i,row in enumerate(famDistanceMatrix):\n",
    "    for j,val in enumerate(row):\n",
    "        if i==j:\n",
    "            famDistanceMatrix[i][j] = 1\n",
    "        elif val == -1:\n",
    "            famDistanceMatrix[i][j] = 0"
   ]
  },
  {
   "cell_type": "code",
   "execution_count": 36,
   "metadata": {},
   "outputs": [
    {
     "name": "stderr",
     "output_type": "stream",
     "text": [
      "/home/k4thryn/anaconda3/lib/python3.8/site-packages/numpy/lib/histograms.py:839: RuntimeWarning: invalid value encountered in greater_equal\n",
      "  keep = (tmp_a >= first_edge)\n",
      "/home/k4thryn/anaconda3/lib/python3.8/site-packages/numpy/lib/histograms.py:840: RuntimeWarning: invalid value encountered in less_equal\n",
      "  keep &= (tmp_a <= last_edge)\n"
     ]
    },
    {
     "data": {
      "image/png": "[encoded data removed]",
      "text/plain": [
       "<Figure size 432x288 with 1 Axes>"
      ]
     },
     "metadata": {
      "needs_background": "light"
     },
     "output_type": "display_data"
    }
   ],
   "source": [
    "toPlot = famDistanceMatrix[famDistanceMatrix!=0]\n",
    "\n",
    "plt.hist(toPlot,bins=100)\n",
    "plt.show()"
   ]
  },
  {
   "cell_type": "code",
   "execution_count": 37,
   "metadata": {},
   "outputs": [
    {
     "name": "stdout",
     "output_type": "stream",
     "text": [
      "MAPK Src 0.2899576704130784\n",
      "MAPK PKC 0.30795574288724975\n",
      "MAPK PKA 0.30668473351400183\n",
      "MAPK CDK 0.3473699763593381\n",
      "MAPK CK2 0.28783747227181733\n",
      "Src PKC 0.26666666666666666\n",
      "Src PKA 0.2684563758389262\n",
      "Src CDK 0.28870549481356883\n",
      "Src CK2 0.2395428377201368\n",
      "PKC PKA 0.4\n",
      "PKC CDK 0.28125\n",
      "PKC CK2 0.27879114948731787\n",
      "PKA CDK 0.29207920792079206\n",
      "PKA CK2 0.4407142857142857\n",
      "CDK CK2 0.2897811447811448\n"
     ]
    }
   ],
   "source": [
    "someKs = ['MAPK', 'Src','PKC','PKA','CDK','CK2']\n",
    "\n",
    "for pair in combinations(someKs,2):\n",
    "    i = numpy.where(fams==pair[0])[0][0]\n",
    "    j = numpy.where(fams==pair[1])[0][0]\n",
    "    p = famDistanceMatrix[i][j]\n",
    "    if p==-1:\n",
    "        p = famDistanceMatrix[j][i]\n",
    "    print(pair[0],pair[1],p)"
   ]
  },
  {
   "cell_type": "code",
   "execution_count": null,
   "metadata": {},
   "outputs": [],
   "source": [
    "MAPK Src 0.2899576704130784\n",
    "MAPK PKC 0.30852135374697826\n",
    "MAPK PKA 0.30668473351400183\n",
    "MAPK CDK 0.3473699763593381\n",
    "MAPK CK2 0.30478424850770647\n",
    "Src PKC 0.26666666666666666\n",
    "Src PKA 0.2684563758389262\n",
    "Src CDK 0.28870549481356883\n",
    "Src CK2 0.238510101010101\n",
    "PKC PKA 0.4\n",
    "PKC CDK 0.28125\n",
    "PKC CK2 0.32236227824463115\n",
    "PKA CDK 0.2914572864321608\n",
    "PKA CK2 0.4407142857142857\n",
    "CDK CK2 0.294635916040425"
   ]
  },
  {
   "cell_type": "code",
   "execution_count": null,
   "metadata": {},
   "outputs": [],
   "source": []
  },
  {
   "cell_type": "code",
   "execution_count": null,
   "metadata": {},
   "outputs": [],
   "source": []
  },
  {
   "cell_type": "code",
   "execution_count": null,
   "metadata": {},
   "outputs": [],
   "source": []
  },
  {
   "cell_type": "code",
   "execution_count": null,
   "metadata": {},
   "outputs": [],
   "source": []
  },
  {
   "cell_type": "code",
   "execution_count": 39,
   "metadata": {},
   "outputs": [
    {
     "name": "stderr",
     "output_type": "stream",
     "text": [
      "/home/k4thryn/anaconda3/lib/python3.8/site-packages/Bio/SubsMat/__init__.py:126: BiopythonDeprecationWarning: Bio.SubsMat has been deprecated, and we intend to remove it in a future release of Biopython. As an alternative, please consider using Bio.Align.substitution_matrices as a replacement, and contact the Biopython developers if you still need the Bio.SubsMat module.\n",
      "  warnings.warn(\n"
     ]
    }
   ],
   "source": [
    "import numpy\n",
    "from matplotlib.collections import LineCollection\n",
    "from sklearn import manifold\n",
    "from sklearn.metrics import euclidean_distances\n",
    "from sklearn.decomposition import PCA\n",
    "import Levenshtein\n",
    "from Levenshtein import hamming\n",
    "from itertools import combinations\n",
    "import matplotlib.pyplot as plt\n",
    "import math\n",
    "import random\n",
    "from Bio import pairwise2\n",
    "from Bio import Align\n",
    "from Bio.SubsMat import MatrixInfo\n",
    "import sklearn.cluster\n",
    "import itertools\n",
    "import time"
   ]
  },
  {
   "cell_type": "code",
   "execution_count": 41,
   "metadata": {},
   "outputs": [
    {
     "ename": "ValueError",
     "evalue": "expected a matrix",
     "output_type": "error",
     "traceback": [
      "\u001b[0;31m---------------------------------------------------------------------------\u001b[0m",
      "\u001b[0;31mValueError\u001b[0m                                Traceback (most recent call last)",
      "\u001b[0;32m<ipython-input-41-c1b199363adf>\u001b[0m in \u001b[0;36m<module>\u001b[0;34m\u001b[0m\n\u001b[1;32m      2\u001b[0m \u001b[0;34m\u001b[0m\u001b[0m\n\u001b[1;32m      3\u001b[0m \u001b[0maligner\u001b[0m \u001b[0;34m=\u001b[0m \u001b[0mAlign\u001b[0m\u001b[0;34m.\u001b[0m\u001b[0mPairwiseAligner\u001b[0m\u001b[0;34m(\u001b[0m\u001b[0;34m)\u001b[0m\u001b[0;34m\u001b[0m\u001b[0;34m\u001b[0m\u001b[0m\n\u001b[0;32m----> 4\u001b[0;31m \u001b[0maligner\u001b[0m\u001b[0;34m.\u001b[0m\u001b[0msubstitution_matrix\u001b[0m \u001b[0;34m=\u001b[0m \u001b[0mMatrixInfo\u001b[0m\u001b[0;34m.\u001b[0m\u001b[0mpam30\u001b[0m \u001b[0;31m#MatrixInfo.  pam30\u001b[0m\u001b[0;34m\u001b[0m\u001b[0;34m\u001b[0m\u001b[0m\n\u001b[0m\u001b[1;32m      5\u001b[0m \u001b[0maligner\u001b[0m\u001b[0;34m.\u001b[0m\u001b[0mmode\u001b[0m \u001b[0;34m=\u001b[0m \u001b[0;34m'local'\u001b[0m\u001b[0;34m\u001b[0m\u001b[0;34m\u001b[0m\u001b[0m\n\u001b[1;32m      6\u001b[0m \u001b[0;34m\u001b[0m\u001b[0m\n",
      "\u001b[0;32m~/anaconda3/lib/python3.8/site-packages/Bio/Align/__init__.py\u001b[0m in \u001b[0;36m__setattr__\u001b[0;34m(self, key, value)\u001b[0m\n\u001b[1;32m   1582\u001b[0m             \u001b[0;31m# To prevent confusion, don't allow users to create new attributes\u001b[0m\u001b[0;34m\u001b[0m\u001b[0;34m\u001b[0m\u001b[0;34m\u001b[0m\u001b[0m\n\u001b[1;32m   1583\u001b[0m             \u001b[0;32mraise\u001b[0m \u001b[0mAttributeError\u001b[0m\u001b[0;34m(\u001b[0m\u001b[0;34m\"PairwiseAligner object has no attribute '%s'\"\u001b[0m \u001b[0;34m%\u001b[0m \u001b[0mkey\u001b[0m\u001b[0;34m)\u001b[0m\u001b[0;34m\u001b[0m\u001b[0;34m\u001b[0m\u001b[0m\n\u001b[0;32m-> 1584\u001b[0;31m         \u001b[0m_aligners\u001b[0m\u001b[0;34m.\u001b[0m\u001b[0mPairwiseAligner\u001b[0m\u001b[0;34m.\u001b[0m\u001b[0m__setattr__\u001b[0m\u001b[0;34m(\u001b[0m\u001b[0mself\u001b[0m\u001b[0;34m,\u001b[0m \u001b[0mkey\u001b[0m\u001b[0;34m,\u001b[0m \u001b[0mvalue\u001b[0m\u001b[0;34m)\u001b[0m\u001b[0;34m\u001b[0m\u001b[0;34m\u001b[0m\u001b[0m\n\u001b[0m\u001b[1;32m   1585\u001b[0m \u001b[0;34m\u001b[0m\u001b[0m\n\u001b[1;32m   1586\u001b[0m     \u001b[0;32mdef\u001b[0m \u001b[0malign\u001b[0m\u001b[0;34m(\u001b[0m\u001b[0mself\u001b[0m\u001b[0;34m,\u001b[0m \u001b[0mseqA\u001b[0m\u001b[0;34m,\u001b[0m \u001b[0mseqB\u001b[0m\u001b[0;34m)\u001b[0m\u001b[0;34m:\u001b[0m\u001b[0;34m\u001b[0m\u001b[0;34m\u001b[0m\u001b[0m\n",
      "\u001b[0;31mValueError\u001b[0m: expected a matrix"
     ]
    }
   ],
   "source": [
    "alignments2 = numpy.full((len(seqs),len(seqs)),-1.0)\n",
    "\n",
    "aligner = Align.PairwiseAligner()\n",
    "aligner.substitution_matrix = MatrixInfo.blosum62 #MatrixInfo.  pam30\n",
    "aligner.mode = 'local'\n",
    "\n",
    "for i,seq1 in enumerate(seqs):  \n",
    "    if i%2==0:\n",
    "        print ('iter %d | %5.3f secs' % (i, time.time()-start) )\n",
    "        start = time.time()\n",
    "    for j,seq2 in enumerate(seqs):\n",
    "        \n",
    "        \n",
    "        if alignments2[j][i] != -1: # or i==j:\n",
    "            continue\n",
    "        if len(seq1)==3 or len(seq2)==3:\n",
    "#             print(\"fsdfdfs:\",seq1,seq2)\n",
    "            continue\n",
    "        score = aligner.align(seq1,seq2).score\n",
    "#         print(score)\n",
    "        alignments2[i][j] = score\n",
    "        alignments2[j][i] = score"
   ]
  },
  {
   "cell_type": "code",
   "execution_count": 260,
   "metadata": {},
   "outputs": [
    {
     "data": {
      "text/plain": [
       "array([[1370.,  686.,  650., ...,  384.,  628.,  633.],\n",
       "       [ 686., 1499.,  663., ...,  435.,  668.,  673.],\n",
       "       [ 650.,  663., 1391., ...,  396.,  631.,  620.],\n",
       "       ...,\n",
       "       [ 384.,  435.,  396., ...,  721.,  387.,  425.],\n",
       "       [ 628.,  668.,  631., ...,  387., 1395.,  650.],\n",
       "       [ 633.,  673.,  620., ...,  425.,  650., 1845.]])"
      ]
     },
     "execution_count": 260,
     "metadata": {},
     "output_type": "execute_result"
    }
   ],
   "source": [
    "alignments2"
   ]
  },
  {
   "cell_type": "code",
   "execution_count": 261,
   "metadata": {},
   "outputs": [
    {
     "name": "stdout",
     "output_type": "stream",
     "text": [
      "[1370.  686.  650. ...  425.  650. 1845.]\n"
     ]
    },
    {
     "data": {
      "image/png": "[encoded data removed]",
      "text/plain": [
       "<Figure size 432x288 with 1 Axes>"
      ]
     },
     "metadata": {
      "needs_background": "light"
     },
     "output_type": "display_data"
    }
   ],
   "source": [
    "import numpy as np\n",
    "import matplotlib.pyplot as plt\n",
    "\n",
    "toPlot = alignments2.flatten()\n",
    "toPlot = toPlot[toPlot != -1]\n",
    "\n",
    "print(toPlot)\n",
    "\n",
    "plt.hist(toPlot,bins=100)\n",
    "plt.show()"
   ]
  },
  {
   "cell_type": "code",
   "execution_count": 263,
   "metadata": {},
   "outputs": [],
   "source": [
    "from itertools import combinations \n",
    "from itertools import product \n",
    "\n",
    "famPair_to_kinaseDistances2 = {tuple((pair[0],pair[1])):[] for pair in combinations(fams,2)}\n",
    "\n",
    "for pair in combinations(fams,2):\n",
    "    fam1 = pair[0]\n",
    "    fam2 = pair[1]\n",
    "    seqList1 = fam_to_seqs[fam1]\n",
    "    seqList2 = fam_to_seqs[fam2]\n",
    "        \n",
    "    for pair2 in product(seqList1,seqList2): \n",
    "        seq1 = pair2[0]\n",
    "        seq2 = pair2[1]\n",
    "        seqIdx1 = numpy.where(seqs==seq1)[0][0]\n",
    "        seqIdx2 = numpy.where(seqs==seq2)[0][0]\n",
    "        \n",
    "        distance = alignments2[seqIdx1][seqIdx2]\n",
    "        if distance < 0 and distance > -1:\n",
    "            print(distance)\n",
    "        if distance == -1.0:\n",
    "            continue\n",
    "\n",
    "        famPair_to_kinaseDistances2[tuple((fam1,fam2))].append(distance)\n",
    "        \n",
    "\n",
    "dupFamTups = [tuple((f,f)) for f in fams]\n",
    "for ff in dupFamTups:\n",
    "    famPair_to_kinaseDistances2[ff] = []\n",
    "\n",
    "for pair in dupFamTups:\n",
    "    fam1 = pair[0]\n",
    "    fam2 = pair[1]\n",
    "    seqList1 = fam_to_seqs[fam1]\n",
    "    seqList2 = fam_to_seqs[fam2]\n",
    "        \n",
    "    for pair2 in product(seqList1,seqList2):\n",
    "        seq1 = pair2[0]\n",
    "        seq2 = pair2[1]\n",
    "        seqIdx1 = numpy.where(seqs==seq1)[0][0]\n",
    "        seqIdx2 = numpy.where(seqs==seq2)[0][0]\n",
    "        \n",
    "        distance = alignments2[seqIdx1][seqIdx2]\n",
    "        if distance < 0 and distance > -1:\n",
    "            print(distance)\n",
    "        if distance == -1.0:\n",
    "            continue\n",
    "\n",
    "        famPair_to_kinaseDistances2[tuple((fam1,fam2))].append(distance)      \n",
    "        \n",
    "        \n",
    "        \n",
    "        \n",
    "        \n",
    "        \n",
    "\n",
    "famDistanceMatrix2 = numpy.full((len(fams),len(fams)),-1.0)\n",
    "\n",
    "for k,v in famPair_to_kinaseDistances2.items():\n",
    "    toAvg = list(set(v))\n",
    "#     if 'PKA' in k and 'CK2' in k:\n",
    "#         print(k,toAvg,fam_to_seqs[k[0]],fam_to_seqs[k[1]])\n",
    "    toAvg = numpy.array((v))\n",
    "    avgDistance = numpy.mean(toAvg)\n",
    "    fIdx1 = numpy.where(fams==k[0])[0][0]\n",
    "    fIdx2 = numpy.where(fams==k[1])[0][0]\n",
    "    famDistanceMatrix2[fIdx1][fIdx2] = avgDistance\n",
    "    \n",
    "for i,row in enumerate(famDistanceMatrix):\n",
    "    for j,val in enumerate(row):\n",
    "        famDistanceMatrix2[j][i] = famDistanceMatrix2[i][j]\n",
    "        \n",
    "for i,row in enumerate(famDistanceMatrix2):\n",
    "    for j,val in enumerate(row):\n",
    "#         if i==j:\n",
    "#             famDistanceMatrix2[i][j] = 1\n",
    "        if val == -1:\n",
    "            famDistanceMatrix2[i][j] = 0"
   ]
  },
  {
   "cell_type": "code",
   "execution_count": 38,
   "metadata": {},
   "outputs": [
    {
     "ename": "NameError",
     "evalue": "name 'famDistanceMatrix2' is not defined",
     "output_type": "error",
     "traceback": [
      "\u001b[0;31m---------------------------------------------------------------------------\u001b[0m",
      "\u001b[0;31mNameError\u001b[0m                                 Traceback (most recent call last)",
      "\u001b[0;32m<ipython-input-38-6a605fbb08c8>\u001b[0m in \u001b[0;36m<module>\u001b[0;34m\u001b[0m\n\u001b[1;32m      5\u001b[0m     \u001b[0mi\u001b[0m \u001b[0;34m=\u001b[0m \u001b[0mnumpy\u001b[0m\u001b[0;34m.\u001b[0m\u001b[0mwhere\u001b[0m\u001b[0;34m(\u001b[0m\u001b[0mfams\u001b[0m\u001b[0;34m==\u001b[0m\u001b[0mpair\u001b[0m\u001b[0;34m[\u001b[0m\u001b[0;36m0\u001b[0m\u001b[0;34m]\u001b[0m\u001b[0;34m)\u001b[0m\u001b[0;34m[\u001b[0m\u001b[0;36m0\u001b[0m\u001b[0;34m]\u001b[0m\u001b[0;34m[\u001b[0m\u001b[0;36m0\u001b[0m\u001b[0;34m]\u001b[0m\u001b[0;34m\u001b[0m\u001b[0;34m\u001b[0m\u001b[0m\n\u001b[1;32m      6\u001b[0m     \u001b[0mj\u001b[0m \u001b[0;34m=\u001b[0m \u001b[0mnumpy\u001b[0m\u001b[0;34m.\u001b[0m\u001b[0mwhere\u001b[0m\u001b[0;34m(\u001b[0m\u001b[0mfams\u001b[0m\u001b[0;34m==\u001b[0m\u001b[0mpair\u001b[0m\u001b[0;34m[\u001b[0m\u001b[0;36m1\u001b[0m\u001b[0;34m]\u001b[0m\u001b[0;34m)\u001b[0m\u001b[0;34m[\u001b[0m\u001b[0;36m0\u001b[0m\u001b[0;34m]\u001b[0m\u001b[0;34m[\u001b[0m\u001b[0;36m0\u001b[0m\u001b[0;34m]\u001b[0m\u001b[0;34m\u001b[0m\u001b[0;34m\u001b[0m\u001b[0m\n\u001b[0;32m----> 7\u001b[0;31m     \u001b[0mp\u001b[0m \u001b[0;34m=\u001b[0m \u001b[0mfamDistanceMatrix2\u001b[0m\u001b[0;34m[\u001b[0m\u001b[0mi\u001b[0m\u001b[0;34m]\u001b[0m\u001b[0;34m[\u001b[0m\u001b[0mj\u001b[0m\u001b[0;34m]\u001b[0m\u001b[0;34m\u001b[0m\u001b[0;34m\u001b[0m\u001b[0m\n\u001b[0m\u001b[1;32m      8\u001b[0m     \u001b[0mprint\u001b[0m\u001b[0;34m(\u001b[0m\u001b[0mpair\u001b[0m\u001b[0;34m[\u001b[0m\u001b[0;36m0\u001b[0m\u001b[0;34m]\u001b[0m\u001b[0;34m,\u001b[0m\u001b[0mpair\u001b[0m\u001b[0;34m[\u001b[0m\u001b[0;36m1\u001b[0m\u001b[0;34m]\u001b[0m\u001b[0;34m,\u001b[0m\u001b[0mp\u001b[0m\u001b[0;34m)\u001b[0m\u001b[0;34m\u001b[0m\u001b[0;34m\u001b[0m\u001b[0m\n\u001b[1;32m      9\u001b[0m \u001b[0;32mfor\u001b[0m \u001b[0mpair\u001b[0m \u001b[0;32min\u001b[0m \u001b[0mdups\u001b[0m\u001b[0;34m:\u001b[0m\u001b[0;34m\u001b[0m\u001b[0;34m\u001b[0m\u001b[0m\n",
      "\u001b[0;31mNameError\u001b[0m: name 'famDistanceMatrix2' is not defined"
     ]
    }
   ],
   "source": [
    "someKs = ['MAPK', 'Src','PKC','PKA','CDK','CK2']\n",
    "dups = [[f,f] for f in someKs]\n",
    "\n",
    "for pair in combinations(someKs,2):\n",
    "    i = numpy.where(fams==pair[0])[0][0]\n",
    "    j = numpy.where(fams==pair[1])[0][0]\n",
    "    p = famDistanceMatrix2[i][j]\n",
    "    print(pair[0],pair[1],p)\n",
    "for pair in dups:\n",
    "    i = numpy.where(fams==pair[0])[0][0]\n",
    "    j = numpy.where(fams==pair[1])[0][0]\n",
    "    p = famDistanceMatrix2[i][j]\n",
    "    print(pair[0],pair[1],p)"
   ]
  },
  {
   "cell_type": "raw",
   "metadata": {},
   "source": [
    "MAPK Src 642.1298701298701\n",
    "MAPK PKC 646.2698412698413\n",
    "MAPK PKA 632.4428571428572\n",
    "MAPK CDK 779.5034013605442\n",
    "MAPK CK2 736.8571428571429\n",
    "Src PKC 593.8585858585859\n",
    "Src PKA 559.7636363636364\n",
    "Src CDK 642.6277056277056\n",
    "Src CK2 592.5454545454545\n",
    "PKC PKA 743.8666666666667\n",
    "PKC CDK 655.8994708994709\n",
    "PKC CK2 643.5555555555555\n",
    "PKA CDK 635.1238095238095\n",
    "PKA CK2 607.9\n",
    "CDK CK2 726.6190476190476\n",
    "MAPK MAPK 961.015306122449\n",
    "Src Src 986.1900826446281\n",
    "PKC PKC 1036.320987654321\n",
    "PKA PKA 1055.2\n",
    "CDK CDK 923.8208616780046\n",
    "CK2 CK2 1456.5"
   ]
  },
  {
   "cell_type": "code",
   "execution_count": 266,
   "metadata": {},
   "outputs": [],
   "source": [
    "maximum = numpy.max(famDistanceMatrix2)\n",
    "minimum = numpy.min(famDistanceMatrix2)\n",
    "\n",
    "famDistanceMatrix2_scaled = numpy.array((famDistanceMatrix2))\n",
    "for i in range(len(fams)):\n",
    "    for j in range(len(fams)):\n",
    "        famDistanceMatrix2_scaled[i][j] = 1 - float(famDistanceMatrix2[i][j]-minimum)/(maximum-minimum) "
   ]
  },
  {
   "cell_type": "code",
   "execution_count": 267,
   "metadata": {},
   "outputs": [
    {
     "name": "stdout",
     "output_type": "stream",
     "text": [
      "MAPK Src 0.4334640322858291\n",
      "MAPK PKC 0.42980573672768074\n",
      "MAPK PKA 0.4420239848516726\n",
      "MAPK CDK 0.3120735775900936\n",
      "MAPK CK2 0.3497580475489165\n",
      "MAPK Akt 0.4308015989901116\n",
      "Src PKC 0.47611906993350295\n",
      "Src PKA 0.5062471549069487\n",
      "Src CDK 0.4330241187384045\n",
      "Src CK2 0.4772794216093186\n",
      "Src Akt 0.48009104297764094\n",
      "PKC PKA 0.3435640648011783\n",
      "PKC CDK 0.4212964911050331\n",
      "PKC CK2 0.43220422189494356\n",
      "PKC Akt 0.23207331042382595\n",
      "PKA CDK 0.4396549547654114\n",
      "PKA CK2 0.46371134020618565\n",
      "PKA Akt 0.3034462444771724\n",
      "CDK CK2 0.3588049652850832\n",
      "CDK Akt 0.422806648432569\n",
      "CK2 Akt 0.42636229749631815\n"
     ]
    }
   ],
   "source": [
    "someKs = ['MAPK', 'Src','PKC','PKA','CDK','CK2','Akt']\n",
    "\n",
    "for pair in combinations(someKs,2):\n",
    "    i = numpy.where(fams==pair[0])[0][0]\n",
    "    j = numpy.where(fams==pair[1])[0][0]\n",
    "    p = famDistanceMatrix_pam[i][j]\n",
    "    print(pair[0],pair[1],p)"
   ]
  },
  {
   "cell_type": "code",
   "execution_count": 268,
   "metadata": {},
   "outputs": [],
   "source": [
    "famDistanceMatrix_pam = numpy.array((famDistanceMatrix2_scaled))\n",
    "\n",
    "import pandas\n",
    "df = pandas.DataFrame(famDistanceMatrix_pam,dtype=float)\n",
    "df.to_csv('Final_data/famDistanceMatrix_pam_19.10.16.csv',header=None,index=None)"
   ]
  },
  {
   "cell_type": "code",
   "execution_count": 269,
   "metadata": {},
   "outputs": [],
   "source": [
    "df = pandas.DataFrame(fams,dtype='U')\n",
    "df.to_csv('Final_data/fams_forPamDistMatrix_19.10.16.csv',header=None,index=None)"
   ]
  },
  {
   "cell_type": "code",
   "execution_count": 257,
   "metadata": {},
   "outputs": [
    {
     "data": {
      "text/plain": [
       "129"
      ]
     },
     "execution_count": 257,
     "metadata": {},
     "output_type": "execute_result"
    }
   ],
   "source": [
    "len(fams)"
   ]
  },
  {
   "cell_type": "code",
   "execution_count": 273,
   "metadata": {},
   "outputs": [
    {
     "data": {
      "text/plain": [
       "0.5107686400446803"
      ]
     },
     "execution_count": 273,
     "metadata": {},
     "output_type": "execute_result"
    }
   ],
   "source": [
    "famDistanceMatrix_pam[1][1]"
   ]
  },
  {
   "cell_type": "code",
   "execution_count": null,
   "metadata": {},
   "outputs": [],
   "source": []
  }
 ],
 "metadata": {
  "kernelspec": {
   "display_name": "Python 3",
   "language": "python",
   "name": "python3"
  },
  "language_info": {
   "codemirror_mode": {
    "name": "ipython",
    "version": 3
   },
   "file_extension": ".py",
   "mimetype": "text/x-python",
   "name": "python",
   "nbconvert_exporter": "python",
   "pygments_lexer": "ipython3",
   "version": "3.8.3"
  }
 },
 "nbformat": 4,
 "nbformat_minor": 2
}
