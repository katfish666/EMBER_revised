{
 "cells": [
  {
   "cell_type": "code",
   "execution_count": 1,
   "metadata": {},
   "outputs": [],
   "source": [
    "from Bio.Blast import NCBIWWW\n",
    "\n",
    "from Bio.Blast.Applications import NcbiblastpCommandline\n",
    "from io import StringIO \n",
    "from Bio.Blast import NCBIXML\n",
    "from Bio.Blast import NCBIWWW\n",
    "\n",
    "from Bio.Seq import Seq\n",
    "from Bio.SeqRecord import SeqRecord\n",
    "from Bio import SeqIO\n",
    "\n",
    "import numpy\n",
    "import time"
   ]
  },
  {
   "cell_type": "code",
   "execution_count": 4,
   "metadata": {},
   "outputs": [],
   "source": [
    "s = SeqIO.parse('kinase_domains.txt', 'fasta') # single sequence fasta file\n",
    "# for i,thing in enumerate(s):\n",
    "#     print(thing,\"\\n\")"
   ]
  },
  {
   "cell_type": "code",
   "execution_count": 6,
   "metadata": {},
   "outputs": [],
   "source": [
    "# n = 0\n",
    "# with open('kinase_domains.txt', 'r') as f:\n",
    "#     for line in f:\n",
    "#         n += 1\n",
    "#         print(line.strip(),\"\\n\")"
   ]
  },
  {
   "cell_type": "code",
   "execution_count": 7,
   "metadata": {},
   "outputs": [],
   "source": [
    "lines = []\n",
    "with open('kinase_domains.txt', 'r') as f:\n",
    "    for line in f:\n",
    "        line = line.strip()\n",
    "        if line:\n",
    "            lines.append(line)\n",
    "\n",
    "fam_to_seqs = {}\n",
    "seqs = []\n",
    "fams = []\n",
    "\n",
    "isKinase = False\n",
    "kinase = False\n",
    "for line in lines:\n",
    "    \n",
    "    if line[0]=='>':\n",
    "        if kinase:\n",
    "            seqs.append(seq)\n",
    "            fams.append(kinase)\n",
    "            if kinase in fam_to_seqs.keys():\n",
    "                fam_to_seqs[kinase].append(seq)\n",
    "            else:\n",
    "                fam_to_seqs[kinase] = [seq]\n",
    "        isKinase = True\n",
    "        kinase = line[line.find(':')+1:]\n",
    "        kinase = kinase[:kinase.find(':')]\n",
    "        seq = ''\n",
    "    else:\n",
    "        isKinase = False\n",
    "        seq = seq + line"
   ]
  },
  {
   "cell_type": "code",
   "execution_count": 8,
   "metadata": {},
   "outputs": [],
   "source": [
    "seqs = numpy.array((list(set((seqs)))))\n",
    "fams = numpy.array((list(set(fams))))"
   ]
  },
  {
   "cell_type": "code",
   "execution_count": 9,
   "metadata": {},
   "outputs": [
    {
     "data": {
      "text/plain": [
       "530"
      ]
     },
     "execution_count": 9,
     "metadata": {},
     "output_type": "execute_result"
    }
   ],
   "source": [
    "len(seqs)"
   ]
  },
  {
   "cell_type": "code",
   "execution_count": 10,
   "metadata": {},
   "outputs": [
    {
     "name": "stdout",
     "output_type": "stream",
     "text": [
      "iter 0 | 0.002 secs\n"
     ]
    },
    {
     "ename": "ApplicationError",
     "evalue": "Non-zero return code 127 from 'blastp -outfmt 5 -subject seq_train.fasta', message '/bin/sh: 1: blastp: not found'",
     "output_type": "error",
     "traceback": [
      "\u001b[0;31m---------------------------------------------------------------------------\u001b[0m",
      "\u001b[0;31mApplicationError\u001b[0m                          Traceback (most recent call last)",
      "\u001b[0;32m<ipython-input-10-d67d632cf853>\u001b[0m in \u001b[0;36m<module>\u001b[0;34m\u001b[0m\n\u001b[1;32m     22\u001b[0m \u001b[0;34m\u001b[0m\u001b[0m\n\u001b[1;32m     23\u001b[0m         \u001b[0mblastp_cline\u001b[0m \u001b[0;34m=\u001b[0m \u001b[0mNcbiblastpCommandline\u001b[0m\u001b[0;34m(\u001b[0m\u001b[0msubject\u001b[0m \u001b[0;34m=\u001b[0m \u001b[0;34m'seq_train.fasta'\u001b[0m\u001b[0;34m,\u001b[0m \u001b[0moutfmt\u001b[0m\u001b[0;34m=\u001b[0m\u001b[0;36m5\u001b[0m\u001b[0;34m)\u001b[0m \u001b[0;31m#Blast command\u001b[0m\u001b[0;34m\u001b[0m\u001b[0;34m\u001b[0m\u001b[0m\n\u001b[0;32m---> 24\u001b[0;31m         \u001b[0mout\u001b[0m\u001b[0;34m,\u001b[0m \u001b[0merr\u001b[0m \u001b[0;34m=\u001b[0m \u001b[0mblastp_cline\u001b[0m\u001b[0;34m(\u001b[0m\u001b[0mseq_test\u001b[0m\u001b[0;34m)\u001b[0m\u001b[0;34m\u001b[0m\u001b[0;34m\u001b[0m\u001b[0m\n\u001b[0m\u001b[1;32m     25\u001b[0m         \u001b[0mblast_result_record\u001b[0m \u001b[0;34m=\u001b[0m \u001b[0mNCBIXML\u001b[0m\u001b[0;34m.\u001b[0m\u001b[0mread\u001b[0m\u001b[0;34m(\u001b[0m\u001b[0mStringIO\u001b[0m\u001b[0;34m(\u001b[0m\u001b[0mout\u001b[0m\u001b[0;34m)\u001b[0m\u001b[0;34m)\u001b[0m\u001b[0;34m\u001b[0m\u001b[0;34m\u001b[0m\u001b[0m\n\u001b[1;32m     26\u001b[0m \u001b[0;34m\u001b[0m\u001b[0m\n",
      "\u001b[0;32m~/anaconda3/lib/python3.8/site-packages/Bio/Application/__init__.py\u001b[0m in \u001b[0;36m__call__\u001b[0;34m(self, stdin, stdout, stderr, cwd, env)\u001b[0m\n\u001b[1;32m    567\u001b[0m \u001b[0;34m\u001b[0m\u001b[0m\n\u001b[1;32m    568\u001b[0m         \u001b[0;32mif\u001b[0m \u001b[0mreturn_code\u001b[0m\u001b[0;34m:\u001b[0m\u001b[0;34m\u001b[0m\u001b[0;34m\u001b[0m\u001b[0m\n\u001b[0;32m--> 569\u001b[0;31m             \u001b[0;32mraise\u001b[0m \u001b[0mApplicationError\u001b[0m\u001b[0;34m(\u001b[0m\u001b[0mreturn_code\u001b[0m\u001b[0;34m,\u001b[0m \u001b[0mstr\u001b[0m\u001b[0;34m(\u001b[0m\u001b[0mself\u001b[0m\u001b[0;34m)\u001b[0m\u001b[0;34m,\u001b[0m \u001b[0mstdout_str\u001b[0m\u001b[0;34m,\u001b[0m \u001b[0mstderr_str\u001b[0m\u001b[0;34m)\u001b[0m\u001b[0;34m\u001b[0m\u001b[0;34m\u001b[0m\u001b[0m\n\u001b[0m\u001b[1;32m    570\u001b[0m         \u001b[0;32mreturn\u001b[0m \u001b[0mstdout_str\u001b[0m\u001b[0;34m,\u001b[0m \u001b[0mstderr_str\u001b[0m\u001b[0;34m\u001b[0m\u001b[0;34m\u001b[0m\u001b[0m\n\u001b[1;32m    571\u001b[0m \u001b[0;34m\u001b[0m\u001b[0m\n",
      "\u001b[0;31mApplicationError\u001b[0m: Non-zero return code 127 from 'blastp -outfmt 5 -subject seq_train.fasta', message '/bin/sh: 1: blastp: not found'"
     ]
    }
   ],
   "source": [
    "start = time.time()\n",
    "s = start\n",
    "alignments = numpy.full((len(seqs),len(seqs)),-1.0)\n",
    "\n",
    "for i,seq_train in enumerate(seqs):\n",
    "    seq_train = ''.join([x for x in seq_train])\n",
    "    seq_train = seq_train.replace('-',' ')\n",
    "    \n",
    "    if i%2==0:\n",
    "        print ('iter %d | %5.3f secs' % (i, time.time()-start) )\n",
    "        start = time.time()\n",
    "    seq_train = SeqRecord(Seq(seq_train), id=\"seq_train\")\n",
    "    SeqIO.write(seq_train, \"seq_train.fasta\", \"fasta\")\n",
    "    \n",
    "    for j,seq_test in enumerate(seqs):\n",
    "        \n",
    "        if alignments[i][j] != -1 or i==j:\n",
    "            continue\n",
    "            \n",
    "        seq_test = ''.join([x for x in seq_test])\n",
    "        seq_test = seq_test.replace('-',' ')\n",
    "\n",
    "        blastp_cline = NcbiblastpCommandline(subject = 'seq_train.fasta', outfmt=5) #Blast command\n",
    "        out, err = blastp_cline(seq_test)\n",
    "        blast_result_record = NCBIXML.read(StringIO(out))\n",
    "        \n",
    "        maxIdentity = 0.0\n",
    "        \n",
    "        if not blast_result_record.alignments:\n",
    "            continue\n",
    "        for alignment in blast_result_record.alignments:\n",
    "            for hsp in alignment.hsps:\n",
    "                if (hsp.identities/ hsp.align_length) >= maxIdentity:\n",
    "                    maxIdentity = (hsp.identities/ hsp.align_length)\n",
    "        \n",
    "#         print(type(maxIdentity))\n",
    "        alignments[i][j] = maxIdentity\n",
    "#         break\n",
    "        \n",
    "        \n",
    "print ('Total time: %5.3f secs' % (time.time()-s) )"
   ]
  },
  {
   "cell_type": "code",
   "execution_count": 96,
   "metadata": {},
   "outputs": [],
   "source": [
    "import pandas\n",
    "df = pandas.DataFrame(alignments,dtype=float)\n",
    "df.to_csv('alignments_19.10.15.csv',header=None,index=None)"
   ]
  },
  {
   "cell_type": "code",
   "execution_count": 99,
   "metadata": {},
   "outputs": [
    {
     "data": {
      "image/png": "[encoded data removed]",
      "text/plain": [
       "<Figure size 432x288 with 1 Axes>"
      ]
     },
     "metadata": {
      "needs_background": "light"
     },
     "output_type": "display_data"
    }
   ],
   "source": [
    "import numpy as np\n",
    "import matplotlib.pyplot as plt\n",
    "\n",
    "toPlot = alignments.flatten()\n",
    "plt.hist(toPlot,bins=30)\n",
    "plt.show()"
   ]
  },
  {
   "cell_type": "code",
   "execution_count": 113,
   "metadata": {},
   "outputs": [],
   "source": [
    "from itertools import combinations \n",
    "from itertools import product \n",
    "\n",
    "famPair_to_kinaseDistances = {tuple((pair[0],pair[1])):[] for pair in combinations(fams,2)}\n",
    "\n",
    "for pair in combinations(fams,2):\n",
    "    \n",
    "    fam1 = pair[0]\n",
    "    fam2 = pair[1]\n",
    "    \n",
    "    seqList1 = fam_to_seqs[fam1]\n",
    "    seqList2 = fam_to_seqs[fam2]\n",
    "        \n",
    "    for pair2 in product(seqList1,seqList2):\n",
    "        \n",
    "        seq1 = pair2[0]\n",
    "        seq2 = pair2[1]\n",
    "        \n",
    "        seqIdx1 = numpy.where(seqs==seq1)[0][0]\n",
    "        seqIdx2 = numpy.where(seqs==seq2)[0][0]\n",
    "        \n",
    "        distance = alignments[seqIdx1][seqIdx2]\n",
    "        if distance < 0 and distance > -1:\n",
    "            print(distance)\n",
    "        \n",
    "        if distance == -1.0:\n",
    "            continue\n",
    "\n",
    "        famPair_to_kinaseDistances[tuple((fam1,fam2))].append(distance)\n",
    "        \n",
    "#         print(fam1,kinase1,fam2,kinase2,distance)"
   ]
  },
  {
   "cell_type": "code",
   "execution_count": 170,
   "metadata": {
    "collapsed": true
   },
   "outputs": [
    {
     "name": "stdout",
     "output_type": "stream",
     "text": [
      "('CK2', 'PKA') [0.3076923076923077, 0.5714285714285714, 0.6, 0.31, 0.29457364341085274] ['YQLVRKLGRGKYSEVFEAINITNNEKVVVKILKPVKKKKIKREIKILENLRGGPNIITLADIVKDPVSRTPALVFEHVNNTDFKQLYQTLTDYDIRFYMYEILKALDYCHSMGIMHRDVKPHNVMIDHEHRKLRLIDWGLAEFYHPGQEYNVRVASRYFKGPELLVDYQMYDYSLDMWSLGCMLASMIFRKEPFFHGHDNYDQLVRIAKVLGTEDLYDYIDKYNIELDPRFNDILGRHSRKRWERFVHSENQHLVSPEALDFLDKLLRYDHQSRLTAREAMEHPYF', 'YQLVRKLGRGKYSEVFEAINITNNERVVVKILKPVKKKKIKREVKILENLRGGTNIIKLIDTVKDPVSKTPALVFEYINNTDFKQLYQILTDFDIRFYMYELLKALDYCHSKGIMHRDVKPHNVMIDHQQKKLRLIDWGLAEFYHPAQEYNVRVASRYFKGPELLVDYQMYDYSLDMWSLGCMLASMIFRREPFFHGQDNYDQLVRIAKVLGTEELYGYLKKYHIDLDPHFNDILGQHSRKRWENFIHSENRHLVSPEALDLLDKLLRYDHQQRLTAKEAMEHPYF'] ['FERIKTLGTGSFGRVMLVKHKETGNHYAMKILDKQKVVKLKQIEHTLNEKRILQAVNFPFLVKLEFSFKDNSNLYMVMEYVPGGEMFSHLRRIGRFSEPHARFYAAQIVLTFEYLHSLDLIYRDLKPENLLIDQQGYIQVTDFGFAKRVKGRTWTLCGTPEYLAPEIILSKGYNKAVDWWALGVLIYEMAAGYPPFFADQPIQIYEKIVSGKVRFPSHFSSDLKDLLRNLLQVDLTKRFGNLKNGVNDIKNHKWF', 'FERKKTLGTGSFGRVMLVKHKATEQYYAMKILDKQKVVKLKQIEHTLNEKRILQAVNFPFLVRLEYAFKDNSNLYMVMEYVPGGEMFSHLRRIGRFSEPHARFYAAQIVLTFEYLHSLDLIYRDLKPENLLIDHQGYIQVTDFGFAKRVKGRTWTLCGTPEYLAPEIILSKGYNKAVDWWALGVLIYEMAAGYPPFFADQPIQIYEKIVSGKVRFPSHFSSDLKDLLRNLLQVDLTKRFGNLKNGVSDIKTHKWF', 'FERLRTLGMGSFGRVMLVRHQETGGHYAMKILNKQKVVKMKQVEHILNEKRILQAIDFPFLVKLQFSFKDNSYLYLVMEYVPGGEMFSRLQRVGRFSEPHACFYAAQVVLAVQYLHSLDLIHRDLKPENLLIDQQGYLQVTDFGFAKRVKGRTWTLCGTPEYLAPEIILSKGYNKAVDWWALGVLIYEMAVGFPPFYADQPIQIYEKIVSGRVRFPSKLSSDLKHLLRSLLQVDLTKRFGNLRNGVGDIKNHKWF', 'FDTLATVGTGTFGRVHLVKEKTAKHFFALKVMSIPDVIRLKQEQHVHNEKSVLKEVSHPFLIRLFWTWHDERFLYMLMEYVPGGELFSYLRNRGRFSSTTGLFYSAEIICAIEYLHSKEIVYRDLKPENILLDRDGHIKLTDFGFAKKLVDRTWTLCGTPEYLAPEVIQSKGHGRAVDWWALGILIFEMLSGFPPFFDDNPFGIYQKILAGKIDFPRHLDFHVKDLIKKLLVVDRTRRLGNMKNGANDVKHHRWF', 'CDALVTMGTGTFGRVHLVKEKTAKHFFALKVMSIPDVIRRKQEQHVHNEKSVLKEVSHPFLIRLFWTWHEERFLYMLMEYVPGGELFSYLRNRGHFSSTTGLFYSAEIICAIEYLHSKEIVYRDLKPENILLDRDGHIKLTDFGFAKKLVDRTWTLCGTPEYLAPEVIQSKGHGRAVDWWALGILIFEMLSGFPPFFDDNPFGIYQKILAGKLYFPR']\n",
      "('CK2', 'PKA') 0.4407142857142857\n"
     ]
    }
   ],
   "source": [
    "famDistanceMatrix = numpy.full((len(fams),len(fams)),-1.0)\n",
    "\n",
    "for k,v in famPair_to_kinaseDistances.items():\n",
    "    toAvg = list(set(v))\n",
    "    if 'PKA' in k and 'CK2' in k:\n",
    "        print(k,toAvg,fam_to_seqs[k[0]],fam_to_seqs[k[1]])\n",
    "    toAvg = numpy.array((v))\n",
    "    toAvg = toAvg[toAvg < 1.0]\n",
    "\n",
    "#     if 1 in v and 'PKA' in k:\n",
    "#         print(k,v)\n",
    "    avgDistance = numpy.median(toAvg)\n",
    "    \n",
    "    if 'PKA' in k and 'CK2' in k:\n",
    "        print(k,avgDistance)\n",
    "\n",
    "    fIdx1 = numpy.where(fams==k[0])[0][0]\n",
    "    fIdx2 = numpy.where(fams==k[1])[0][0]\n",
    "    famDistanceMatrix[fIdx1][fIdx2] = avgDistance\n",
    "    \n",
    "for i,row in enumerate(famDistanceMatrix):\n",
    "    for j,val in enumerate(row):\n",
    "        famDistanceMatrix[j][i] = famDistanceMatrix[i][j]\n",
    "        \n",
    "for i,row in enumerate(famDistanceMatrix):\n",
    "    for j,val in enumerate(row):\n",
    "        if i==j:\n",
    "            famDistanceMatrix[i][j] = 1\n",
    "        elif val == -1:\n",
    "            famDistanceMatrix[i][j] = 0"
   ]
  },
  {
   "cell_type": "code",
   "execution_count": 167,
   "metadata": {},
   "outputs": [
    {
     "data": {
      "image/png": "[encoded data removed]",
      "text/plain": [
       "<Figure size 432x288 with 1 Axes>"
      ]
     },
     "metadata": {
      "needs_background": "light"
     },
     "output_type": "display_data"
    }
   ],
   "source": [
    "toPlot = famDistanceMatrix[famDistanceMatrix!=0]\n",
    "\n",
    "plt.hist(toPlot,bins=100)\n",
    "plt.show()"
   ]
  },
  {
   "cell_type": "code",
   "execution_count": 168,
   "metadata": {},
   "outputs": [
    {
     "name": "stdout",
     "output_type": "stream",
     "text": [
      "MAPK Src 0.2899576704130784\n",
      "MAPK PKC 0.30852135374697826\n",
      "MAPK PKA 0.30668473351400183\n",
      "MAPK CDK 0.3473699763593381\n",
      "MAPK CK2 0.30478424850770647\n",
      "Src PKC 0.26666666666666666\n",
      "Src PKA 0.2684563758389262\n",
      "Src CDK 0.28870549481356883\n",
      "Src CK2 0.238510101010101\n",
      "PKC PKA 0.4\n",
      "PKC CDK 0.28125\n",
      "PKC CK2 0.32236227824463115\n",
      "PKA CDK 0.2914572864321608\n",
      "PKA CK2 0.4407142857142857\n",
      "CDK CK2 0.294635916040425\n"
     ]
    }
   ],
   "source": [
    "someKs = ['MAPK', 'Src','PKC','PKA','CDK','CK2']\n",
    "\n",
    "for pair in combinations(someKs,2):\n",
    "    i = numpy.where(fams==pair[0])[0][0]\n",
    "    j = numpy.where(fams==pair[1])[0][0]\n",
    "    p = famDistanceMatrix[i][j]\n",
    "    if p==-1:\n",
    "        p = famDistanceMatrix[j][i]\n",
    "    print(pair[0],pair[1],p)"
   ]
  },
  {
   "cell_type": "code",
   "execution_count": null,
   "metadata": {},
   "outputs": [],
   "source": []
  },
  {
   "cell_type": "code",
   "execution_count": null,
   "metadata": {},
   "outputs": [],
   "source": []
  },
  {
   "cell_type": "code",
   "execution_count": null,
   "metadata": {},
   "outputs": [],
   "source": []
  },
  {
   "cell_type": "code",
   "execution_count": null,
   "metadata": {},
   "outputs": [],
   "source": []
  },
  {
   "cell_type": "code",
   "execution_count": null,
   "metadata": {},
   "outputs": [],
   "source": []
  },
  {
   "cell_type": "code",
   "execution_count": 176,
   "metadata": {},
   "outputs": [],
   "source": [
    "import numpy\n",
    "from matplotlib.collections import LineCollection\n",
    "from sklearn import manifold\n",
    "from sklearn.metrics import euclidean_distances\n",
    "from sklearn.decomposition import PCA\n",
    "import Levenshtein\n",
    "from Levenshtein import hamming\n",
    "from itertools import combinations\n",
    "import matplotlib.pyplot as plt\n",
    "import math\n",
    "import random\n",
    "from Bio import pairwise2\n",
    "from Bio import Align\n",
    "from Bio.SubsMat import MatrixInfo\n",
    "import sklearn.cluster\n",
    "import itertools\n",
    "import time"
   ]
  },
  {
   "cell_type": "code",
   "execution_count": 259,
   "metadata": {},
   "outputs": [
    {
     "name": "stdout",
     "output_type": "stream",
     "text": [
      "iter 0 | 61565.706 secs\n",
      "iter 2 | 1.089 secs\n",
      "iter 4 | 1.003 secs\n",
      "iter 6 | 1.054 secs\n",
      "iter 8 | 0.781 secs\n",
      "iter 10 | 1.037 secs\n",
      "iter 12 | 1.010 secs\n",
      "iter 14 | 1.117 secs\n",
      "iter 16 | 0.950 secs\n",
      "iter 18 | 0.944 secs\n",
      "iter 20 | 1.037 secs\n",
      "iter 22 | 0.986 secs\n",
      "iter 24 | 0.934 secs\n",
      "iter 26 | 1.090 secs\n",
      "iter 28 | 0.932 secs\n",
      "iter 30 | 0.913 secs\n",
      "iter 32 | 1.010 secs\n",
      "iter 34 | 0.891 secs\n",
      "iter 36 | 1.390 secs\n",
      "iter 38 | 0.989 secs\n",
      "iter 40 | 0.937 secs\n",
      "iter 42 | 0.896 secs\n",
      "iter 44 | 1.019 secs\n",
      "iter 46 | 1.421 secs\n",
      "iter 48 | 0.881 secs\n",
      "iter 50 | 0.912 secs\n",
      "iter 52 | 1.041 secs\n",
      "iter 54 | 0.881 secs\n",
      "iter 56 | 0.924 secs\n",
      "iter 58 | 0.689 secs\n",
      "iter 60 | 0.938 secs\n",
      "iter 62 | 1.061 secs\n",
      "iter 64 | 1.017 secs\n",
      "iter 66 | 1.087 secs\n",
      "iter 68 | 0.960 secs\n",
      "iter 70 | 0.988 secs\n",
      "iter 72 | 0.859 secs\n",
      "iter 74 | 0.853 secs\n",
      "iter 76 | 0.841 secs\n",
      "iter 78 | 0.939 secs\n",
      "iter 80 | 0.941 secs\n",
      "iter 82 | 0.985 secs\n",
      "iter 84 | 0.831 secs\n",
      "iter 86 | 0.838 secs\n",
      "iter 88 | 0.857 secs\n",
      "iter 90 | 0.854 secs\n",
      "iter 92 | 0.833 secs\n",
      "iter 94 | 0.863 secs\n",
      "iter 96 | 0.830 secs\n",
      "iter 98 | 0.901 secs\n",
      "iter 100 | 0.849 secs\n",
      "iter 102 | 0.787 secs\n",
      "iter 104 | 0.795 secs\n",
      "iter 106 | 0.810 secs\n",
      "iter 108 | 0.798 secs\n",
      "iter 110 | 0.913 secs\n",
      "iter 112 | 0.791 secs\n",
      "iter 114 | 0.835 secs\n",
      "iter 116 | 0.919 secs\n",
      "iter 118 | 0.880 secs\n",
      "iter 120 | 1.051 secs\n",
      "iter 122 | 0.962 secs\n",
      "iter 124 | 0.566 secs\n",
      "iter 126 | 0.810 secs\n",
      "iter 128 | 0.804 secs\n",
      "iter 130 | 0.752 secs\n",
      "iter 132 | 0.736 secs\n",
      "iter 134 | 0.990 secs\n",
      "iter 136 | 0.775 secs\n",
      "iter 138 | 0.783 secs\n",
      "iter 140 | 0.683 secs\n",
      "iter 142 | 0.803 secs\n",
      "iter 144 | 0.728 secs\n",
      "iter 146 | 0.823 secs\n",
      "iter 148 | 0.741 secs\n",
      "iter 150 | 0.979 secs\n",
      "iter 152 | 0.812 secs\n",
      "iter 154 | 0.767 secs\n",
      "iter 156 | 0.618 secs\n",
      "iter 158 | 0.777 secs\n",
      "iter 160 | 0.684 secs\n",
      "iter 162 | 0.695 secs\n",
      "iter 164 | 0.697 secs\n",
      "iter 166 | 0.681 secs\n",
      "iter 168 | 0.700 secs\n",
      "iter 170 | 0.638 secs\n",
      "iter 172 | 0.628 secs\n",
      "iter 174 | 0.719 secs\n",
      "iter 176 | 0.678 secs\n",
      "iter 178 | 0.512 secs\n",
      "iter 180 | 0.718 secs\n",
      "iter 182 | 0.776 secs\n",
      "iter 184 | 0.715 secs\n",
      "iter 186 | 0.537 secs\n",
      "iter 188 | 1.266 secs\n",
      "iter 190 | 0.864 secs\n",
      "iter 192 | 0.673 secs\n",
      "iter 194 | 0.848 secs\n",
      "iter 196 | 0.716 secs\n",
      "iter 198 | 0.613 secs\n",
      "iter 200 | 0.810 secs\n",
      "iter 202 | 0.861 secs\n",
      "iter 204 | 0.850 secs\n",
      "iter 206 | 0.730 secs\n",
      "iter 208 | 0.637 secs\n",
      "iter 210 | 0.623 secs\n",
      "iter 212 | 0.594 secs\n",
      "iter 214 | 0.644 secs\n",
      "iter 216 | 0.585 secs\n",
      "iter 218 | 0.588 secs\n",
      "iter 220 | 0.584 secs\n",
      "iter 222 | 0.611 secs\n",
      "iter 224 | 0.560 secs\n",
      "iter 226 | 0.624 secs\n",
      "iter 228 | 0.616 secs\n",
      "iter 230 | 0.706 secs\n",
      "iter 232 | 0.917 secs\n",
      "iter 234 | 0.680 secs\n",
      "iter 236 | 0.639 secs\n",
      "iter 238 | 0.546 secs\n",
      "iter 240 | 0.603 secs\n",
      "iter 242 | 0.606 secs\n",
      "iter 244 | 0.528 secs\n",
      "iter 246 | 0.560 secs\n",
      "iter 248 | 0.751 secs\n",
      "iter 250 | 0.517 secs\n",
      "iter 252 | 0.605 secs\n",
      "iter 254 | 0.508 secs\n",
      "iter 256 | 0.514 secs\n",
      "iter 258 | 0.992 secs\n",
      "iter 260 | 0.602 secs\n",
      "iter 262 | 0.569 secs\n",
      "iter 264 | 0.539 secs\n",
      "iter 266 | 0.381 secs\n",
      "iter 268 | 0.543 secs\n",
      "iter 270 | 0.534 secs\n",
      "iter 272 | 0.544 secs\n",
      "iter 274 | 0.513 secs\n",
      "iter 276 | 0.484 secs\n",
      "iter 278 | 0.548 secs\n",
      "iter 280 | 0.492 secs\n",
      "iter 282 | 0.461 secs\n",
      "iter 284 | 0.446 secs\n",
      "iter 286 | 0.547 secs\n",
      "iter 288 | 0.433 secs\n",
      "iter 290 | 0.472 secs\n",
      "iter 292 | 0.536 secs\n",
      "iter 294 | 0.597 secs\n",
      "iter 296 | 0.610 secs\n",
      "iter 298 | 0.674 secs\n",
      "iter 300 | 0.448 secs\n",
      "iter 302 | 0.456 secs\n",
      "iter 304 | 0.403 secs\n",
      "iter 306 | 0.506 secs\n",
      "iter 308 | 0.310 secs\n",
      "iter 310 | 0.453 secs\n",
      "iter 312 | 0.477 secs\n",
      "iter 314 | 0.471 secs\n",
      "iter 316 | 0.481 secs\n",
      "iter 318 | 0.352 secs\n",
      "iter 320 | 0.399 secs\n",
      "iter 322 | 0.662 secs\n",
      "iter 324 | 0.435 secs\n",
      "iter 326 | 0.383 secs\n",
      "iter 328 | 0.371 secs\n",
      "iter 330 | 0.391 secs\n",
      "iter 332 | 0.390 secs\n",
      "iter 334 | 0.370 secs\n",
      "iter 336 | 0.287 secs\n",
      "iter 338 | 0.359 secs\n",
      "iter 340 | 0.327 secs\n",
      "iter 342 | 0.349 secs\n",
      "iter 344 | 0.388 secs\n",
      "iter 346 | 0.383 secs\n",
      "iter 348 | 0.395 secs\n",
      "iter 350 | 0.355 secs\n",
      "iter 352 | 0.414 secs\n",
      "iter 354 | 0.382 secs\n",
      "iter 356 | 0.451 secs\n",
      "iter 358 | 0.389 secs\n",
      "iter 360 | 0.400 secs\n",
      "iter 362 | 0.239 secs\n",
      "iter 364 | 0.351 secs\n",
      "iter 366 | 0.337 secs\n",
      "iter 368 | 0.373 secs\n",
      "iter 370 | 0.326 secs\n",
      "iter 372 | 0.331 secs\n",
      "iter 374 | 0.327 secs\n",
      "iter 376 | 0.306 secs\n",
      "iter 378 | 0.296 secs\n",
      "iter 380 | 0.347 secs\n",
      "iter 382 | 0.301 secs\n",
      "iter 384 | 0.270 secs\n",
      "iter 386 | 0.327 secs\n",
      "iter 388 | 0.257 secs\n",
      "iter 390 | 0.398 secs\n",
      "iter 392 | 0.285 secs\n",
      "iter 394 | 0.283 secs\n",
      "iter 396 | 0.276 secs\n",
      "iter 398 | 0.288 secs\n",
      "iter 400 | 0.288 secs\n",
      "iter 402 | 0.282 secs\n",
      "iter 404 | 0.277 secs\n",
      "iter 406 | 0.322 secs\n",
      "iter 408 | 0.240 secs\n",
      "iter 410 | 0.288 secs\n",
      "iter 412 | 0.266 secs\n",
      "iter 414 | 0.234 secs\n",
      "iter 416 | 0.211 secs\n",
      "iter 418 | 0.222 secs\n",
      "iter 420 | 0.207 secs\n",
      "iter 422 | 0.226 secs\n",
      "iter 424 | 0.207 secs\n",
      "iter 426 | 0.210 secs\n",
      "iter 428 | 0.219 secs\n",
      "iter 430 | 0.254 secs\n",
      "iter 432 | 0.174 secs\n",
      "iter 434 | 0.190 secs\n",
      "iter 436 | 0.206 secs\n",
      "iter 438 | 0.181 secs\n",
      "iter 440 | 0.220 secs\n",
      "iter 442 | 0.188 secs\n",
      "iter 444 | 0.172 secs\n",
      "iter 446 | 0.101 secs\n",
      "iter 448 | 0.204 secs\n",
      "iter 450 | 0.168 secs\n",
      "iter 452 | 0.143 secs\n",
      "iter 454 | 0.206 secs\n",
      "iter 456 | 0.157 secs\n",
      "iter 458 | 0.149 secs\n",
      "iter 460 | 0.150 secs\n",
      "iter 462 | 0.249 secs\n",
      "iter 464 | 0.136 secs\n",
      "iter 466 | 0.104 secs\n",
      "iter 468 | 0.126 secs\n",
      "iter 470 | 0.120 secs\n",
      "iter 472 | 0.122 secs\n",
      "iter 474 | 0.139 secs\n",
      "iter 476 | 0.116 secs\n",
      "iter 478 | 0.118 secs\n",
      "iter 480 | 0.098 secs\n",
      "iter 482 | 0.101 secs\n",
      "iter 484 | 0.091 secs\n",
      "iter 486 | 0.099 secs\n",
      "iter 488 | 0.093 secs\n",
      "iter 490 | 0.077 secs\n",
      "iter 492 | 0.073 secs\n",
      "iter 494 | 0.069 secs\n",
      "iter 496 | 0.060 secs\n",
      "iter 498 | 0.067 secs\n",
      "iter 500 | 0.079 secs\n",
      "iter 502 | 0.069 secs\n",
      "iter 504 | 0.051 secs\n",
      "iter 506 | 0.048 secs\n",
      "iter 508 | 0.047 secs\n",
      "iter 510 | 0.058 secs\n",
      "iter 512 | 0.037 secs\n",
      "iter 514 | 0.036 secs\n",
      "iter 516 | 0.031 secs\n",
      "iter 518 | 0.026 secs\n",
      "iter 520 | 0.023 secs\n",
      "iter 522 | 0.020 secs\n",
      "iter 524 | 0.020 secs\n",
      "iter 526 | 0.030 secs\n",
      "iter 528 | 0.008 secs\n"
     ]
    }
   ],
   "source": [
    "alignments2 = numpy.full((len(seqs),len(seqs)),-1.0)\n",
    "\n",
    "aligner = Align.PairwiseAligner()\n",
    "aligner.substitution_matrix = MatrixInfo.blosum62 #MatrixInfo.  pam30\n",
    "aligner.mode = 'local'\n",
    "\n",
    "for i,seq1 in enumerate(seqs):  \n",
    "    if i%2==0:\n",
    "        print ('iter %d | %5.3f secs' % (i, time.time()-start) )\n",
    "        start = time.time()\n",
    "    for j,seq2 in enumerate(seqs):\n",
    "        \n",
    "        \n",
    "        if alignments2[j][i] != -1: # or i==j:\n",
    "            continue\n",
    "        if len(seq1)==3 or len(seq2)==3:\n",
    "#             print(\"fsdfdfs:\",seq1,seq2)\n",
    "            continue\n",
    "        score = aligner.align(seq1,seq2).score\n",
    "#         print(score)\n",
    "        alignments2[i][j] = score\n",
    "        alignments2[j][i] = score"
   ]
  },
  {
   "cell_type": "code",
   "execution_count": 260,
   "metadata": {},
   "outputs": [
    {
     "data": {
      "text/plain": [
       "array([[1370.,  686.,  650., ...,  384.,  628.,  633.],\n",
       "       [ 686., 1499.,  663., ...,  435.,  668.,  673.],\n",
       "       [ 650.,  663., 1391., ...,  396.,  631.,  620.],\n",
       "       ...,\n",
       "       [ 384.,  435.,  396., ...,  721.,  387.,  425.],\n",
       "       [ 628.,  668.,  631., ...,  387., 1395.,  650.],\n",
       "       [ 633.,  673.,  620., ...,  425.,  650., 1845.]])"
      ]
     },
     "execution_count": 260,
     "metadata": {},
     "output_type": "execute_result"
    }
   ],
   "source": [
    "alignments2"
   ]
  },
  {
   "cell_type": "code",
   "execution_count": 261,
   "metadata": {},
   "outputs": [
    {
     "name": "stdout",
     "output_type": "stream",
     "text": [
      "[1370.  686.  650. ...  425.  650. 1845.]\n"
     ]
    },
    {
     "data": {
      "image/png": "[encoded data removed]",
      "text/plain": [
       "<Figure size 432x288 with 1 Axes>"
      ]
     },
     "metadata": {
      "needs_background": "light"
     },
     "output_type": "display_data"
    }
   ],
   "source": [
    "import numpy as np\n",
    "import matplotlib.pyplot as plt\n",
    "\n",
    "toPlot = alignments2.flatten()\n",
    "toPlot = toPlot[toPlot != -1]\n",
    "\n",
    "print(toPlot)\n",
    "\n",
    "plt.hist(toPlot,bins=100)\n",
    "plt.show()"
   ]
  },
  {
   "cell_type": "code",
   "execution_count": 263,
   "metadata": {},
   "outputs": [],
   "source": [
    "from itertools import combinations \n",
    "from itertools import product \n",
    "\n",
    "famPair_to_kinaseDistances2 = {tuple((pair[0],pair[1])):[] for pair in combinations(fams,2)}\n",
    "\n",
    "for pair in combinations(fams,2):\n",
    "    fam1 = pair[0]\n",
    "    fam2 = pair[1]\n",
    "    seqList1 = fam_to_seqs[fam1]\n",
    "    seqList2 = fam_to_seqs[fam2]\n",
    "        \n",
    "    for pair2 in product(seqList1,seqList2): \n",
    "        seq1 = pair2[0]\n",
    "        seq2 = pair2[1]\n",
    "        seqIdx1 = numpy.where(seqs==seq1)[0][0]\n",
    "        seqIdx2 = numpy.where(seqs==seq2)[0][0]\n",
    "        \n",
    "        distance = alignments2[seqIdx1][seqIdx2]\n",
    "        if distance < 0 and distance > -1:\n",
    "            print(distance)\n",
    "        if distance == -1.0:\n",
    "            continue\n",
    "\n",
    "        famPair_to_kinaseDistances2[tuple((fam1,fam2))].append(distance)\n",
    "        \n",
    "\n",
    "dupFamTups = [tuple((f,f)) for f in fams]\n",
    "for ff in dupFamTups:\n",
    "    famPair_to_kinaseDistances2[ff] = []\n",
    "\n",
    "for pair in dupFamTups:\n",
    "    fam1 = pair[0]\n",
    "    fam2 = pair[1]\n",
    "    seqList1 = fam_to_seqs[fam1]\n",
    "    seqList2 = fam_to_seqs[fam2]\n",
    "        \n",
    "    for pair2 in product(seqList1,seqList2):\n",
    "        seq1 = pair2[0]\n",
    "        seq2 = pair2[1]\n",
    "        seqIdx1 = numpy.where(seqs==seq1)[0][0]\n",
    "        seqIdx2 = numpy.where(seqs==seq2)[0][0]\n",
    "        \n",
    "        distance = alignments2[seqIdx1][seqIdx2]\n",
    "        if distance < 0 and distance > -1:\n",
    "            print(distance)\n",
    "        if distance == -1.0:\n",
    "            continue\n",
    "\n",
    "        famPair_to_kinaseDistances2[tuple((fam1,fam2))].append(distance)      \n",
    "        \n",
    "        \n",
    "        \n",
    "        \n",
    "        \n",
    "        \n",
    "\n",
    "famDistanceMatrix2 = numpy.full((len(fams),len(fams)),-1.0)\n",
    "\n",
    "for k,v in famPair_to_kinaseDistances2.items():\n",
    "    toAvg = list(set(v))\n",
    "#     if 'PKA' in k and 'CK2' in k:\n",
    "#         print(k,toAvg,fam_to_seqs[k[0]],fam_to_seqs[k[1]])\n",
    "    toAvg = numpy.array((v))\n",
    "    avgDistance = numpy.mean(toAvg)\n",
    "    fIdx1 = numpy.where(fams==k[0])[0][0]\n",
    "    fIdx2 = numpy.where(fams==k[1])[0][0]\n",
    "    famDistanceMatrix2[fIdx1][fIdx2] = avgDistance\n",
    "    \n",
    "for i,row in enumerate(famDistanceMatrix):\n",
    "    for j,val in enumerate(row):\n",
    "        famDistanceMatrix2[j][i] = famDistanceMatrix2[i][j]\n",
    "        \n",
    "for i,row in enumerate(famDistanceMatrix2):\n",
    "    for j,val in enumerate(row):\n",
    "#         if i==j:\n",
    "#             famDistanceMatrix2[i][j] = 1\n",
    "        if val == -1:\n",
    "            famDistanceMatrix2[i][j] = 0"
   ]
  },
  {
   "cell_type": "code",
   "execution_count": 265,
   "metadata": {},
   "outputs": [
    {
     "name": "stdout",
     "output_type": "stream",
     "text": [
      "MAPK Src 642.1298701298701\n",
      "MAPK PKC 646.2698412698413\n",
      "MAPK PKA 632.4428571428572\n",
      "MAPK CDK 779.5034013605442\n",
      "MAPK CK2 736.8571428571429\n",
      "Src PKC 593.8585858585859\n",
      "Src PKA 559.7636363636364\n",
      "Src CDK 642.6277056277056\n",
      "Src CK2 592.5454545454545\n",
      "PKC PKA 743.8666666666667\n",
      "PKC CDK 655.8994708994709\n",
      "PKC CK2 643.5555555555555\n",
      "PKA CDK 635.1238095238095\n",
      "PKA CK2 607.9\n",
      "CDK CK2 726.6190476190476\n",
      "MAPK MAPK 961.015306122449\n",
      "Src Src 986.1900826446281\n",
      "PKC PKC 1036.320987654321\n",
      "PKA PKA 1055.2\n",
      "CDK CDK 923.8208616780046\n",
      "CK2 CK2 1456.5\n"
     ]
    }
   ],
   "source": [
    "someKs = ['MAPK', 'Src','PKC','PKA','CDK','CK2']\n",
    "dups = [[f,f] for f in someKs]\n",
    "\n",
    "for pair in combinations(someKs,2):\n",
    "    i = numpy.where(fams==pair[0])[0][0]\n",
    "    j = numpy.where(fams==pair[1])[0][0]\n",
    "    p = famDistanceMatrix2[i][j]\n",
    "    print(pair[0],pair[1],p)\n",
    "for pair in dups:\n",
    "    i = numpy.where(fams==pair[0])[0][0]\n",
    "    j = numpy.where(fams==pair[1])[0][0]\n",
    "    p = famDistanceMatrix2[i][j]\n",
    "    print(pair[0],pair[1],p)"
   ]
  },
  {
   "cell_type": "code",
   "execution_count": 266,
   "metadata": {},
   "outputs": [],
   "source": [
    "maximum = numpy.max(famDistanceMatrix2)\n",
    "minimum = numpy.min(famDistanceMatrix2)\n",
    "\n",
    "famDistanceMatrix2_scaled = numpy.array((famDistanceMatrix2))\n",
    "for i in range(len(fams)):\n",
    "    for j in range(len(fams)):\n",
    "        famDistanceMatrix2_scaled[i][j] = 1 - float(famDistanceMatrix2[i][j]-minimum)/(maximum-minimum) "
   ]
  },
  {
   "cell_type": "code",
   "execution_count": 267,
   "metadata": {},
   "outputs": [
    {
     "name": "stdout",
     "output_type": "stream",
     "text": [
      "MAPK Src 0.4334640322858291\n",
      "MAPK PKC 0.42980573672768074\n",
      "MAPK PKA 0.4420239848516726\n",
      "MAPK CDK 0.3120735775900936\n",
      "MAPK CK2 0.3497580475489165\n",
      "MAPK Akt 0.4308015989901116\n",
      "Src PKC 0.47611906993350295\n",
      "Src PKA 0.5062471549069487\n",
      "Src CDK 0.4330241187384045\n",
      "Src CK2 0.4772794216093186\n",
      "Src Akt 0.48009104297764094\n",
      "PKC PKA 0.3435640648011783\n",
      "PKC CDK 0.4212964911050331\n",
      "PKC CK2 0.43220422189494356\n",
      "PKC Akt 0.23207331042382595\n",
      "PKA CDK 0.4396549547654114\n",
      "PKA CK2 0.46371134020618565\n",
      "PKA Akt 0.3034462444771724\n",
      "CDK CK2 0.3588049652850832\n",
      "CDK Akt 0.422806648432569\n",
      "CK2 Akt 0.42636229749631815\n"
     ]
    }
   ],
   "source": [
    "someKs = ['MAPK', 'Src','PKC','PKA','CDK','CK2','Akt']\n",
    "\n",
    "for pair in combinations(someKs,2):\n",
    "    i = numpy.where(fams==pair[0])[0][0]\n",
    "    j = numpy.where(fams==pair[1])[0][0]\n",
    "    p = famDistanceMatrix_pam[i][j]\n",
    "    print(pair[0],pair[1],p)"
   ]
  },
  {
   "cell_type": "code",
   "execution_count": 268,
   "metadata": {},
   "outputs": [],
   "source": [
    "famDistanceMatrix_pam = numpy.array((famDistanceMatrix2_scaled))\n",
    "\n",
    "import pandas\n",
    "df = pandas.DataFrame(famDistanceMatrix_pam,dtype=float)\n",
    "df.to_csv('Final_data/famDistanceMatrix_pam_19.10.16.csv',header=None,index=None)"
   ]
  },
  {
   "cell_type": "code",
   "execution_count": 269,
   "metadata": {},
   "outputs": [],
   "source": [
    "df = pandas.DataFrame(fams,dtype='U')\n",
    "df.to_csv('Final_data/fams_forPamDistMatrix_19.10.16.csv',header=None,index=None)"
   ]
  },
  {
   "cell_type": "code",
   "execution_count": 257,
   "metadata": {},
   "outputs": [
    {
     "data": {
      "text/plain": [
       "129"
      ]
     },
     "execution_count": 257,
     "metadata": {},
     "output_type": "execute_result"
    }
   ],
   "source": [
    "len(fams)"
   ]
  },
  {
   "cell_type": "code",
   "execution_count": 273,
   "metadata": {},
   "outputs": [
    {
     "data": {
      "text/plain": [
       "0.5107686400446803"
      ]
     },
     "execution_count": 273,
     "metadata": {},
     "output_type": "execute_result"
    }
   ],
   "source": [
    "famDistanceMatrix_pam[1][1]"
   ]
  },
  {
   "cell_type": "code",
   "execution_count": null,
   "metadata": {},
   "outputs": [],
   "source": []
  }
 ],
 "metadata": {
  "kernelspec": {
   "display_name": "Python 3",
   "language": "python",
   "name": "python3"
  },
  "language_info": {
   "codemirror_mode": {
    "name": "ipython",
    "version": 3
   },
   "file_extension": ".py",
   "mimetype": "text/x-python",
   "name": "python",
   "nbconvert_exporter": "python",
   "pygments_lexer": "ipython3",
   "version": "3.8.3"
  }
 },
 "nbformat": 4,
 "nbformat_minor": 2
}
