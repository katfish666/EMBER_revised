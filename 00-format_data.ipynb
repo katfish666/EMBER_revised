{
 "cells": [
  {
   "cell_type": "code",
   "execution_count": 1,
   "metadata": {},
   "outputs": [],
   "source": [
    "from numpy import genfromtxt\n",
    "import csv\n",
    "import numpy\n",
    "import random\n",
    "import pandas\n",
    "import re\n",
    "import time\n",
    "\n",
    "from IPython.display import Audio, display\n",
    "def allDone():\n",
    "    urL = 'https://www.wavsource.com/snds_2020-10-01_3728627494378403/animals/cat_meow2.wav'\n",
    "    display(Audio(url=urL, autoplay=True))\n",
    "# allDone()\n",
    "\n",
    "my_seed = 666\n",
    "random.seed(my_seed)"
   ]
  },
  {
   "cell_type": "code",
   "execution_count": 2,
   "metadata": {},
   "outputs": [],
   "source": [
    "amino_acids = 'XWGSAELQDMPFTRIHVNCY_K'\n",
    "\n",
    "my_fams = ['PKA', 'AKT', 'CDK', 'MAPK', 'SRC', 'CK2', 'PKC', 'PIKK']\n",
    "\n",
    "data_file = 'data_raw__for_nerds/'"
   ]
  },
  {
   "cell_type": "code",
   "execution_count": 4,
   "metadata": {},
   "outputs": [
    {
     "name": "stdout",
     "output_type": "stream",
     "text": [
      "number of kinases: 534\n",
      "['TEC', ['PSCTK4', 'TEC', 'P42680']]\n"
     ]
    }
   ],
   "source": [
    "test = genfromtxt(data_file + 'uniprot_gene_synsdict_19.01.07.csv', delimiter=',',dtype='U')\n",
    "uniprot_dict = {}  # { ..., uniprot id: [gene, [synonyms]] ,... }\n",
    "for line in test:\n",
    "    uniprot = line[0]\n",
    "    gene = line[1]\n",
    "    synonyms = list(set([x for x in line[2:] if x]))\n",
    "    uniprot_dict[uniprot] = [gene,synonyms]\n",
    "    \n",
    "for k,v in uniprot_dict.items():\n",
    "    v[1] = [x.upper() for x in v[1]]\n",
    "    \n",
    "print (\"number of kinases:\",len(uniprot_dict))\n",
    "print (uniprot_dict['P42680'])"
   ]
  },
  {
   "cell_type": "code",
   "execution_count": 6,
   "metadata": {},
   "outputs": [],
   "source": [
    "content_fams = genfromtxt(data_file + 'kinase_fams.csv', delimiter=',',dtype='U')\n",
    "\n",
    "fams = list(set([x[2].upper() for x in content_fams[1:]]))\n",
    "gene_symbols = list(set([x[3] for x in content_fams[1:]]))\n",
    "fams_and_symbs = [ [x[2],x[3]] for x in content_fams[1:]]\n",
    "\n",
    "kin_to_fam = { x[3].upper():x[2].upper() for x in content_fams[1:] }\n",
    "\n",
    "### had to manually google these names. i hope they're right\n",
    "kin_to_fam['PKN1'] = 'PKN'\n",
    "kin_to_fam['PKN2'] = 'PKN'\n",
    "kin_to_fam['PDPK1'] = 'PDK1'\n",
    "kin_to_fam['MAPKAPK3'] = 'MAPKAPK'\n",
    "kin_to_fam['PRKCA'] = 'PKC'\n",
    "kin_to_fam['ALPK3'] = 'ALPHA'\n",
    "kin_to_fam['SGK494'] = 'RSKR'\n",
    "kin_to_fam['NIM1K'] = 'ALPHA'\n",
    "kin_to_fam['FYN'] = 'SRC'\n",
    "kin_to_fam['MTOR'] = 'PIKK'\n",
    "kin_to_fam['PKG/CGK'] = 'PKG'\n",
    "kin_to_fam['PRKCB'] = 'PKC'\n",
    "kin_to_fam['GRK2'] = 'GRK'\n",
    "kin_to_fam['SGK1'] = 'SGK'\n",
    "kin_to_fam['CAM-KII'] = 'CAMK2'\n",
    "kin_to_fam['CAMKII'] = 'CAMK2'\n",
    "kin_to_fam['PKG2/CGK-II'] ='PKG'\n",
    "kin_to_fam['PKG2/CGK-I'] ='PKG'\n",
    "kin_to_fam['MAP2K'] ='STE7'\n",
    "kin_to_fam['RSK-5'] = 'RSK'\n",
    "kin_to_fam['RSK-4'] = 'RSK'\n",
    "kin_to_fam['RSK-3'] = 'RSK'\n",
    "kin_to_fam['RSK-2'] = 'RSK'\n",
    "kin_to_fam['RSK-1'] = 'RSK'\n",
    "kin_to_fam['CAM-KI'] = 'CAMK1'\n",
    "kin_to_fam['CDK1'] = 'CDK'"
   ]
  },
  {
   "cell_type": "code",
   "execution_count": 7,
   "metadata": {},
   "outputs": [
    {
     "name": "stdout",
     "output_type": "stream",
     "text": [
      "133\n"
     ]
    }
   ],
   "source": [
    "k_to_ms = {k.upper():[] for k in fams} # kinase to motifs dictionary\n",
    "print(len(k_to_ms))\n",
    "\n",
    "motifs = []\n",
    "kinases = []\n",
    "motifs_without_kinase = 0\n",
    "motifs_with_kinase = 0"
   ]
  },
  {
   "cell_type": "code",
   "execution_count": 10,
   "metadata": {},
   "outputs": [],
   "source": [
    "#####################################\n",
    "############ PHOSPHO_ELM ############\n",
    "#####################################\n",
    "\n",
    "with open (data_file + 'PhosphoELM_vertebrate',encoding=\"ISO-8859-1\") as file:\n",
    "    reader = csv.reader(file, delimiter='\\t')\n",
    "    content = [x for x in reader]\n",
    "    \n",
    "for i,line in enumerate(content[1:]):\n",
    "    \n",
    "    front_buff = False\n",
    "    back_buff = False\n",
    "    \n",
    "    seq = line[1]\n",
    "    center_idx = int(line[2])-1\n",
    "    \n",
    "    ### need to check if motif is shorter than 15 aa ... \n",
    "    start = center_idx - 7\n",
    "    if start<0:\n",
    "        front_buff = abs(start) * \"_\"\n",
    "    end = center_idx + 8\n",
    "    if end>=len(seq):\n",
    "        back_buff = (end - len(seq)) * \"_\"\n",
    "    \n",
    "    if front_buff:\n",
    "        motif = front_buff + seq[:end]\n",
    "    elif back_buff:\n",
    "        motif = seq[start:] + back_buff\n",
    "    else:\n",
    "        motif = seq[start:end]\n",
    "        \n",
    "    ### do not want to include histodine motifs ...\n",
    "    if motif[7] not in ['S','Y','T']: \n",
    "        continue \n",
    "    else:\n",
    "        motifs.append(motif)\n",
    "    \n",
    "    kinase = line[5].upper()\n",
    "    \n",
    "    if not kinase:\n",
    "        continue\n",
    "    if '_' in kinase:\n",
    "        kinase = kinase[:kinase.find('_')]\n",
    "        \n",
    "    key = 0\n",
    "    for uniprot,v in uniprot_dict.items():\n",
    "        synonyms = v[1]\n",
    "        gene = v[0]\n",
    "        if kinase in synonyms:\n",
    "            if gene not in kin_to_fam.keys():\n",
    "                if gene in fams:\n",
    "                    key = gene\n",
    "                end = re.search(\"\\d\", gene)\n",
    "                if not end:\n",
    "                    continue\n",
    "                key = gene[:end.start()]\n",
    "            else:\n",
    "                key = kin_to_fam[gene]\n",
    "            break \n",
    "            \n",
    "    if kinase in fams:\n",
    "        key = kinase\n",
    "    if kinase in kin_to_fam.keys():\n",
    "        key = kin_to_fam[kinase]\n",
    "    if key != 0:\n",
    "        motifs.append(motif)\n",
    "        if key in k_to_ms.keys():\n",
    "            k_to_ms[key].append(motif)\n",
    "        else:\n",
    "            k_to_ms[key] = [motif]\n",
    "    else:\n",
    "#         print(kinase) ### the \"bad\" kinases (not included in kin_to_fam)\n",
    "        continue "
   ]
  },
  {
   "cell_type": "code",
   "execution_count": 11,
   "metadata": {},
   "outputs": [
    {
     "name": "stdout",
     "output_type": "stream",
     "text": [
      "number of motifs: 31568\n",
      "number of interactions: 3333\n"
     ]
    }
   ],
   "source": [
    "print (\"number of motifs:\", len(set(motifs)))  \n",
    "\n",
    "k_to_ms = {k:list(set(v)) for k,v in k_to_ms.items()}\n",
    "\n",
    "total_interx = 0\n",
    "for k,v in k_to_ms.items():\n",
    "    total_interx+=len(v)\n",
    "print(\"number of interactions:\",total_interx)"
   ]
  },
  {
   "cell_type": "raw",
   "metadata": {},
   "source": [
    "OLD:\n",
    "number of motifs: 31568\n",
    "number of interactions: 3558"
   ]
  },
  {
   "cell_type": "code",
   "execution_count": 12,
   "metadata": {},
   "outputs": [],
   "source": [
    "motifs = list(set(motifs))\n",
    "\n",
    "### checks\n",
    "for motif in motifs:\n",
    "    if len(motif)!=15:\n",
    "        print(motif)\n",
    "    if motif[7] not in ['S','Y','T']:\n",
    "        print(motif,motif[7])"
   ]
  },
  {
   "cell_type": "code",
   "execution_count": 13,
   "metadata": {},
   "outputs": [
    {
     "name": "stdout",
     "output_type": "stream",
     "text": [
      "{'rat', 'cow', 'mouse', 'hamster', 'chicken', 'pig', 'herpesvirus', 'frog', 'human', 'dog', 'KIN_ORGANISM', 'rabbit', 'bacteria'}\n"
     ]
    }
   ],
   "source": [
    "orgs = []\n",
    "with open (data_file + '/PhosphositePlus',encoding=\"ISO-8859-1\") as myFile:\n",
    "    reader = csv.reader(myFile, delimiter='\\t')\n",
    "    content = [[x_sub for x_sub in x] for x in \n",
    "               reader if len(x)>=8]  # kinases\n",
    "for line in content:\n",
    "    orgs.append(line[3])\n",
    "    \n",
    "print(set(orgs))"
   ]
  },
  {
   "cell_type": "code",
   "execution_count": 14,
   "metadata": {},
   "outputs": [
    {
     "name": "stdout",
     "output_type": "stream",
     "text": [
      "['FYN', 'Fyn', 'P06241', 'human', 'SLAP-130', '2533', 'O15117', 'FYB1', 'human', 'Y571', '454079', 'TTAVEIDyDsLKLKK', '', ' ', 'X', '']\n",
      "number of motifs: 37729\n"
     ]
    }
   ],
   "source": [
    "##########################################\n",
    "############ PHOSPHOSITE_PLUS ############\n",
    "##########################################\n",
    "\n",
    "with open (data_file + 'PhosphositePlus',encoding=\"ISO-8859-1\") as myFile:\n",
    "    reader = csv.reader(myFile, delimiter='\\t')\n",
    "    content = [[x for x in line] for line in \n",
    "               reader if len(line)>=8 and line[3] not in \n",
    "               ['herpesvirus','KIN_ORGANISM','bacteria']]  ### vertebrates only\n",
    "for line in content:\n",
    "#     print(line)\n",
    "    uniprot = line[2][:6].upper()\n",
    "    gene = line[1].upper()\n",
    "    motif = line[11].upper()\n",
    "    if motif=='TTAVEIDYDSLKLKK':\n",
    "        print(line)\n",
    "    if motif[7] not in ['S','Y','T']:\n",
    "        continue\n",
    "#     print(uniprot,gene,motif)\n",
    "    if gene in k_to_ms.keys():\n",
    "        k_to_ms[gene].append(motif)\n",
    "        motifs.append(motif)\n",
    "        continue\n",
    "    elif uniprot in uniprot_dict.keys():\n",
    "        gene = uniprot_dict[uniprot][0]\n",
    "        if gene not in kin_to_fam.keys():\n",
    "            continue\n",
    "        fam = kin_to_fam[gene]\n",
    "        k_to_ms[fam].append(motif)\n",
    "        motifs.append(motif)\n",
    "        continue\n",
    "    elif gene in kin_to_fam.keys():\n",
    "        fam = kin_to_fam[gene]\n",
    "        k_to_ms[fam].append(motif)\n",
    "        motifs.append(motif)\n",
    "        continue\n",
    "    else:\n",
    "        for k,v in uniprot_dict.items():\n",
    "            if gene in v[1]:\n",
    "                gene = v[0]\n",
    "                if gene not in kin_to_fam.keys():\n",
    "#                     print (\"not included:\",gene,uniprot)\n",
    "                    continue\n",
    "                fam = kin_to_fam[gene]\n",
    "                k_to_ms[fam].append(motif)\n",
    "                motifs.append(motif)\n",
    "        continue\n",
    "print (\"number of motifs:\", len(set(motifs)))"
   ]
  },
  {
   "cell_type": "raw",
   "metadata": {},
   "source": [
    "number of motifs: 37729"
   ]
  },
  {
   "cell_type": "code",
   "execution_count": 15,
   "metadata": {},
   "outputs": [
    {
     "name": "stdout",
     "output_type": "stream",
     "text": [
      "number of interactions: 14083\n"
     ]
    }
   ],
   "source": [
    "k_to_ms = {k:list(set(v)) for k,v in k_to_ms.items()}\n",
    "\n",
    "total_interx = 0\n",
    "for k,v in k_to_ms.items():\n",
    "    total_interx+=len(v)\n",
    "print(\"number of interactions:\",total_interx)"
   ]
  },
  {
   "cell_type": "raw",
   "metadata": {},
   "source": [
    "OLD:\n",
    "number of interactions: 14160"
   ]
  },
  {
   "cell_type": "code",
   "execution_count": 16,
   "metadata": {},
   "outputs": [],
   "source": [
    "motifs = list(set(motifs))\n",
    "\n",
    "### checks\n",
    "for motif in motifs:\n",
    "    if len(motif)!=15:\n",
    "        print(motif)\n",
    "    if motif[7] not in ['S','Y','T']:\n",
    "        print(motif,motif[7])"
   ]
  },
  {
   "cell_type": "code",
   "execution_count": 17,
   "metadata": {},
   "outputs": [
    {
     "name": "stdout",
     "output_type": "stream",
     "text": [
      "BAD: PIK3C3\n",
      "number of motifs: 39525\n"
     ]
    }
   ],
   "source": [
    "##########################################\n",
    "############ PHOSPHO_NETWORKS ############\n",
    "##########################################\n",
    "\n",
    "### ... these are all human kinases and motifs\n",
    "\n",
    "with open (data_file + 'PhosphoNetworks',encoding=\"ISO-8859-1\") as myFile:\n",
    "    reader = csv.reader(myFile, delimiter='\\t')\n",
    "    content2 = [x for x in reader]\n",
    "    \n",
    "content_np2 = numpy.array(content2,dtype=object)\n",
    "key = 0\n",
    "for i,each in enumerate(content_np2):\n",
    "    if each[0][0]=='>':\n",
    "        key = 0\n",
    "        kinase = each[0][1:]\n",
    "        if 'CDK' in kinase:\n",
    "            key = 'Q14004'\n",
    "        else:\n",
    "            for uniprot,v in uniprot_dict.items():\n",
    "                syns = v[1]\n",
    "                if kinase in syns:\n",
    "                    key = uniprot\n",
    "                    break  ##################################\n",
    "            else:\n",
    "                print(\"BAD:\",kinase)\n",
    "                key = 0\n",
    "        continue\n",
    "    if key != 0:\n",
    "        gene = uniprot_dict[uniprot][0]\n",
    "        if gene not in kin_to_fam.keys():\n",
    "            key = 0\n",
    "            continue\n",
    "        fam = kin_to_fam[gene]\n",
    "        motif = each[0].upper()\n",
    "        motif = motif.replace(\"-\", \"_\")\n",
    "\n",
    "        length = 15\n",
    "        \n",
    "        if motif and len(motif)==length and all(char in amino_acids for char in motif) and motif[len(motif)//2] in ['S','T','Y']:  \n",
    "            motifs.append(motif)\n",
    "            k_to_ms[fam].append(motif)\n",
    "        else:\n",
    "            print(i,key,'-',motif,content2[i])\n",
    "        \n",
    "k_to_ms = {k:list(set(v)) for k,v in k_to_ms.items()} # list-set the dict ! \n",
    "print (\"number of motifs:\", len(set(motifs)))"
   ]
  },
  {
   "cell_type": "raw",
   "metadata": {},
   "source": [
    "number of motifs: 39525"
   ]
  },
  {
   "cell_type": "code",
   "execution_count": 18,
   "metadata": {},
   "outputs": [
    {
     "name": "stdout",
     "output_type": "stream",
     "text": [
      "number of kinases that have motifs: 120\n"
     ]
    }
   ],
   "source": [
    "k_to_ms = {k:list(set(v)) for k,v in k_to_ms.items() if len(v) > 0}\n",
    "print(\"number of kinases that have motifs:\", len(k_to_ms))\n"
   ]
  },
  {
   "cell_type": "code",
   "execution_count": 19,
   "metadata": {},
   "outputs": [
    {
     "name": "stdout",
     "output_type": "stream",
     "text": [
      "number of interactions: 23015\n",
      "number of motifs: 14061\n"
     ]
    }
   ],
   "source": [
    "total_interx = 0\n",
    "for k,v in k_to_ms.items():\n",
    "    total_interx+=len(v)\n",
    "print(\"number of interactions:\",total_interx)\n",
    "\n",
    "m = []\n",
    "for k,v in k_to_ms.items():\n",
    "    m.extend(v)\n",
    "print(\"number of motifs:\",len(set(m)))"
   ]
  },
  {
   "cell_type": "raw",
   "metadata": {},
   "source": [
    "number of interactions: 23084\n",
    "number of motifs: 14089"
   ]
  },
  {
   "cell_type": "code",
   "execution_count": 27,
   "metadata": {},
   "outputs": [
    {
     "name": "stdout",
     "output_type": "stream",
     "text": [
      "7863\n"
     ]
    }
   ],
   "source": [
    "WHICH_FAMS = my_fams #[k for k in k_to_ms.keys()] # my_fams\n",
    "\n",
    "pop_motifs = []\n",
    "for k,v in k_to_ms.items():\n",
    "    if k in WHICH_FAMS:\n",
    "        for motif in v:\n",
    "            pop_motifs.append(motif)\n",
    "            \n",
    "pop_motifs = list(set(pop_motifs))\n",
    "pop_motifs = numpy.array((pop_motifs))\n",
    "pop_fams = numpy.array((WHICH_FAMS))\n",
    "\n",
    "motifxFamMatrix = numpy.zeros((len(pop_motifs),len(pop_fams)))\n",
    "        \n",
    "for motif in pop_motifs:\n",
    "    mIdx = numpy.where(pop_motifs==motif)[0][0]\n",
    "    for fam in pop_fams:\n",
    "        fIdx = numpy.where(pop_fams==fam)[0][0]\n",
    "        if motif in k_to_ms[fam]:\n",
    "            motifxFamMatrix[mIdx][fIdx] = 1\n",
    "print(len(pop_motifs))"
   ]
  },
  {
   "cell_type": "code",
   "execution_count": 28,
   "metadata": {},
   "outputs": [
    {
     "name": "stdout",
     "output_type": "stream",
     "text": [
      "PKC 1821\n",
      "PKA 1546\n",
      "MAPK 1516\n",
      "CDK 1216\n",
      "SRC 1015\n",
      "CK2 904\n",
      "CAMK-UNIQUE 861\n",
      "CAMKL 727\n",
      "STE20 714\n",
      "CK1 578\n",
      "PIKK 571\n",
      "DYRK 554\n",
      "RSK 545\n",
      "NEK 474\n",
      "AKT 464\n",
      "CAMK2 449\n",
      "GSK 448\n",
      "MAPKAPK 395\n",
      "MLK 388\n",
      "PLK 363\n",
      "AUR 323\n",
      "IKK 320\n",
      "STKR 306\n",
      "GRK 295\n",
      "ABL 209\n",
      "CLK 193\n",
      "ALPHA 188\n",
      "NAK 186\n",
      "RAF 185\n",
      "SCY1 178\n",
      "PKG 168\n",
      "PIM 158\n",
      "STE7 145\n",
      "JAK 134\n",
      "EGFR 134\n",
      "NDR 131\n",
      "DAPK 130\n",
      "TTK 130\n",
      "SYK 127\n",
      "CAMK1 116\n",
      "WEE 115\n",
      "TEC 114\n",
      "RAD53 113\n",
      "DMPK 113\n",
      "CAMKK 102\n",
      "IRAK 101\n",
      "FGFR 97\n",
      "BUB 96\n",
      "PKD 95\n",
      "PDK1 95\n",
      "ULK 94\n",
      "INSR 94\n",
      "SGK 91\n",
      "FAK 87\n",
      "VRK 87\n",
      "TSSK 87\n",
      "MLCK 85\n",
      "PKN 84\n",
      "EPH 82\n",
      "PDGFR 80\n",
      "FAST 78\n",
      "RIPK 77\n",
      "RIO 71\n",
      "LRRK 70\n",
      "YANK 65\n",
      "STE-UNIQUE 59\n",
      "LISK 56\n",
      "MOS 55\n",
      "PEK 55\n",
      "NRBP 53\n",
      "ABC1 48\n",
      "TTBK 48\n",
      "TRK 47\n",
      "MAST 46\n",
      "RET 45\n",
      "STE11 45\n",
      "SRPK 45\n",
      "AXL 42\n",
      "MET 41\n",
      "CDC7 39\n",
      "PDHK 39\n",
      "KIS 39\n",
      "WNK 38\n",
      "SGK495 37\n",
      "PHK 36\n",
      "NKF4 35\n",
      "TRBL 34\n",
      "RGC 33\n",
      "TOPK 31\n",
      "RSKR 30\n",
      "FER 29\n",
      "CSK 29\n",
      "NKF2 28\n",
      "VEGFR 27\n",
      "TK-UNIQUE 26\n",
      "DDR 25\n",
      "VPS15 24\n",
      "ACK 20\n",
      "SLOB 16\n",
      "RCK 16\n",
      "TKL-UNIQUE 16\n",
      "RSKL 14\n",
      "ALK 13\n",
      "OTHER-UNIQUE 13\n",
      "SIK 12\n",
      "TLK 9\n",
      "TIE 6\n",
      "MUSK 5\n",
      "CASK 5\n",
      "PIK 5\n",
      "TAF1 4\n",
      "DCAMKL 4\n",
      "CDKL 4\n",
      "LMR 3\n",
      "BCR 3\n",
      "IRE 1\n",
      "HASPIN 1\n",
      "BRD 1\n",
      "BUD32 1\n",
      "PAK 1\n"
     ]
    }
   ],
   "source": [
    "for key, value in sorted(k_to_ms.items(), key=lambda x: len(x[1]), reverse=True):\n",
    "    print(key, len(value))"
   ]
  },
  {
   "cell_type": "code",
   "execution_count": 29,
   "metadata": {},
   "outputs": [
    {
     "name": "stdout",
     "output_type": "stream",
     "text": [
      "AKT 3\n",
      "CDK 21\n",
      "CK2 2\n",
      "MAPK 14\n",
      "PIKK 7\n",
      "PKA 5\n",
      "PKC 10\n",
      "SRC 11\n"
     ]
    }
   ],
   "source": [
    "fams_alphOrder = ['AKT','CDK','CK2',\"MAPK\",\"PIKK\", \"PKA\",\"PKC\",\"SRC\"]\n",
    "\n",
    "num_kins_per_fam = {f:[] for f in my_fams}\n",
    "for k,v in kin_to_fam.items():\n",
    "    if v in my_fams:\n",
    "        num_kins_per_fam[v].append(k)\n",
    "\n",
    "for f in fams_alphOrder:\n",
    "    print(f,len(num_kins_per_fam[f]))"
   ]
  },
  {
   "cell_type": "code",
   "execution_count": 38,
   "metadata": {},
   "outputs": [],
   "source": [
    "########################\n",
    "# 8 fams !!!!\n",
    "########################\n",
    "\n",
    "data_dir = \"data__for_nerds/\"\n",
    "\n",
    "# df = pandas.DataFrame(pop_motifs,dtype='U')\n",
    "# df.to_csv(data_dir + 'all_motifs.csv',header=None,index=None)\n",
    "# df = pandas.DataFrame(pop_fams,dtype='U')\n",
    "# df.to_csv(data_dir + 'all_fams.csv',header=None,index=None)\n",
    "# df = pandas.DataFrame(motifxFamMatrix,dtype=int)\n",
    "# df.to_csv(data_dir + 'all_motifxFamMatrix.csv',header=None,index=None)"
   ]
  },
  {
   "cell_type": "code",
   "execution_count": 31,
   "metadata": {},
   "outputs": [
    {
     "data": {
      "text/plain": [
       "7863"
      ]
     },
     "execution_count": 31,
     "metadata": {},
     "output_type": "execute_result"
    }
   ],
   "source": [
    "len(pop_motifs)"
   ]
  },
  {
   "cell_type": "raw",
   "metadata": {},
   "source": [
    "Total motifs for 8 fams: 7866\n",
    "Total motifs for all fams: 14089"
   ]
  },
  {
   "cell_type": "markdown",
   "metadata": {},
   "source": [
    "## Get the test indices ! ... first, try automatic through sklearn"
   ]
  },
  {
   "cell_type": "code",
   "execution_count": 32,
   "metadata": {},
   "outputs": [],
   "source": [
    "motifs = pop_motifs\n",
    "fams = pop_fams"
   ]
  },
  {
   "cell_type": "code",
   "execution_count": 33,
   "metadata": {
    "scrolled": false
   },
   "outputs": [
    {
     "name": "stdout",
     "output_type": "stream",
     "text": [
      "6683 1180\n",
      "PKA 1314.0 232.0\n",
      "AKT 400.0 64.0\n",
      "CDK 1033.0 183.0\n",
      "MAPK 1298.0 218.0\n",
      "SRC 863.0 152.0\n",
      "CK2 766.0 138.0\n",
      "PKC 1544.0 277.0\n",
      "PIKK 488.0 83.0\n",
      "\n",
      " Pearson: (0.9977260858564009, 2.9344130230023033e-08)\n"
     ]
    },
    {
     "data": {
      "image/png": "[encoded data removed]",
      "text/plain": [
       "<Figure size 432x288 with 1 Axes>"
      ]
     },
     "metadata": {
      "needs_background": "light"
     },
     "output_type": "display_data"
    },
    {
     "data": {
      "image/png": "[encoded data removed]",
      "text/plain": [
       "<Figure size 432x288 with 1 Axes>"
      ]
     },
     "metadata": {
      "needs_background": "light"
     },
     "output_type": "display_data"
    }
   ],
   "source": [
    "import numpy as np\n",
    "\n",
    "from sklearn.model_selection import train_test_split\n",
    "\n",
    "X_train, X_test = train_test_split(range(len(motifs)), test_size=0.15, random_state=666)\n",
    "print(len(X_train), len(X_test))\n",
    "\n",
    "X_tr = motifxFamMatrix[X_train]\n",
    "X_te = motifxFamMatrix[X_test]\n",
    "\n",
    "def get_iterx_sums(X):\n",
    "    to_plot = []\n",
    "    for i,col in enumerate(X.T):\n",
    "        to_plot.append([fams[i], np.sum(col)])\n",
    "    return to_plot\n",
    "\n",
    "train_plot = get_iterx_sums(X_tr)\n",
    "test_plot = get_iterx_sums(X_te)\n",
    "\n",
    "for fi, fam in enumerate(fams):\n",
    "    print(fam, train_plot[fi][1], test_plot[fi][1])\n",
    "\n",
    "from scipy.stats.stats import pearsonr   \n",
    "print (\"\\n\",\"Pearson:\",pearsonr([x[1] for x in train_plot],[x[1] for x in test_plot]))\n",
    "\n",
    "import matplotlib.pyplot as plt\n",
    "%matplotlib inline\n",
    "\n",
    "y_pos = range(len(fams))\n",
    "plt.bar(y_pos, [x[1] for x in train_plot])\n",
    "plt.xticks(y_pos, fams)\n",
    "plt.show()\n",
    "\n",
    "plt.bar(y_pos, [x[1] for x in test_plot])\n",
    "plt.xticks(y_pos, fams)\n",
    "plt.show()"
   ]
  },
  {
   "cell_type": "markdown",
   "metadata": {},
   "source": [
    "## Try manual test/train split ..."
   ]
  },
  {
   "cell_type": "code",
   "execution_count": 36,
   "metadata": {},
   "outputs": [
    {
     "name": "stdout",
     "output_type": "stream",
     "text": [
      "fam: PKA\n",
      "fam: AKT\n",
      "fam: CDK\n",
      "fam: MAPK\n",
      "fam: SRC\n",
      "fam: CK2\n",
      "fam: PKC\n",
      "fam: PIKK\n"
     ]
    }
   ],
   "source": [
    "idc = [x for x in range(len(motifs))]\n",
    "random.Random(my_seed).shuffle(idc)\n",
    "\n",
    "test_idc = []\n",
    "for fi,fam in enumerate(fams):\n",
    "    test_set_size = int(sum(motifxFamMatrix.T[fi]) * 0.15 )\n",
    "    positive_idc = [mi for mi in idc if motifxFamMatrix[mi][fi]==1]\n",
    "    idc_sample = random.Random(my_seed).sample(positive_idc,test_set_size)\n",
    "    test_idc.extend(idc_sample)\n",
    "    print(\"fam:\",fam)\n",
    "test_idc = list(set(test_idc))\n",
    "\n",
    "# data_dir = \"data__for_nerds/\"\n",
    "\n",
    "# df = pandas.DataFrame(test_idc,dtype=int)\n",
    "# df.to_csv(data_dir + 'test_idc.csv',header=None,index=None)"
   ]
  },
  {
   "cell_type": "code",
   "execution_count": 37,
   "metadata": {},
   "outputs": [
    {
     "name": "stdout",
     "output_type": "stream",
     "text": [
      "(0.9629802238046321, 0.0001233401633600008)\n"
     ]
    },
    {
     "data": {
      "image/png": "[encoded data removed]",
      "text/plain": [
       "<Figure size 432x288 with 1 Axes>"
      ]
     },
     "metadata": {
      "needs_background": "light"
     },
     "output_type": "display_data"
    },
    {
     "data": {
      "image/png": "[encoded data removed]",
      "text/plain": [
       "<Figure size 432x288 with 1 Axes>"
      ]
     },
     "metadata": {
      "needs_background": "light"
     },
     "output_type": "display_data"
    }
   ],
   "source": [
    "train_idc = [i for i in range(len(motifs)) if i not in test_idc]\n",
    "\n",
    "X_tr = motifxFamMatrix[train_idc]\n",
    "X_te = motifxFamMatrix[test_idc]\n",
    "\n",
    "train_plot = get_iterx_sums(X_tr)\n",
    "test_plot = get_iterx_sums(X_te)\n",
    "\n",
    "from scipy.stats.stats import pearsonr   \n",
    "print (pearsonr([x[1] for x in train_plot],[x[1] for x in test_plot]))\n",
    "\n",
    "import matplotlib.pyplot as plt\n",
    "%matplotlib inline\n",
    "\n",
    "y_pos = range(len(fams))\n",
    "plt.bar(y_pos, [x[1] for x in train_plot])\n",
    "plt.xticks(y_pos, fams)\n",
    "plt.show()\n",
    "\n",
    "plt.bar(y_pos, [x[1] for x in test_plot])\n",
    "plt.xticks(y_pos, fams)\n",
    "plt.show()"
   ]
  },
  {
   "cell_type": "markdown",
   "metadata": {},
   "source": [
    "## <font color=blue> NOTE: Decided to use automatic test/train split because it gives closer distribution of test to training interactions."
   ]
  },
  {
   "cell_type": "code",
   "execution_count": 34,
   "metadata": {},
   "outputs": [],
   "source": [
    "# out_file = open(\"train_seqs.fasta\", \"w\")\n",
    "# for i,motif in enumerate(motifs[X_train]):\n",
    "#     out_file.write(\">\" + str(i) + \"\\n\" + motif + \"\\n\")\n",
    "# out_file.close()\n",
    "\n",
    "# out_file = open(\"test_seqs.fasta\", \"w\")\n",
    "# for i,motif in enumerate(motifs[X_test]):\n",
    "#     out_file.write(\">\" + str(i) + \"\\n\" + motif + \"\\n\")\n",
    "# out_file.close()"
   ]
  },
  {
   "cell_type": "code",
   "execution_count": 40,
   "metadata": {},
   "outputs": [],
   "source": [
    "# df = pandas.DataFrame(motifxFamMatrix[train_idc],dtype=int)\n",
    "# df.to_csv(data_dir + 'train_motifxFamMatrix.csv',header=None,index=None)\n",
    "\n",
    "# df = pandas.DataFrame(motifs[train_idc],dtype='U')\n",
    "# df.to_csv(data_dir + 'train_motifs.csv',header=None,index=None)\n",
    "\n",
    "# df = pandas.DataFrame(motifxFamMatrix[test_idc],dtype=int)\n",
    "# df.to_csv(data_dir + 'test_motifxFamMatrix.csv',header=None,index=None)\n",
    "\n",
    "# df = pandas.DataFrame(motifs[test_idc],dtype='U')\n",
    "# df.to_csv(data_dir + 'test_motifs.csv',header=None,index=None)\n",
    "\n",
    "# df = pandas.DataFrame(fams,dtype='U')\n",
    "# df.to_csv(data_dir + 'fams.csv',header=None,index=None)"
   ]
  },
  {
   "cell_type": "code",
   "execution_count": 41,
   "metadata": {},
   "outputs": [],
   "source": [
    "df = pandas.DataFrame(motifxFamMatrix,dtype=int)\n",
    "df.to_csv(data_dir + 'motifxFamMatrix.csv',header=None,index=None)\n",
    "\n",
    "df = pandas.DataFrame(motifs,dtype='U')\n",
    "df.to_csv(data_dir + 'motifs.csv',header=None,index=None)"
   ]
  },
  {
   "cell_type": "code",
   "execution_count": null,
   "metadata": {},
   "outputs": [],
   "source": []
  }
 ],
 "metadata": {
  "kernelspec": {
   "display_name": "Python 3",
   "language": "python",
   "name": "python3"
  },
  "language_info": {
   "codemirror_mode": {
    "name": "ipython",
    "version": 3
   },
   "file_extension": ".py",
   "mimetype": "text/x-python",
   "name": "python",
   "nbconvert_exporter": "python",
   "pygments_lexer": "ipython3",
   "version": "3.8.3"
  }
 },
 "nbformat": 4,
 "nbformat_minor": 2
}
